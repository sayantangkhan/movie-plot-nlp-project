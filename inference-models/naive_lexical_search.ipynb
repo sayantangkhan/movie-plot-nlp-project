{
  "nbformat": 4,
  "nbformat_minor": 0,
  "metadata": {
    "colab": {
      "name": "naive-lexical-search.ipynb",
      "provenance": [],
      "collapsed_sections": []
    },
    "kernelspec": {
      "name": "python3",
      "display_name": "Python 3"
    },
    "language_info": {
      "name": "python"
    }
  },
  "cells": [
    {
      "cell_type": "markdown",
      "source": [
        "## Installing `sentence-transformers`"
      ],
      "metadata": {
        "id": "H6K0jtELnY7N"
      }
    },
    {
      "cell_type": "code",
      "execution_count": null,
      "metadata": {
        "colab": {
          "base_uri": "https://localhost:8080/"
        },
        "id": "benkq9oInSis",
        "outputId": "5023139c-16e8-4d29-d868-1cef12d5d3b6"
      },
      "outputs": [
        {
          "output_type": "stream",
          "name": "stdout",
          "text": [
            "Looking in indexes: https://pypi.org/simple, https://us-python.pkg.dev/colab-wheels/public/simple/\n",
            "Collecting rank_bm25\n",
            "  Downloading rank_bm25-0.2.2-py3-none-any.whl (8.6 kB)\n",
            "Requirement already satisfied: numpy in /usr/local/lib/python3.7/dist-packages (from rank_bm25) (1.21.6)\n",
            "Installing collected packages: rank-bm25\n",
            "Successfully installed rank-bm25-0.2.2\n"
          ]
        }
      ],
      "source": [
        "!pip install rank_bm25"
      ]
    },
    {
      "cell_type": "code",
      "source": [
        "# All the necessary imports\n",
        "\n",
        "from rank_bm25 import BM25Okapi\n",
        "from sklearn.feature_extraction import _stop_words\n",
        "import string\n",
        "from tqdm.autonotebook import tqdm\n",
        "import numpy as np\n",
        "import pandas as pd\n",
        "import ast"
      ],
      "metadata": {
        "id": "zIHDoIW_o0w7",
        "colab": {
          "base_uri": "https://localhost:8080/"
        },
        "outputId": "bda465ca-4d4d-4417-9a56-82e995a0ef02"
      },
      "execution_count": null,
      "outputs": [
        {
          "output_type": "stream",
          "name": "stderr",
          "text": [
            "/usr/local/lib/python3.7/dist-packages/ipykernel_launcher.py:6: TqdmExperimentalWarning: Using `tqdm.autonotebook.tqdm` in notebook mode. Use `tqdm.tqdm` instead to force console mode (e.g. in jupyter console)\n",
            "  \n"
          ]
        }
      ]
    },
    {
      "cell_type": "code",
      "source": [
        "# Some hyperparameters\n",
        "\n",
        "pre_prune_results = 100\n",
        "results_to_show = 10"
      ],
      "metadata": {
        "id": "TWUJkDNPpeuQ"
      },
      "execution_count": null,
      "outputs": []
    },
    {
      "cell_type": "code",
      "source": [
        "# Mount drive and load datasets and model\n",
        "\n",
        "from google.colab import drive\n",
        "drive.mount(\"/content/gdrive\")\n",
        "\n",
        "plots = pd.read_csv(\"/content/gdrive/MyDrive/wiki_with_revenue.csv\", compression=\"zip\", converters={'to_embed': ast.literal_eval})\n",
        "test_queries = pd.read_csv(\"/content/gdrive/MyDrive/summaries_test.csv\", compression=\"zip\")\n",
        "id_and_summary = pd.read_csv(\"/content/gdrive/MyDrive/id_and_summary.csv\", compression=\"zip\")"
      ],
      "metadata": {
        "colab": {
          "base_uri": "https://localhost:8080/"
        },
        "id": "azFwxFY4oD7h",
        "outputId": "b59d8d2a-f137-4a00-ba67-5156bae767f0"
      },
      "execution_count": null,
      "outputs": [
        {
          "output_type": "stream",
          "name": "stdout",
          "text": [
            "Mounted at /content/gdrive\n"
          ]
        }
      ]
    },
    {
      "cell_type": "code",
      "source": [
        "# We lower case our text and remove stop-words from indexing\n",
        "def bm25_tokenizer(text):\n",
        "    tokenized_doc = []\n",
        "    for token in text.lower().split():\n",
        "        token = token.strip(string.punctuation)\n",
        "\n",
        "        if len(token) > 0 and token not in _stop_words.ENGLISH_STOP_WORDS:\n",
        "            tokenized_doc.append(token)\n",
        "    return tokenized_doc"
      ],
      "metadata": {
        "id": "mr-iOcUq6Sxs"
      },
      "execution_count": null,
      "outputs": []
    },
    {
      "cell_type": "code",
      "source": [
        "tokenized_corpus = []\n",
        "for passage in id_and_summary['to_embed']:\n",
        "  tokenized_corpus.append(bm25_tokenizer(passage))\n",
        "\n",
        "bm25 = BM25Okapi(tokenized_corpus)"
      ],
      "metadata": {
        "id": "CTJEslWI7Np2"
      },
      "execution_count": null,
      "outputs": []
    },
    {
      "cell_type": "code",
      "source": [
        "# Function to query and return top `results_to_show` with associated score\n",
        "\n",
        "def lexical_query(query_string, bm25_corpus, id_and_summary, wiki_dataset):\n",
        "  bm25_scores = bm25.get_scores(bm25_tokenizer(query_string))\n",
        "  top_n = np.argpartition(bm25_scores, -pre_prune_results)[-pre_prune_results:]\n",
        "  bm25_hits = [{'corpus_id': idx, 'score': bm25_scores[idx]} for idx in top_n]\n",
        "  bm25_hits = sorted(bm25_hits, key=lambda x: x['score'], reverse=True)\n",
        "\n",
        "  results = []\n",
        "  for raw_res in bm25_hits:\n",
        "    if len(results) >= 10:\n",
        "      break\n",
        "\n",
        "    corpus_id = raw_res['corpus_id']\n",
        "    score = raw_res['score']\n",
        "    movie_id = id_and_summary['MovieId'][corpus_id]\n",
        "    movie_title = wiki_dataset['Title'][movie_id]\n",
        "    movie_year = wiki_dataset['Release Year'][movie_id]\n",
        "    if movie_title.strip() not in map(lambda x: x[0][0].strip(), results):\n",
        "      results.append(((movie_title, movie_year), score))\n",
        "  return results\n",
        "\n",
        "def measure_accuracy(query_dataset, bm25_corpus, id_and_summary, wiki_dataset):\n",
        "  total = 0\n",
        "  correct = 0\n",
        "\n",
        "  for row in query_dataset.iterrows():\n",
        "    query_string = row[1]['SummaryFragment']\n",
        "    movie_id = row[1]['MovieId']\n",
        "\n",
        "    hits = lexical_query(query_string, bm25_corpus, id_and_summary, wiki_dataset)\n",
        "    movie_title = wiki_dataset['Title'][movie_id]\n",
        "    if movie_title.strip() in map(lambda x: x[0][0].strip(), hits):\n",
        "      correct += 1\n",
        "    total += 1\n",
        "\n",
        "  return correct/total"
      ],
      "metadata": {
        "id": "K3ZN7Y8IsqsW"
      },
      "execution_count": null,
      "outputs": []
    },
    {
      "cell_type": "code",
      "source": [
        "query = \"couple walks through paris all night\"\n",
        "\n",
        "lexical_query(query, bm25, id_and_summary, plots)"
      ],
      "metadata": {
        "colab": {
          "base_uri": "https://localhost:8080/"
        },
        "id": "oScJwqLm5ZDi",
        "outputId": "22e9078c-6061-446b-8200-a5d696c9d406"
      },
      "execution_count": null,
      "outputs": [
        {
          "output_type": "execute_result",
          "data": {
            "text/plain": [
              "[(('Careers', 1929), 12.915008327355313),\n",
              " (('Mischief', 1931), 12.661145357302047),\n",
              " ((\"Devil's Due\", 2014), 12.571518863828018),\n",
              " (('Istanbul', 1957), 12.179341408524975),\n",
              " (('Witness', 1985), 12.086338509752773),\n",
              " (('The Strange One', 1957), 11.75522355853468),\n",
              " (('The Man Who Reclaimed His Head', 1934), 11.710258811839108),\n",
              " (('Target', 1985), 11.107241169779607),\n",
              " (('Four Girls in Town', 1957), 11.06112319114832),\n",
              " (('Le Week-End', 2013), 10.982310168457605)]"
            ]
          },
          "metadata": {},
          "execution_count": 10
        }
      ]
    },
    {
      "cell_type": "markdown",
      "source": [
        "## Testing performance on artificial query set"
      ],
      "metadata": {
        "id": "alkTWMZXCKER"
      }
    },
    {
      "cell_type": "code",
      "source": [
        "test_queries"
      ],
      "metadata": {
        "colab": {
          "base_uri": "https://localhost:8080/",
          "height": 641
        },
        "id": "1hyOKiq16BQ4",
        "outputId": "22e7cf5e-0f81-4b64-9701-ebe2791d97bf"
      },
      "execution_count": null,
      "outputs": [
        {
          "output_type": "execute_result",
          "data": {
            "text/plain": [
              "       MovieId                                      PlotFragments  \\\n",
              "0        25782  It is also known that Prince Vijay, nephew of ...   \n",
              "1        17655  One Valentine's evening a group of single, dat...   \n",
              "2        19695  Charlie's friends won't tell him where Maggie ...   \n",
              "3        20660  Thomas Smithers (Postlethwaite), who has made ...   \n",
              "4        22022  The plot revolves around the life of aspiring ...   \n",
              "...        ...                                                ...   \n",
              "24743    11406  Bill's wishes end up causing more trouble due ...   \n",
              "24744     6930  Jesse (Robert Wagner) and Frank James (Jeffrey...   \n",
              "24745    30788  Aadhi feels that Dhana has changed a lot, so A...   \n",
              "24746    25561  Amateur boxer Ajay Mehra (Sunny Deol) is livin...   \n",
              "24747    24223  The parents find it difficult to come to terms...   \n",
              "\n",
              "                                         SummaryFragment  summary_length  \n",
              "0      the film now moves to Kiran's hotel, where ama...              18  \n",
              "1      Brett (Guy Pearce) is a science journalist for...              12  \n",
              "2      Charlie's friends won't tell him where Maggie ...              18  \n",
              "3      Thomas Smithers (Postlethwaite) hires the famo...              21  \n",
              "4      plot revolves around the life of aspiring writ...              15  \n",
              "...                                                  ...             ...  \n",
              "24743  bill's wishes end up causing more trouble due ...              12  \n",
              "24744  Jesse (Robert Wagner) and Frank James (Jeffrey...              16  \n",
              "24745  aadhi attempts to send Dhana in jail for a mur...              16  \n",
              "24746  boxer is living with his brother and sister-in...              11  \n",
              "24747  parents find it difficult to come to terms wit...              22  \n",
              "\n",
              "[24748 rows x 4 columns]"
            ],
            "text/html": [
              "\n",
              "  <div id=\"df-c22a8180-150f-4ef4-9adc-25063cec9d34\">\n",
              "    <div class=\"colab-df-container\">\n",
              "      <div>\n",
              "<style scoped>\n",
              "    .dataframe tbody tr th:only-of-type {\n",
              "        vertical-align: middle;\n",
              "    }\n",
              "\n",
              "    .dataframe tbody tr th {\n",
              "        vertical-align: top;\n",
              "    }\n",
              "\n",
              "    .dataframe thead th {\n",
              "        text-align: right;\n",
              "    }\n",
              "</style>\n",
              "<table border=\"1\" class=\"dataframe\">\n",
              "  <thead>\n",
              "    <tr style=\"text-align: right;\">\n",
              "      <th></th>\n",
              "      <th>MovieId</th>\n",
              "      <th>PlotFragments</th>\n",
              "      <th>SummaryFragment</th>\n",
              "      <th>summary_length</th>\n",
              "    </tr>\n",
              "  </thead>\n",
              "  <tbody>\n",
              "    <tr>\n",
              "      <th>0</th>\n",
              "      <td>25782</td>\n",
              "      <td>It is also known that Prince Vijay, nephew of ...</td>\n",
              "      <td>the film now moves to Kiran's hotel, where ama...</td>\n",
              "      <td>18</td>\n",
              "    </tr>\n",
              "    <tr>\n",
              "      <th>1</th>\n",
              "      <td>17655</td>\n",
              "      <td>One Valentine's evening a group of single, dat...</td>\n",
              "      <td>Brett (Guy Pearce) is a science journalist for...</td>\n",
              "      <td>12</td>\n",
              "    </tr>\n",
              "    <tr>\n",
              "      <th>2</th>\n",
              "      <td>19695</td>\n",
              "      <td>Charlie's friends won't tell him where Maggie ...</td>\n",
              "      <td>Charlie's friends won't tell him where Maggie ...</td>\n",
              "      <td>18</td>\n",
              "    </tr>\n",
              "    <tr>\n",
              "      <th>3</th>\n",
              "      <td>20660</td>\n",
              "      <td>Thomas Smithers (Postlethwaite), who has made ...</td>\n",
              "      <td>Thomas Smithers (Postlethwaite) hires the famo...</td>\n",
              "      <td>21</td>\n",
              "    </tr>\n",
              "    <tr>\n",
              "      <th>4</th>\n",
              "      <td>22022</td>\n",
              "      <td>The plot revolves around the life of aspiring ...</td>\n",
              "      <td>plot revolves around the life of aspiring writ...</td>\n",
              "      <td>15</td>\n",
              "    </tr>\n",
              "    <tr>\n",
              "      <th>...</th>\n",
              "      <td>...</td>\n",
              "      <td>...</td>\n",
              "      <td>...</td>\n",
              "      <td>...</td>\n",
              "    </tr>\n",
              "    <tr>\n",
              "      <th>24743</th>\n",
              "      <td>11406</td>\n",
              "      <td>Bill's wishes end up causing more trouble due ...</td>\n",
              "      <td>bill's wishes end up causing more trouble due ...</td>\n",
              "      <td>12</td>\n",
              "    </tr>\n",
              "    <tr>\n",
              "      <th>24744</th>\n",
              "      <td>6930</td>\n",
              "      <td>Jesse (Robert Wagner) and Frank James (Jeffrey...</td>\n",
              "      <td>Jesse (Robert Wagner) and Frank James (Jeffrey...</td>\n",
              "      <td>16</td>\n",
              "    </tr>\n",
              "    <tr>\n",
              "      <th>24745</th>\n",
              "      <td>30788</td>\n",
              "      <td>Aadhi feels that Dhana has changed a lot, so A...</td>\n",
              "      <td>aadhi attempts to send Dhana in jail for a mur...</td>\n",
              "      <td>16</td>\n",
              "    </tr>\n",
              "    <tr>\n",
              "      <th>24746</th>\n",
              "      <td>25561</td>\n",
              "      <td>Amateur boxer Ajay Mehra (Sunny Deol) is livin...</td>\n",
              "      <td>boxer is living with his brother and sister-in...</td>\n",
              "      <td>11</td>\n",
              "    </tr>\n",
              "    <tr>\n",
              "      <th>24747</th>\n",
              "      <td>24223</td>\n",
              "      <td>The parents find it difficult to come to terms...</td>\n",
              "      <td>parents find it difficult to come to terms wit...</td>\n",
              "      <td>22</td>\n",
              "    </tr>\n",
              "  </tbody>\n",
              "</table>\n",
              "<p>24748 rows × 4 columns</p>\n",
              "</div>\n",
              "      <button class=\"colab-df-convert\" onclick=\"convertToInteractive('df-c22a8180-150f-4ef4-9adc-25063cec9d34')\"\n",
              "              title=\"Convert this dataframe to an interactive table.\"\n",
              "              style=\"display:none;\">\n",
              "        \n",
              "  <svg xmlns=\"http://www.w3.org/2000/svg\" height=\"24px\"viewBox=\"0 0 24 24\"\n",
              "       width=\"24px\">\n",
              "    <path d=\"M0 0h24v24H0V0z\" fill=\"none\"/>\n",
              "    <path d=\"M18.56 5.44l.94 2.06.94-2.06 2.06-.94-2.06-.94-.94-2.06-.94 2.06-2.06.94zm-11 1L8.5 8.5l.94-2.06 2.06-.94-2.06-.94L8.5 2.5l-.94 2.06-2.06.94zm10 10l.94 2.06.94-2.06 2.06-.94-2.06-.94-.94-2.06-.94 2.06-2.06.94z\"/><path d=\"M17.41 7.96l-1.37-1.37c-.4-.4-.92-.59-1.43-.59-.52 0-1.04.2-1.43.59L10.3 9.45l-7.72 7.72c-.78.78-.78 2.05 0 2.83L4 21.41c.39.39.9.59 1.41.59.51 0 1.02-.2 1.41-.59l7.78-7.78 2.81-2.81c.8-.78.8-2.07 0-2.86zM5.41 20L4 18.59l7.72-7.72 1.47 1.35L5.41 20z\"/>\n",
              "  </svg>\n",
              "      </button>\n",
              "      \n",
              "  <style>\n",
              "    .colab-df-container {\n",
              "      display:flex;\n",
              "      flex-wrap:wrap;\n",
              "      gap: 12px;\n",
              "    }\n",
              "\n",
              "    .colab-df-convert {\n",
              "      background-color: #E8F0FE;\n",
              "      border: none;\n",
              "      border-radius: 50%;\n",
              "      cursor: pointer;\n",
              "      display: none;\n",
              "      fill: #1967D2;\n",
              "      height: 32px;\n",
              "      padding: 0 0 0 0;\n",
              "      width: 32px;\n",
              "    }\n",
              "\n",
              "    .colab-df-convert:hover {\n",
              "      background-color: #E2EBFA;\n",
              "      box-shadow: 0px 1px 2px rgba(60, 64, 67, 0.3), 0px 1px 3px 1px rgba(60, 64, 67, 0.15);\n",
              "      fill: #174EA6;\n",
              "    }\n",
              "\n",
              "    [theme=dark] .colab-df-convert {\n",
              "      background-color: #3B4455;\n",
              "      fill: #D2E3FC;\n",
              "    }\n",
              "\n",
              "    [theme=dark] .colab-df-convert:hover {\n",
              "      background-color: #434B5C;\n",
              "      box-shadow: 0px 1px 3px 1px rgba(0, 0, 0, 0.15);\n",
              "      filter: drop-shadow(0px 1px 2px rgba(0, 0, 0, 0.3));\n",
              "      fill: #FFFFFF;\n",
              "    }\n",
              "  </style>\n",
              "\n",
              "      <script>\n",
              "        const buttonEl =\n",
              "          document.querySelector('#df-c22a8180-150f-4ef4-9adc-25063cec9d34 button.colab-df-convert');\n",
              "        buttonEl.style.display =\n",
              "          google.colab.kernel.accessAllowed ? 'block' : 'none';\n",
              "\n",
              "        async function convertToInteractive(key) {\n",
              "          const element = document.querySelector('#df-c22a8180-150f-4ef4-9adc-25063cec9d34');\n",
              "          const dataTable =\n",
              "            await google.colab.kernel.invokeFunction('convertToInteractive',\n",
              "                                                     [key], {});\n",
              "          if (!dataTable) return;\n",
              "\n",
              "          const docLinkHtml = 'Like what you see? Visit the ' +\n",
              "            '<a target=\"_blank\" href=https://colab.research.google.com/notebooks/data_table.ipynb>data table notebook</a>'\n",
              "            + ' to learn more about interactive tables.';\n",
              "          element.innerHTML = '';\n",
              "          dataTable['output_type'] = 'display_data';\n",
              "          await google.colab.output.renderOutput(dataTable, element);\n",
              "          const docLink = document.createElement('div');\n",
              "          docLink.innerHTML = docLinkHtml;\n",
              "          element.appendChild(docLink);\n",
              "        }\n",
              "      </script>\n",
              "    </div>\n",
              "  </div>\n",
              "  "
            ]
          },
          "metadata": {},
          "execution_count": 54
        }
      ]
    },
    {
      "cell_type": "code",
      "source": [
        "test_queries_small = test_queries.head(1000)"
      ],
      "metadata": {
        "id": "ioMyN5t6CS9g"
      },
      "execution_count": null,
      "outputs": []
    },
    {
      "cell_type": "code",
      "source": [
        "test_queries_small"
      ],
      "metadata": {
        "colab": {
          "base_uri": "https://localhost:8080/",
          "height": 624
        },
        "id": "fXyObdtZEfw7",
        "outputId": "e94bdd24-13a3-403a-dea3-192511d75bb1"
      },
      "execution_count": null,
      "outputs": [
        {
          "output_type": "execute_result",
          "data": {
            "text/plain": [
              "     MovieId                                      PlotFragments  \\\n",
              "0      25782  It is also known that Prince Vijay, nephew of ...   \n",
              "1      17655  One Valentine's evening a group of single, dat...   \n",
              "2      19695  Charlie's friends won't tell him where Maggie ...   \n",
              "3      20660  Thomas Smithers (Postlethwaite), who has made ...   \n",
              "4      22022  The plot revolves around the life of aspiring ...   \n",
              "..       ...                                                ...   \n",
              "995    22211  After their first-born baby, Pierre (Patrick G...   \n",
              "996    14638  He hits the road looking for refuge in his pas...   \n",
              "997       29  Hoax rushes to scene of the crime where he dis...   \n",
              "998    14120  Barry Egan is a single man who owns a company ...   \n",
              "999    12621  In a small Western Massachusetts town, Dr. Car...   \n",
              "\n",
              "                                       SummaryFragment  summary_length  \n",
              "0    the film now moves to Kiran's hotel, where ama...              18  \n",
              "1    Brett (Guy Pearce) is a science journalist for...              12  \n",
              "2    Charlie's friends won't tell him where Maggie ...              18  \n",
              "3    Thomas Smithers (Postlethwaite) hires the famo...              21  \n",
              "4    plot revolves around the life of aspiring writ...              15  \n",
              "..                                                 ...             ...  \n",
              "995  Pierre (Patrick Goyette) and Élisabeth (Suzie ...              17  \n",
              "996  he visits his mother, who he hasn't seen in 30...              12  \n",
              "997         the tramp runs away and Hoax gives chase .               9  \n",
              "998  he calls a phone-sex line, but the operator at...              13  \n",
              "999  sculptor husband Ben and his two children live...              16  \n",
              "\n",
              "[1000 rows x 4 columns]"
            ],
            "text/html": [
              "\n",
              "  <div id=\"df-7226d36b-c46b-407d-878c-c945df24f998\">\n",
              "    <div class=\"colab-df-container\">\n",
              "      <div>\n",
              "<style scoped>\n",
              "    .dataframe tbody tr th:only-of-type {\n",
              "        vertical-align: middle;\n",
              "    }\n",
              "\n",
              "    .dataframe tbody tr th {\n",
              "        vertical-align: top;\n",
              "    }\n",
              "\n",
              "    .dataframe thead th {\n",
              "        text-align: right;\n",
              "    }\n",
              "</style>\n",
              "<table border=\"1\" class=\"dataframe\">\n",
              "  <thead>\n",
              "    <tr style=\"text-align: right;\">\n",
              "      <th></th>\n",
              "      <th>MovieId</th>\n",
              "      <th>PlotFragments</th>\n",
              "      <th>SummaryFragment</th>\n",
              "      <th>summary_length</th>\n",
              "    </tr>\n",
              "  </thead>\n",
              "  <tbody>\n",
              "    <tr>\n",
              "      <th>0</th>\n",
              "      <td>25782</td>\n",
              "      <td>It is also known that Prince Vijay, nephew of ...</td>\n",
              "      <td>the film now moves to Kiran's hotel, where ama...</td>\n",
              "      <td>18</td>\n",
              "    </tr>\n",
              "    <tr>\n",
              "      <th>1</th>\n",
              "      <td>17655</td>\n",
              "      <td>One Valentine's evening a group of single, dat...</td>\n",
              "      <td>Brett (Guy Pearce) is a science journalist for...</td>\n",
              "      <td>12</td>\n",
              "    </tr>\n",
              "    <tr>\n",
              "      <th>2</th>\n",
              "      <td>19695</td>\n",
              "      <td>Charlie's friends won't tell him where Maggie ...</td>\n",
              "      <td>Charlie's friends won't tell him where Maggie ...</td>\n",
              "      <td>18</td>\n",
              "    </tr>\n",
              "    <tr>\n",
              "      <th>3</th>\n",
              "      <td>20660</td>\n",
              "      <td>Thomas Smithers (Postlethwaite), who has made ...</td>\n",
              "      <td>Thomas Smithers (Postlethwaite) hires the famo...</td>\n",
              "      <td>21</td>\n",
              "    </tr>\n",
              "    <tr>\n",
              "      <th>4</th>\n",
              "      <td>22022</td>\n",
              "      <td>The plot revolves around the life of aspiring ...</td>\n",
              "      <td>plot revolves around the life of aspiring writ...</td>\n",
              "      <td>15</td>\n",
              "    </tr>\n",
              "    <tr>\n",
              "      <th>...</th>\n",
              "      <td>...</td>\n",
              "      <td>...</td>\n",
              "      <td>...</td>\n",
              "      <td>...</td>\n",
              "    </tr>\n",
              "    <tr>\n",
              "      <th>995</th>\n",
              "      <td>22211</td>\n",
              "      <td>After their first-born baby, Pierre (Patrick G...</td>\n",
              "      <td>Pierre (Patrick Goyette) and Élisabeth (Suzie ...</td>\n",
              "      <td>17</td>\n",
              "    </tr>\n",
              "    <tr>\n",
              "      <th>996</th>\n",
              "      <td>14638</td>\n",
              "      <td>He hits the road looking for refuge in his pas...</td>\n",
              "      <td>he visits his mother, who he hasn't seen in 30...</td>\n",
              "      <td>12</td>\n",
              "    </tr>\n",
              "    <tr>\n",
              "      <th>997</th>\n",
              "      <td>29</td>\n",
              "      <td>Hoax rushes to scene of the crime where he dis...</td>\n",
              "      <td>the tramp runs away and Hoax gives chase .</td>\n",
              "      <td>9</td>\n",
              "    </tr>\n",
              "    <tr>\n",
              "      <th>998</th>\n",
              "      <td>14120</td>\n",
              "      <td>Barry Egan is a single man who owns a company ...</td>\n",
              "      <td>he calls a phone-sex line, but the operator at...</td>\n",
              "      <td>13</td>\n",
              "    </tr>\n",
              "    <tr>\n",
              "      <th>999</th>\n",
              "      <td>12621</td>\n",
              "      <td>In a small Western Massachusetts town, Dr. Car...</td>\n",
              "      <td>sculptor husband Ben and his two children live...</td>\n",
              "      <td>16</td>\n",
              "    </tr>\n",
              "  </tbody>\n",
              "</table>\n",
              "<p>1000 rows × 4 columns</p>\n",
              "</div>\n",
              "      <button class=\"colab-df-convert\" onclick=\"convertToInteractive('df-7226d36b-c46b-407d-878c-c945df24f998')\"\n",
              "              title=\"Convert this dataframe to an interactive table.\"\n",
              "              style=\"display:none;\">\n",
              "        \n",
              "  <svg xmlns=\"http://www.w3.org/2000/svg\" height=\"24px\"viewBox=\"0 0 24 24\"\n",
              "       width=\"24px\">\n",
              "    <path d=\"M0 0h24v24H0V0z\" fill=\"none\"/>\n",
              "    <path d=\"M18.56 5.44l.94 2.06.94-2.06 2.06-.94-2.06-.94-.94-2.06-.94 2.06-2.06.94zm-11 1L8.5 8.5l.94-2.06 2.06-.94-2.06-.94L8.5 2.5l-.94 2.06-2.06.94zm10 10l.94 2.06.94-2.06 2.06-.94-2.06-.94-.94-2.06-.94 2.06-2.06.94z\"/><path d=\"M17.41 7.96l-1.37-1.37c-.4-.4-.92-.59-1.43-.59-.52 0-1.04.2-1.43.59L10.3 9.45l-7.72 7.72c-.78.78-.78 2.05 0 2.83L4 21.41c.39.39.9.59 1.41.59.51 0 1.02-.2 1.41-.59l7.78-7.78 2.81-2.81c.8-.78.8-2.07 0-2.86zM5.41 20L4 18.59l7.72-7.72 1.47 1.35L5.41 20z\"/>\n",
              "  </svg>\n",
              "      </button>\n",
              "      \n",
              "  <style>\n",
              "    .colab-df-container {\n",
              "      display:flex;\n",
              "      flex-wrap:wrap;\n",
              "      gap: 12px;\n",
              "    }\n",
              "\n",
              "    .colab-df-convert {\n",
              "      background-color: #E8F0FE;\n",
              "      border: none;\n",
              "      border-radius: 50%;\n",
              "      cursor: pointer;\n",
              "      display: none;\n",
              "      fill: #1967D2;\n",
              "      height: 32px;\n",
              "      padding: 0 0 0 0;\n",
              "      width: 32px;\n",
              "    }\n",
              "\n",
              "    .colab-df-convert:hover {\n",
              "      background-color: #E2EBFA;\n",
              "      box-shadow: 0px 1px 2px rgba(60, 64, 67, 0.3), 0px 1px 3px 1px rgba(60, 64, 67, 0.15);\n",
              "      fill: #174EA6;\n",
              "    }\n",
              "\n",
              "    [theme=dark] .colab-df-convert {\n",
              "      background-color: #3B4455;\n",
              "      fill: #D2E3FC;\n",
              "    }\n",
              "\n",
              "    [theme=dark] .colab-df-convert:hover {\n",
              "      background-color: #434B5C;\n",
              "      box-shadow: 0px 1px 3px 1px rgba(0, 0, 0, 0.15);\n",
              "      filter: drop-shadow(0px 1px 2px rgba(0, 0, 0, 0.3));\n",
              "      fill: #FFFFFF;\n",
              "    }\n",
              "  </style>\n",
              "\n",
              "      <script>\n",
              "        const buttonEl =\n",
              "          document.querySelector('#df-7226d36b-c46b-407d-878c-c945df24f998 button.colab-df-convert');\n",
              "        buttonEl.style.display =\n",
              "          google.colab.kernel.accessAllowed ? 'block' : 'none';\n",
              "\n",
              "        async function convertToInteractive(key) {\n",
              "          const element = document.querySelector('#df-7226d36b-c46b-407d-878c-c945df24f998');\n",
              "          const dataTable =\n",
              "            await google.colab.kernel.invokeFunction('convertToInteractive',\n",
              "                                                     [key], {});\n",
              "          if (!dataTable) return;\n",
              "\n",
              "          const docLinkHtml = 'Like what you see? Visit the ' +\n",
              "            '<a target=\"_blank\" href=https://colab.research.google.com/notebooks/data_table.ipynb>data table notebook</a>'\n",
              "            + ' to learn more about interactive tables.';\n",
              "          element.innerHTML = '';\n",
              "          dataTable['output_type'] = 'display_data';\n",
              "          await google.colab.output.renderOutput(dataTable, element);\n",
              "          const docLink = document.createElement('div');\n",
              "          docLink.innerHTML = docLinkHtml;\n",
              "          element.appendChild(docLink);\n",
              "        }\n",
              "      </script>\n",
              "    </div>\n",
              "  </div>\n",
              "  "
            ]
          },
          "metadata": {},
          "execution_count": 13
        }
      ]
    },
    {
      "cell_type": "code",
      "source": [
        "%time measure_accuracy(test_queries_small, bm25, id_and_summary, plots)"
      ],
      "metadata": {
        "colab": {
          "base_uri": "https://localhost:8080/"
        },
        "id": "8niZvEYGEhqR",
        "outputId": "5f46b498-c549-4502-8ffa-a9c87efc6f19"
      },
      "execution_count": null,
      "outputs": [
        {
          "output_type": "stream",
          "name": "stdout",
          "text": [
            "CPU times: user 7min 38s, sys: 3.05 s, total: 7min 42s\n",
            "Wall time: 7min 43s\n"
          ]
        },
        {
          "output_type": "execute_result",
          "data": {
            "text/plain": [
              "0.979"
            ]
          },
          "metadata": {},
          "execution_count": 35
        }
      ]
    },
    {
      "cell_type": "code",
      "source": [
        "measure_accuracy(test_queries, bm25, id_and_summary, plots)"
      ],
      "metadata": {
        "id": "rj_fRWZlEohQ",
        "colab": {
          "base_uri": "https://localhost:8080/"
        },
        "outputId": "bc7321d0-7331-4764-8d30-cc8762a258b2"
      },
      "execution_count": null,
      "outputs": [
        {
          "output_type": "execute_result",
          "data": {
            "text/plain": [
              "0.9762809115888152"
            ]
          },
          "metadata": {},
          "execution_count": 11
        }
      ]
    },
    {
      "cell_type": "code",
      "source": [
        ""
      ],
      "metadata": {
        "id": "H3TUWGnkHPMP"
      },
      "execution_count": null,
      "outputs": []
    }
  ]
}