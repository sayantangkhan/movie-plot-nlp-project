{
 "cells": [
  {
   "cell_type": "markdown",
   "id": "89b8d0f3",
   "metadata": {},
   "source": [
    "# Summarizing text using pre-trained models\n",
    "\n",
    "The `transformers` library has a lot of pre-trained models we can use to generate training text summaries. We could even use multiple different models to make sure our search engine is not merely learning the behaviour of a single summarizer."
   ]
  },
  {
   "cell_type": "code",
   "execution_count": 1,
   "id": "1c816de4",
   "metadata": {},
   "outputs": [],
   "source": [
    "import transformers as tr"
   ]
  },
  {
   "cell_type": "markdown",
   "id": "3a094fb7",
   "metadata": {},
   "source": [
    "Here is a [list](https://huggingface.co/models?pipeline_tag=summarization&sort=downloads) of models that can summarize text."
   ]
  },
  {
   "cell_type": "markdown",
   "id": "01097edf",
   "metadata": {},
   "source": [
    "### BART-large-cnn"
   ]
  },
  {
   "cell_type": "code",
   "execution_count": 8,
   "id": "5834d179",
   "metadata": {},
   "outputs": [
    {
     "name": "stdout",
     "output_type": "stream",
     "text": [
      "[{'summary_text': \"Rebel Alliance spies have stolen plans to the Galactic Empire's Death Star. Princess Leia Organa hides the plans in the memory system of astromech droid R2-D2. The droids are captured by Jawa traders, who sell them to moisture farmers Owen and Beru Lars and their nephew Luke Skywalker.\"}]\n"
     ]
    }
   ],
   "source": [
    "blc_summarizer = tr.pipeline(\"summarization\", model=\"facebook/bart-large-cnn\")\n",
    "\n",
    "plot_fragment1 = \"\"\"\n",
    "Amid a galactic civil war, Rebel Alliance spies have stolen plans to the Galactic Empire's Death Star, a massive space station capable of destroying entire planets. Imperial Senator Princess Leia Organa of Alderaan, secretly one of the Rebellion's leaders, has obtained its schematics, but her starship is intercepted by an Imperial Star Destroyer under the command of the ruthless Darth Vader. Before she is captured, Leia hides the plans in the memory system of astromech droid R2-D2, who flees in an escape pod to the nearby desert planet Tatooine alongside his companion, protocol droid C-3PO.\n",
    "\n",
    "The droids are captured by Jawa traders, who sell them to moisture farmers Owen and Beru Lars and their nephew Luke Skywalker. While Luke is cleaning R2-D2, he discovers a holographic recording of Leia requesting help from an Obi-Wan Kenobi. Later, after Luke finds R2-D2 missing, he is attacked by scavenging Sand People while searching for him, but is rescued by elderly hermit \"Old Ben\" Kenobi, an acquaintance of Luke's, who reveals that \"Obi-Wan\" is his true name. Obi-Wan tells Luke of his days as one of the Jedi Knights, the former peacekeepers of the Galactic Republic who drew mystical abilities from a metaphysical energy field known as \"the Force\", but were ultimately hunted to near-extinction by the Empire. Luke learns that his father fought alongside Obi-Wan as a Jedi Knight during the Clone Wars until Vader, Obi-Wan's former pupil, turned to the dark side of the Force and murdered him. Obi-Wan offers Luke his father's old lightsaber, the signature weapon of Jedi Knights. \n",
    "\"\"\"\n",
    "\n",
    "summary = blc_summarizer(plot_fragment1, max_length=100, min_length=10, do_sample=False)\n",
    "\n",
    "print(summary)"
   ]
  },
  {
   "cell_type": "code",
   "execution_count": 12,
   "id": "8448a98e",
   "metadata": {},
   "outputs": [
    {
     "name": "stdout",
     "output_type": "stream",
     "text": [
      "[{'summary_text': 'Princess Leia Organa hides the plans in the memory system of astromech droid'}]\n"
     ]
    }
   ],
   "source": [
    "summarized_plot = \"Rebel Alliance spies have stolen plans to the Galactic Empire's Death Star. Princess Leia Organa hides the plans in the memory system of astromech droid R2-D2. The droids are captured by Jawa traders, who sell them to moisture farmers Owen and Beru Lars and their nephew Luke Skywalker.\"\n",
    "summary_square = blc_summarizer(summarized_plot, max_length=20, min_length=10, do_sample=False)\n",
    "print(summary_square)"
   ]
  },
  {
   "cell_type": "markdown",
   "id": "984ea107",
   "metadata": {},
   "source": [
    "## sshleifer/distilbart-cnn-12-6"
   ]
  },
  {
   "cell_type": "code",
   "execution_count": 15,
   "id": "4224cd0c",
   "metadata": {},
   "outputs": [
    {
     "name": "stdout",
     "output_type": "stream",
     "text": [
      "[{'summary_text': \" Rebel Alliance spies have stolen plans to the Galactic Empire's Death Star . Princess Leia Organa hides the plans in the memory system of astromech droid R2-D2 . The droids are captured by Jawa traders, who sell them to moisture farmers Owen and Beru Lars and their nephew Luke Skywalker . Luke learns that his father fought alongside Obi-Wan as a Jedi Knight during the Clone Wars .\"}]\n"
     ]
    }
   ],
   "source": [
    "bart_summarizer = tr.pipeline(\"summarization\", model=\"sshleifer/distilbart-cnn-12-6\")\n",
    "\n",
    "plot_fragment1 = \"\"\"\n",
    "Amid a galactic civil war, Rebel Alliance spies have stolen plans to the Galactic Empire's Death Star, a massive space station capable of destroying entire planets. Imperial Senator Princess Leia Organa of Alderaan, secretly one of the Rebellion's leaders, has obtained its schematics, but her starship is intercepted by an Imperial Star Destroyer under the command of the ruthless Darth Vader. Before she is captured, Leia hides the plans in the memory system of astromech droid R2-D2, who flees in an escape pod to the nearby desert planet Tatooine alongside his companion, protocol droid C-3PO.\n",
    "\n",
    "The droids are captured by Jawa traders, who sell them to moisture farmers Owen and Beru Lars and their nephew Luke Skywalker. While Luke is cleaning R2-D2, he discovers a holographic recording of Leia requesting help from an Obi-Wan Kenobi. Later, after Luke finds R2-D2 missing, he is attacked by scavenging Sand People while searching for him, but is rescued by elderly hermit \"Old Ben\" Kenobi, an acquaintance of Luke's, who reveals that \"Obi-Wan\" is his true name. Obi-Wan tells Luke of his days as one of the Jedi Knights, the former peacekeepers of the Galactic Republic who drew mystical abilities from a metaphysical energy field known as \"the Force\", but were ultimately hunted to near-extinction by the Empire. Luke learns that his father fought alongside Obi-Wan as a Jedi Knight during the Clone Wars until Vader, Obi-Wan's former pupil, turned to the dark side of the Force and murdered him. Obi-Wan offers Luke his father's old lightsaber, the signature weapon of Jedi Knights. \n",
    "\"\"\"\n",
    "\n",
    "summary = bart_summarizer(plot_fragment1, max_length=100, min_length=10, do_sample=False)\n",
    "\n",
    "print(summary)"
   ]
  },
  {
   "cell_type": "markdown",
   "id": "75ebacb3",
   "metadata": {},
   "source": [
    "## google/pegasus-large"
   ]
  },
  {
   "cell_type": "code",
   "execution_count": 3,
   "id": "00a18074",
   "metadata": {},
   "outputs": [
    {
     "name": "stdout",
     "output_type": "stream",
     "text": [
      "[{'summary_text': \"Luke learns that his father fought alongside Obi-Wan as a Jedi Knight during the Clone Wars until Vader, Obi-Wan's former pupil, turned to galactic the dark side of the Force and murdered him.\"}]\n"
     ]
    }
   ],
   "source": [
    "pegasus_summarizer = tr.pipeline(\"summarization\", model=\"google/pegasus-large\")\n",
    "\n",
    "plot_fragment1 = \"\"\"\n",
    "Amid a galactic civil war, Rebel Alliance spies have stolen plans to the Galactic Empire's Death Star, a massive space station capable of destroying entire planets. Imperial Senator Princess Leia Organa of Alderaan, secretly one of the Rebellion's leaders, has obtained its schematics, but her starship is intercepted by an Imperial Star Destroyer under the command of the ruthless Darth Vader. Before she is captured, Leia hides the plans in the memory system of astromech droid R2-D2, who flees in an escape pod to the nearby desert planet Tatooine alongside his companion, protocol droid C-3PO.\n",
    "\n",
    "The droids are captured by Jawa traders, who sell them to moisture farmers Owen and Beru Lars and their nephew Luke Skywalker. While Luke is cleaning R2-D2, he discovers a holographic recording of Leia requesting help from an Obi-Wan Kenobi. Later, after Luke finds R2-D2 missing, he is attacked by scavenging Sand People while searching for him, but is rescued by elderly hermit \"Old Ben\" Kenobi, an acquaintance of Luke's, who reveals that \"Obi-Wan\" is his true name. Obi-Wan tells Luke of his days as one of the Jedi Knights, the former peacekeepers of the Galactic Republic who drew mystical abilities from a metaphysical energy field known as \"the Force\", but were ultimately hunted to near-extinction by the Empire. Luke learns that his father fought alongside Obi-Wan as a Jedi Knight during the Clone Wars until Vader, Obi-Wan's former pupil, turned to the dark side of the Force and murdered him. Obi-Wan offers Luke his father's old lightsaber, the signature weapon of Jedi Knights. \n",
    "\"\"\"\n",
    "\n",
    "summary = pegasus_summarizer(plot_fragment1, max_length=200, min_length=10, do_sample=False)\n",
    "\n",
    "print(summary)"
   ]
  },
  {
   "cell_type": "markdown",
   "id": "827710e6",
   "metadata": {},
   "source": [
    "### Pruning the summaries\n",
    "\n",
    "To generate the training queries, we could randomly pick a sentence out of the summary."
   ]
  },
  {
   "cell_type": "code",
   "execution_count": null,
   "id": "f8380dc7",
   "metadata": {},
   "outputs": [],
   "source": []
  }
 ],
 "metadata": {
  "kernelspec": {
   "display_name": "Python 3",
   "language": "python",
   "name": "python3"
  },
  "language_info": {
   "codemirror_mode": {
    "name": "ipython",
    "version": 3
   },
   "file_extension": ".py",
   "mimetype": "text/x-python",
   "name": "python",
   "nbconvert_exporter": "python",
   "pygments_lexer": "ipython3",
   "version": "3.9.12"
  }
 },
 "nbformat": 4,
 "nbformat_minor": 5
}
