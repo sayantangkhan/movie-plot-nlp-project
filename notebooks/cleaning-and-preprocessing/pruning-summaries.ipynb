{
 "cells": [
  {
   "cell_type": "markdown",
   "id": "06372df6",
   "metadata": {},
   "source": []
  },
  {
   "cell_type": "code",
   "execution_count": null,
   "id": "41e2f7dd",
   "metadata": {},
   "outputs": [],
   "source": [
    "import pandas as pd"
   ]
  },
  {
   "cell_type": "code",
   "execution_count": 2,
   "id": "5336c149",
   "metadata": {},
   "outputs": [],
   "source": [
    "summaries = pd.read_csv(\"../Data/summaries.zip\")"
   ]
  },
  {
   "cell_type": "code",
   "execution_count": 14,
   "id": "fad4a3d6",
   "metadata": {
    "scrolled": true
   },
   "outputs": [
    {
     "data": {
      "text/html": [
       "<div>\n",
       "<style scoped>\n",
       "    .dataframe tbody tr th:only-of-type {\n",
       "        vertical-align: middle;\n",
       "    }\n",
       "\n",
       "    .dataframe tbody tr th {\n",
       "        vertical-align: top;\n",
       "    }\n",
       "\n",
       "    .dataframe thead th {\n",
       "        text-align: right;\n",
       "    }\n",
       "</style>\n",
       "<table border=\"1\" class=\"dataframe\">\n",
       "  <thead>\n",
       "    <tr style=\"text-align: right;\">\n",
       "      <th></th>\n",
       "      <th>MovieId</th>\n",
       "      <th>PlotFragments</th>\n",
       "      <th>SummaryFragment</th>\n",
       "      <th>summary_length</th>\n",
       "    </tr>\n",
       "  </thead>\n",
       "  <tbody>\n",
       "    <tr>\n",
       "      <th>0</th>\n",
       "      <td>0</td>\n",
       "      <td>A bartender is working at a saloon, serving dr...</td>\n",
       "      <td>bartender is working at a saloon serving drink...</td>\n",
       "      <td>11</td>\n",
       "    </tr>\n",
       "    <tr>\n",
       "      <th>1</th>\n",
       "      <td>0</td>\n",
       "      <td>They assault the Irish man, pulling his hat ov...</td>\n",
       "      <td>the bartender then sprays seltzer water in Nat...</td>\n",
       "      <td>21</td>\n",
       "    </tr>\n",
       "    <tr>\n",
       "      <th>2</th>\n",
       "      <td>0</td>\n",
       "      <td>A bartender is working at a saloon, serving dr...</td>\n",
       "      <td>carrie Nation and her followers burst inside .</td>\n",
       "      <td>8</td>\n",
       "    </tr>\n",
       "    <tr>\n",
       "      <th>3</th>\n",
       "      <td>1</td>\n",
       "      <td>The moon, painted with a smiling face hangs ov...</td>\n",
       "      <td>the moon hangs over a park at night .</td>\n",
       "      <td>9</td>\n",
       "    </tr>\n",
       "    <tr>\n",
       "      <th>4</th>\n",
       "      <td>1</td>\n",
       "      <td>The moon smiles. They embrace, and the moon's ...</td>\n",
       "      <td>the moon smiles.</td>\n",
       "      <td>3</td>\n",
       "    </tr>\n",
       "    <tr>\n",
       "      <th>...</th>\n",
       "      <td>...</td>\n",
       "      <td>...</td>\n",
       "      <td>...</td>\n",
       "      <td>...</td>\n",
       "    </tr>\n",
       "    <tr>\n",
       "      <th>100475</th>\n",
       "      <td>34884</td>\n",
       "      <td>The film centres around a young woman named Am...</td>\n",
       "      <td>however, the two separate before they are able...</td>\n",
       "      <td>14</td>\n",
       "    </tr>\n",
       "    <tr>\n",
       "      <th>100476</th>\n",
       "      <td>34884</td>\n",
       "      <td>Although his ticket had a strict no-transfer p...</td>\n",
       "      <td>a BuzzFeed article about the story became viral .</td>\n",
       "      <td>9</td>\n",
       "    </tr>\n",
       "    <tr>\n",
       "      <th>100477</th>\n",
       "      <td>34884</td>\n",
       "      <td>This is too unrealistic!' And the project didn...</td>\n",
       "      <td>the project didn’t get any traction because ev...</td>\n",
       "      <td>14</td>\n",
       "    </tr>\n",
       "    <tr>\n",
       "      <th>100478</th>\n",
       "      <td>34884</td>\n",
       "      <td>The film centres around a young woman named Am...</td>\n",
       "      <td>however, the two separate before they are able...</td>\n",
       "      <td>14</td>\n",
       "    </tr>\n",
       "    <tr>\n",
       "      <th>100479</th>\n",
       "      <td>34884</td>\n",
       "      <td>When a BuzzFeed article about the story became...</td>\n",
       "      <td>a BuzzFeed article about the story became vira...</td>\n",
       "      <td>25</td>\n",
       "    </tr>\n",
       "  </tbody>\n",
       "</table>\n",
       "<p>100480 rows × 4 columns</p>\n",
       "</div>"
      ],
      "text/plain": [
       "        MovieId                                      PlotFragments  \\\n",
       "0             0  A bartender is working at a saloon, serving dr...   \n",
       "1             0  They assault the Irish man, pulling his hat ov...   \n",
       "2             0  A bartender is working at a saloon, serving dr...   \n",
       "3             1  The moon, painted with a smiling face hangs ov...   \n",
       "4             1  The moon smiles. They embrace, and the moon's ...   \n",
       "...         ...                                                ...   \n",
       "100475    34884  The film centres around a young woman named Am...   \n",
       "100476    34884  Although his ticket had a strict no-transfer p...   \n",
       "100477    34884  This is too unrealistic!' And the project didn...   \n",
       "100478    34884  The film centres around a young woman named Am...   \n",
       "100479    34884  When a BuzzFeed article about the story became...   \n",
       "\n",
       "                                          SummaryFragment  summary_length  \n",
       "0       bartender is working at a saloon serving drink...              11  \n",
       "1       the bartender then sprays seltzer water in Nat...              21  \n",
       "2          carrie Nation and her followers burst inside .               8  \n",
       "3                   the moon hangs over a park at night .               9  \n",
       "4                                        the moon smiles.               3  \n",
       "...                                                   ...             ...  \n",
       "100475  however, the two separate before they are able...              14  \n",
       "100476  a BuzzFeed article about the story became viral .               9  \n",
       "100477  the project didn’t get any traction because ev...              14  \n",
       "100478  however, the two separate before they are able...              14  \n",
       "100479  a BuzzFeed article about the story became vira...              25  \n",
       "\n",
       "[100480 rows x 4 columns]"
      ]
     },
     "execution_count": 14,
     "metadata": {},
     "output_type": "execute_result"
    }
   ],
   "source": [
    "# Recall that....\n",
    "# MovieID links the rows here to the rows of the Kaggle Dataset\n",
    "# PlotFragments is a frament (either a third or a half) of the long wiki plot\n",
    "# SummaryFragment is a randomly chosen sentence from a summary of the \n",
    "#       corresponding plot fragment\n",
    "summaries"
   ]
  },
  {
   "cell_type": "code",
   "execution_count": 13,
   "id": "fd15c7f2",
   "metadata": {},
   "outputs": [],
   "source": [
    "summaries['summary_length'] = summaries.apply(lambda row: len(row['SummaryFragment'].split()), \n",
    "                                              axis=1)"
   ]
  },
  {
   "cell_type": "code",
   "execution_count": 15,
   "id": "b8230605",
   "metadata": {},
   "outputs": [],
   "source": [
    "truncated_summaries = summaries.drop(summaries[summaries.summary_length < 6].index)"
   ]
  },
  {
   "cell_type": "code",
   "execution_count": 18,
   "id": "8bc95a5c",
   "metadata": {},
   "outputs": [
    {
     "data": {
      "text/plain": [
       "count    98992.000000\n",
       "mean        15.348856\n",
       "std          5.545676\n",
       "min          6.000000\n",
       "25%         12.000000\n",
       "50%         14.000000\n",
       "75%         18.000000\n",
       "max         59.000000\n",
       "Name: summary_length, dtype: float64"
      ]
     },
     "execution_count": 18,
     "metadata": {},
     "output_type": "execute_result"
    }
   ],
   "source": [
    "truncated_summaries['summary_length'].describe()"
   ]
  },
  {
   "cell_type": "code",
   "execution_count": 19,
   "id": "791400da",
   "metadata": {},
   "outputs": [],
   "source": [
    "from sklearn.model_selection import train_test_split\n",
    "\n",
    "summaries_train, summaries_test = train_test_split(truncated_summaries, test_size=0.25)"
   ]
  },
  {
   "cell_type": "code",
   "execution_count": 21,
   "id": "bd7e0ebc",
   "metadata": {},
   "outputs": [
    {
     "data": {
      "text/html": [
       "<div>\n",
       "<style scoped>\n",
       "    .dataframe tbody tr th:only-of-type {\n",
       "        vertical-align: middle;\n",
       "    }\n",
       "\n",
       "    .dataframe tbody tr th {\n",
       "        vertical-align: top;\n",
       "    }\n",
       "\n",
       "    .dataframe thead th {\n",
       "        text-align: right;\n",
       "    }\n",
       "</style>\n",
       "<table border=\"1\" class=\"dataframe\">\n",
       "  <thead>\n",
       "    <tr style=\"text-align: right;\">\n",
       "      <th></th>\n",
       "      <th>MovieId</th>\n",
       "      <th>PlotFragments</th>\n",
       "      <th>SummaryFragment</th>\n",
       "      <th>summary_length</th>\n",
       "    </tr>\n",
       "  </thead>\n",
       "  <tbody>\n",
       "    <tr>\n",
       "      <th>74135</th>\n",
       "      <td>25782</td>\n",
       "      <td>It is also known that Prince Vijay, nephew of ...</td>\n",
       "      <td>the film now moves to Kiran's hotel, where ama...</td>\n",
       "      <td>18</td>\n",
       "    </tr>\n",
       "    <tr>\n",
       "      <th>51653</th>\n",
       "      <td>17655</td>\n",
       "      <td>One Valentine's evening a group of single, dat...</td>\n",
       "      <td>Brett (Guy Pearce) is a science journalist for...</td>\n",
       "      <td>12</td>\n",
       "    </tr>\n",
       "    <tr>\n",
       "      <th>56522</th>\n",
       "      <td>19695</td>\n",
       "      <td>Charlie's friends won't tell him where Maggie ...</td>\n",
       "      <td>Charlie's friends won't tell him where Maggie ...</td>\n",
       "      <td>18</td>\n",
       "    </tr>\n",
       "    <tr>\n",
       "      <th>59231</th>\n",
       "      <td>20660</td>\n",
       "      <td>Thomas Smithers (Postlethwaite), who has made ...</td>\n",
       "      <td>Thomas Smithers (Postlethwaite) hires the famo...</td>\n",
       "      <td>21</td>\n",
       "    </tr>\n",
       "    <tr>\n",
       "      <th>63111</th>\n",
       "      <td>22022</td>\n",
       "      <td>The plot revolves around the life of aspiring ...</td>\n",
       "      <td>plot revolves around the life of aspiring writ...</td>\n",
       "      <td>15</td>\n",
       "    </tr>\n",
       "    <tr>\n",
       "      <th>...</th>\n",
       "      <td>...</td>\n",
       "      <td>...</td>\n",
       "      <td>...</td>\n",
       "      <td>...</td>\n",
       "    </tr>\n",
       "    <tr>\n",
       "      <th>32944</th>\n",
       "      <td>11406</td>\n",
       "      <td>Bill's wishes end up causing more trouble due ...</td>\n",
       "      <td>bill's wishes end up causing more trouble due ...</td>\n",
       "      <td>12</td>\n",
       "    </tr>\n",
       "    <tr>\n",
       "      <th>19658</th>\n",
       "      <td>6930</td>\n",
       "      <td>Jesse (Robert Wagner) and Frank James (Jeffrey...</td>\n",
       "      <td>Jesse (Robert Wagner) and Frank James (Jeffrey...</td>\n",
       "      <td>16</td>\n",
       "    </tr>\n",
       "    <tr>\n",
       "      <th>88605</th>\n",
       "      <td>30788</td>\n",
       "      <td>Aadhi feels that Dhana has changed a lot, so A...</td>\n",
       "      <td>aadhi attempts to send Dhana in jail for a mur...</td>\n",
       "      <td>16</td>\n",
       "    </tr>\n",
       "    <tr>\n",
       "      <th>73503</th>\n",
       "      <td>25561</td>\n",
       "      <td>Amateur boxer Ajay Mehra (Sunny Deol) is livin...</td>\n",
       "      <td>boxer is living with his brother and sister-in...</td>\n",
       "      <td>11</td>\n",
       "    </tr>\n",
       "    <tr>\n",
       "      <th>69557</th>\n",
       "      <td>24223</td>\n",
       "      <td>The parents find it difficult to come to terms...</td>\n",
       "      <td>parents find it difficult to come to terms wit...</td>\n",
       "      <td>22</td>\n",
       "    </tr>\n",
       "  </tbody>\n",
       "</table>\n",
       "<p>24748 rows × 4 columns</p>\n",
       "</div>"
      ],
      "text/plain": [
       "       MovieId                                      PlotFragments  \\\n",
       "74135    25782  It is also known that Prince Vijay, nephew of ...   \n",
       "51653    17655  One Valentine's evening a group of single, dat...   \n",
       "56522    19695  Charlie's friends won't tell him where Maggie ...   \n",
       "59231    20660  Thomas Smithers (Postlethwaite), who has made ...   \n",
       "63111    22022  The plot revolves around the life of aspiring ...   \n",
       "...        ...                                                ...   \n",
       "32944    11406  Bill's wishes end up causing more trouble due ...   \n",
       "19658     6930  Jesse (Robert Wagner) and Frank James (Jeffrey...   \n",
       "88605    30788  Aadhi feels that Dhana has changed a lot, so A...   \n",
       "73503    25561  Amateur boxer Ajay Mehra (Sunny Deol) is livin...   \n",
       "69557    24223  The parents find it difficult to come to terms...   \n",
       "\n",
       "                                         SummaryFragment  summary_length  \n",
       "74135  the film now moves to Kiran's hotel, where ama...              18  \n",
       "51653  Brett (Guy Pearce) is a science journalist for...              12  \n",
       "56522  Charlie's friends won't tell him where Maggie ...              18  \n",
       "59231  Thomas Smithers (Postlethwaite) hires the famo...              21  \n",
       "63111  plot revolves around the life of aspiring writ...              15  \n",
       "...                                                  ...             ...  \n",
       "32944  bill's wishes end up causing more trouble due ...              12  \n",
       "19658  Jesse (Robert Wagner) and Frank James (Jeffrey...              16  \n",
       "88605  aadhi attempts to send Dhana in jail for a mur...              16  \n",
       "73503  boxer is living with his brother and sister-in...              11  \n",
       "69557  parents find it difficult to come to terms wit...              22  \n",
       "\n",
       "[24748 rows x 4 columns]"
      ]
     },
     "execution_count": 21,
     "metadata": {},
     "output_type": "execute_result"
    }
   ],
   "source": [
    "summaries_test"
   ]
  },
  {
   "cell_type": "code",
   "execution_count": 22,
   "id": "aacc5907",
   "metadata": {},
   "outputs": [],
   "source": [
    "summaries_train.to_csv(\"../Data/summaries_train.csv\", index=False, compression=\"zip\")\n",
    "summaries_test.to_csv(\"../Data/summaries_test.csv\", index=False, compression=\"zip\")"
   ]
  },
  {
   "cell_type": "markdown",
   "id": "75f09c24",
   "metadata": {},
   "source": [
    "## Generating data to train cross-encoder\n",
    "\n",
    "Generates a dataset which contains pairs of plot fragments/summarizing sentences, and a corresponding similarity score. The plot fragment & summary sentence similarity score is...\n",
    "+ low if they are from different movies\n",
    "+ medium if the sentence is from a summary of a different fragment of the same movie\n",
    "+ high if the sentence is from a summary of that exact plot fragment"
   ]
  },
  {
   "cell_type": "code",
   "execution_count": 37,
   "id": "6b9912cb",
   "metadata": {},
   "outputs": [],
   "source": [
    "from random import random\n",
    "\n",
    "num_samples = 20000\n",
    "threshold = 0.4\n",
    "\n",
    "same_summary_fragment = 0.8\n",
    "same_movie = 0.6\n",
    "different_movie = 0.2\n",
    "\n",
    "cross_encoder_train = []\n",
    "\n",
    "# generate num_samples many samples\n",
    "for i in range(num_samples):\n",
    "    sample1 = summaries_train.sample()\n",
    "    if random() < threshold:\n",
    "        # 40% are automatically chosen to be highly similar\n",
    "        s1 = sample1.iloc[0]['PlotFragments']\n",
    "        s2 = sample1.iloc[0]['SummaryFragment']\n",
    "        score = same_summary_fragment\n",
    "        cross_encoder_train.append([s1, s2, score])\n",
    "    else:\n",
    "        # otherwise, the second movie & fragment is chosen at random\n",
    "        # (and thus will mostly be totally different from 1st choice)\n",
    "        sample2 = summaries_train.sample()\n",
    "        s1 = sample1.iloc[0]['PlotFragments']\n",
    "        s2 = sample2.iloc[0]['SummaryFragment']\n",
    "        s1_prime = sample2.iloc[0]['PlotFragments']\n",
    "        m1 = sample1.iloc[0]['MovieId']\n",
    "        m2 = sample2.iloc[0]['MovieId']\n",
    "        if s1 == s1_prime:\n",
    "            score = same_summary_fragment\n",
    "        elif m1 == m2:\n",
    "            score = same_movie\n",
    "        else:\n",
    "            score = different_movie\n",
    "        cross_encoder_train.append([s1, s2, score])"
   ]
  },
  {
   "cell_type": "code",
   "execution_count": 38,
   "id": "2a5208a9",
   "metadata": {},
   "outputs": [],
   "source": [
    "# turn our list into a dataframe\n",
    "cross_encoder_train = pd.DataFrame(cross_encoder_train, \n",
    "                                   columns=['Sentence1', 'Sentence2', 'Score'])"
   ]
  },
  {
   "cell_type": "code",
   "execution_count": 39,
   "id": "f96c164e",
   "metadata": {},
   "outputs": [
    {
     "data": {
      "text/plain": [
       "<AxesSubplot:>"
      ]
     },
     "execution_count": 39,
     "metadata": {},
     "output_type": "execute_result"
    },
    {
     "data": {
      "image/png": "[encoded data removed]",
      "text/plain": [
       "<Figure size 432x288 with 1 Axes>"
      ]
     },
     "metadata": {
      "needs_background": "light"
     },
     "output_type": "display_data"
    }
   ],
   "source": [
    "# Just as designed, ~ 40% are highly similar, and the huge majority\n",
    "#     of the rest are highly different\n",
    "cross_encoder_train['Score'].hist()"
   ]
  },
  {
   "cell_type": "code",
   "execution_count": 40,
   "id": "d3098f2b",
   "metadata": {},
   "outputs": [],
   "source": [
    "cross_encoder_train.to_csv(\"../Data/cross_encoder_train.csv\", index=False, compression=\"zip\")"
   ]
  },
  {
   "cell_type": "code",
   "execution_count": null,
   "id": "953da04e",
   "metadata": {},
   "outputs": [],
   "source": []
  }
 ],
 "metadata": {
  "kernelspec": {
   "display_name": "Python 3 (ipykernel)",
   "language": "python",
   "name": "python3"
  },
  "language_info": {
   "codemirror_mode": {
    "name": "ipython",
    "version": 3
   },
   "file_extension": ".py",
   "mimetype": "text/x-python",
   "name": "python",
   "nbconvert_exporter": "python",
   "pygments_lexer": "ipython3",
   "version": "3.10.4"
  }
 },
 "nbformat": 4,
 "nbformat_minor": 5
}
