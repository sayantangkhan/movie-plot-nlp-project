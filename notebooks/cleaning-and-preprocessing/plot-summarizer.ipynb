{
 "cells": [
  {
   "cell_type": "markdown",
   "id": "89b8d0f3",
   "metadata": {},
   "source": [
    "# Summarizing text using pre-trained models\n",
    "\n",
    "The `transformers` library has a lot of pre-trained models we can use to generate training text summaries. We could even use multiple different models to make sure our search engine is not merely learning the behaviour of a single summarizer."
   ]
  },
  {
   "cell_type": "code",
   "execution_count": 5,
   "id": "1c816de4",
   "metadata": {},
   "outputs": [],
   "source": [
    "import transformers as tr"
   ]
  },
  {
   "cell_type": "markdown",
   "id": "3a094fb7",
   "metadata": {},
   "source": [
    "Here is a [list](https://huggingface.co/models?pipeline_tag=summarization&sort=downloads) of models that can summarize text."
   ]
  },
  {
   "cell_type": "markdown",
   "id": "01097edf",
   "metadata": {},
   "source": [
    "### BART-large-cnn"
   ]
  },
  {
   "cell_type": "code",
   "execution_count": 8,
   "id": "5834d179",
   "metadata": {},
   "outputs": [
    {
     "name": "stdout",
     "output_type": "stream",
     "text": [
      "[{'summary_text': \"Rebel Alliance spies have stolen plans to the Galactic Empire's Death Star. Princess Leia Organa hides the plans in the memory system of astromech droid R2-D2. The droids are captured by Jawa traders, who sell them to moisture farmers Owen and Beru Lars and their nephew Luke Skywalker.\"}]\n"
     ]
    }
   ],
   "source": [
    "blc_summarizer = tr.pipeline(\"summarization\", model=\"facebook/bart-large-cnn\")\n",
    "\n",
    "plot_fragment1 = \"\"\"\n",
    "Amid a galactic civil war, Rebel Alliance spies have stolen plans to the Galactic Empire's Death Star, a massive space station capable of destroying entire planets. Imperial Senator Princess Leia Organa of Alderaan, secretly one of the Rebellion's leaders, has obtained its schematics, but her starship is intercepted by an Imperial Star Destroyer under the command of the ruthless Darth Vader. Before she is captured, Leia hides the plans in the memory system of astromech droid R2-D2, who flees in an escape pod to the nearby desert planet Tatooine alongside his companion, protocol droid C-3PO.\n",
    "\n",
    "The droids are captured by Jawa traders, who sell them to moisture farmers Owen and Beru Lars and their nephew Luke Skywalker. While Luke is cleaning R2-D2, he discovers a holographic recording of Leia requesting help from an Obi-Wan Kenobi. Later, after Luke finds R2-D2 missing, he is attacked by scavenging Sand People while searching for him, but is rescued by elderly hermit \"Old Ben\" Kenobi, an acquaintance of Luke's, who reveals that \"Obi-Wan\" is his true name. Obi-Wan tells Luke of his days as one of the Jedi Knights, the former peacekeepers of the Galactic Republic who drew mystical abilities from a metaphysical energy field known as \"the Force\", but were ultimately hunted to near-extinction by the Empire. Luke learns that his father fought alongside Obi-Wan as a Jedi Knight during the Clone Wars until Vader, Obi-Wan's former pupil, turned to the dark side of the Force and murdered him. Obi-Wan offers Luke his father's old lightsaber, the signature weapon of Jedi Knights. \n",
    "\"\"\"\n",
    "\n",
    "summary = blc_summarizer(plot_fragment1, max_length=100, min_length=10, do_sample=False)\n",
    "\n",
    "print(summary)"
   ]
  },
  {
   "cell_type": "code",
   "execution_count": 12,
   "id": "8448a98e",
   "metadata": {},
   "outputs": [
    {
     "name": "stdout",
     "output_type": "stream",
     "text": [
      "[{'summary_text': 'Princess Leia Organa hides the plans in the memory system of astromech droid'}]\n"
     ]
    }
   ],
   "source": [
    "summarized_plot = \"Rebel Alliance spies have stolen plans to the Galactic Empire's Death Star. Princess Leia Organa hides the plans in the memory system of astromech droid R2-D2. The droids are captured by Jawa traders, who sell them to moisture farmers Owen and Beru Lars and their nephew Luke Skywalker.\"\n",
    "summary_square = blc_summarizer(summarized_plot, max_length=20, min_length=10, do_sample=False)\n",
    "print(summary_square)"
   ]
  },
  {
   "cell_type": "markdown",
   "id": "984ea107",
   "metadata": {},
   "source": [
    "## sshleifer/distilbart-cnn-12-6"
   ]
  },
  {
   "cell_type": "code",
   "execution_count": 15,
   "id": "4224cd0c",
   "metadata": {},
   "outputs": [
    {
     "name": "stdout",
     "output_type": "stream",
     "text": [
      "[{'summary_text': \" Rebel Alliance spies have stolen plans to the Galactic Empire's Death Star . Princess Leia Organa hides the plans in the memory system of astromech droid R2-D2 . The droids are captured by Jawa traders, who sell them to moisture farmers Owen and Beru Lars and their nephew Luke Skywalker . Luke learns that his father fought alongside Obi-Wan as a Jedi Knight during the Clone Wars .\"}]\n"
     ]
    }
   ],
   "source": [
    "bart_summarizer = tr.pipeline(\"summarization\", model=\"sshleifer/distilbart-cnn-12-6\")\n",
    "\n",
    "plot_fragment1 = \"\"\"\n",
    "Amid a galactic civil war, Rebel Alliance spies have stolen plans to the Galactic Empire's Death Star, a massive space station capable of destroying entire planets. Imperial Senator Princess Leia Organa of Alderaan, secretly one of the Rebellion's leaders, has obtained its schematics, but her starship is intercepted by an Imperial Star Destroyer under the command of the ruthless Darth Vader. Before she is captured, Leia hides the plans in the memory system of astromech droid R2-D2, who flees in an escape pod to the nearby desert planet Tatooine alongside his companion, protocol droid C-3PO.\n",
    "\n",
    "The droids are captured by Jawa traders, who sell them to moisture farmers Owen and Beru Lars and their nephew Luke Skywalker. While Luke is cleaning R2-D2, he discovers a holographic recording of Leia requesting help from an Obi-Wan Kenobi. Later, after Luke finds R2-D2 missing, he is attacked by scavenging Sand People while searching for him, but is rescued by elderly hermit \"Old Ben\" Kenobi, an acquaintance of Luke's, who reveals that \"Obi-Wan\" is his true name. Obi-Wan tells Luke of his days as one of the Jedi Knights, the former peacekeepers of the Galactic Republic who drew mystical abilities from a metaphysical energy field known as \"the Force\", but were ultimately hunted to near-extinction by the Empire. Luke learns that his father fought alongside Obi-Wan as a Jedi Knight during the Clone Wars until Vader, Obi-Wan's former pupil, turned to the dark side of the Force and murdered him. Obi-Wan offers Luke his father's old lightsaber, the signature weapon of Jedi Knights. \n",
    "\"\"\"\n",
    "\n",
    "summary = bart_summarizer(plot_fragment1, max_length=100, min_length=10, do_sample=False)\n",
    "\n",
    "print(summary)"
   ]
  },
  {
   "cell_type": "markdown",
   "id": "75ebacb3",
   "metadata": {},
   "source": [
    "## google/pegasus-large"
   ]
  },
  {
   "cell_type": "code",
   "execution_count": 12,
   "id": "00a18074",
   "metadata": {},
   "outputs": [
    {
     "name": "stdout",
     "output_type": "stream",
     "text": [
      "[{'summary_text': \"Luke learns that his father fought alongside Obi-Wan as a Jedi Knight during the Clone Wars until Vader, Obi-Wan's former pupil, turned to galactic the dark side of the Force and murdered him.\"}]\n"
     ]
    }
   ],
   "source": [
    "pegasus_summarizer = tr.pipeline(\"summarization\", model=\"google/pegasus-large\")\n",
    "\n",
    "plot_fragment1 = \"\"\"\n",
    "Amid a galactic civil war, Rebel Alliance spies have stolen plans to the Galactic Empire's Death Star, a massive space station capable of destroying entire planets. Imperial Senator Princess Leia Organa of Alderaan, secretly one of the Rebellion's leaders, has obtained its schematics, but her starship is intercepted by an Imperial Star Destroyer under the command of the ruthless Darth Vader. Before she is captured, Leia hides the plans in the memory system of astromech droid R2-D2, who flees in an escape pod to the nearby desert planet Tatooine alongside his companion, protocol droid C-3PO.\n",
    "\n",
    "The droids are captured by Jawa traders, who sell them to moisture farmers Owen and Beru Lars and their nephew Luke Skywalker. While Luke is cleaning R2-D2, he discovers a holographic recording of Leia requesting help from an Obi-Wan Kenobi. Later, after Luke finds R2-D2 missing, he is attacked by scavenging Sand People while searching for him, but is rescued by elderly hermit \"Old Ben\" Kenobi, an acquaintance of Luke's, who reveals that \"Obi-Wan\" is his true name. Obi-Wan tells Luke of his days as one of the Jedi Knights, the former peacekeepers of the Galactic Republic who drew mystical abilities from a metaphysical energy field known as \"the Force\", but were ultimately hunted to near-extinction by the Empire. Luke learns that his father fought alongside Obi-Wan as a Jedi Knight during the Clone Wars until Vader, Obi-Wan's former pupil, turned to the dark side of the Force and murdered him. Obi-Wan offers Luke his father's old lightsaber, the signature weapon of Jedi Knights. \n",
    "\"\"\"\n",
    "\n",
    "summary = pegasus_summarizer(plot_fragment1, max_length=200, min_length=10, do_sample=False)\n",
    "\n",
    "print(summary)"
   ]
  },
  {
   "cell_type": "code",
   "execution_count": 7,
   "id": "a2ea93c5",
   "metadata": {},
   "outputs": [
    {
     "name": "stdout",
     "output_type": "stream",
     "text": [
      "[{'summary_text': \"Pursued by stormtroopers, Obi-Wan, Luke, R2-D2, and C-3PO flee Tatooine with Han and his Wookiee co-pilot Chewbacca on their ship the Millennium Falcon. Guided by the disembodied voice of Obi-Wan's spirit, Luke uses the Force to aim his awards torpedoes into the exhaust port, destroying the Death Star moments before it fires on the Rebel base.\"}]\n"
     ]
    }
   ],
   "source": [
    "plot_fragment_2 = \"\"\"\n",
    "R2-D2 plays Leia's full message, in which she begs Obi-Wan to take the Death Star plans to her home planet of Alderaan and give them to her father, a fellow veteran, for analysis. Although Luke initially declines Obi-Wan's offer to accompany him to Alderaan and learn the ways of the Force, he is left with no choice after discovering that Imperial stormtroopers have killed his aunt and uncle and destroyed their farm in their search for the droids. Traveling to a cantina in Mos Eisley to search for transport, Luke and Obi-Wan hire Han Solo, a smuggler with a price on his head due to his debt to local mobster Jabba the Hutt. Pursued by stormtroopers, Obi-Wan, Luke, R2-D2, and C-3PO flee Tatooine with Han and his Wookiee co-pilot Chewbacca on their ship the Millennium Falcon.\n",
    "\n",
    "Before the Falcon can reach Alderaan, Death Star commander Grand Moff Tarkin destroys the planet in a show of force after interrogating Leia for the location of the Rebel Alliance's base. Upon arrival, the Falcon is captured by the Death Star's tractor beam, but the group manages to evade capture by hiding in the ship's smuggling compartments. As Obi-Wan leaves to disable the tractor beam, Luke persuades Han and Chewbacca to help him rescue Leia after discovering that she is scheduled to be executed. After disabling the tractor beam, Obi-Wan sacrifices himself in a lightsaber duel against Vader, allowing the rest of the group to escape the Death Star with Leia. Using a tracking device, the Empire tracks the Falcon to the hidden Rebel base on Yavin IV.\n",
    "\n",
    "The schematics reveal a hidden weakness in the Death Star's thermal exhaust port, which could allow the Rebels to trigger a chain reaction in its main reactor with a precise proton torpedo strike. While Han abandons the Rebels after collecting his reward for rescuing Leia, Luke joins their X-wing starfighter squadron in a desperate attack against the approaching Death Star. In the ensuing battle, the Rebels suffer heavy losses as Vader leads a squadron of TIE fighters against them. Han and Chewbacca unexpectedly return to aid them in the Falcon, and knock Vader's ship off course before he can shoot down Luke. Guided by the disembodied voice of Obi-Wan's spirit, Luke uses the Force to aim his torpedoes into the exhaust port, destroying the Death Star moments before it fires on the Rebel base. In a triumphant ceremony at the base, Leia awards Luke and Han medals for their heroism. \n",
    "\"\"\"\n",
    "\n",
    "summary2 = pegasus_summarizer(plot_fragment_2, max_length=200, min_length=10, do_sample=False)\n",
    "print(summary2)"
   ]
  },
  {
   "cell_type": "code",
   "execution_count": 13,
   "id": "562caa58",
   "metadata": {},
   "outputs": [
    {
     "name": "stdout",
     "output_type": "stream",
     "text": [
      "[{'summary_text': \"Guided by the disembodied voice of Obi-Wan's spirit, Luke uses the Force to aim his torpedoes into the exhaust port, destroying the Death Star moments before it fires on the Rebel base.\"}]\n"
     ]
    }
   ],
   "source": [
    "plot_fragment_3 = \"\"\"\n",
    "Before the Falcon can reach Alderaan, Death Star commander Grand Moff Tarkin destroys the planet in a show of force after interrogating Leia for the location of the Rebel Alliance's base. Upon arrival, the Falcon is captured by the Death Star's tractor beam, but the group manages to evade capture by hiding in the ship's smuggling compartments. As Obi-Wan leaves to disable the tractor beam, Luke persuades Han and Chewbacca to help him rescue Leia after discovering that she is scheduled to be executed. After disabling the tractor beam, Obi-Wan sacrifices himself in a lightsaber duel against Vader, allowing the rest of the group to escape the Death Star with Leia. Using a tracking device, the Empire tracks the Falcon to the hidden Rebel base on Yavin IV.\n",
    "\n",
    "The schematics reveal a hidden weakness in the Death Star's thermal exhaust port, which could allow the Rebels to trigger a chain reaction in its main reactor with a precise proton torpedo strike. While Han abandons the Rebels after collecting his reward for rescuing Leia, Luke joins their X-wing starfighter squadron in a desperate attack against the approaching Death Star. In the ensuing battle, the Rebels suffer heavy losses as Vader leads a squadron of TIE fighters against them. Han and Chewbacca unexpectedly return to aid them in the Falcon, and knock Vader's ship off course before he can shoot down Luke. Guided by the disembodied voice of Obi-Wan's spirit, Luke uses the Force to aim his torpedoes into the exhaust port, destroying the Death Star moments before it fires on the Rebel base. In a triumphant ceremony at the base, Leia awards Luke and Han medals for their heroism. \n",
    "\"\"\"\n",
    "\n",
    "summary3 = pegasus_summarizer(plot_fragment_3, max_length=200, min_length=10, do_sample=False)\n",
    "print(summary3)"
   ]
  },
  {
   "cell_type": "code",
   "execution_count": 3,
   "id": "e846a075",
   "metadata": {},
   "outputs": [
    {
     "name": "stdout",
     "output_type": "stream",
     "text": [
      "[{'summary_text': 'Before she is captured, Leia hides the plans in the memory system of astromech droid R2-D2, who flees in an escape pod to the nearby desert planet Tatooine alongside his companion, protocol droid C-3PO. Obi-Wan tells Luke of his days as one of the Jedi Knights, the former peacekeepers of the Galactic Republic who drew mystical abilities from a metaphysical energy field known as \"the Force\", but were ultimately hunted to near-extinction by the Empire.'}]\n"
     ]
    }
   ],
   "source": [
    "full_plot = \"\"\"\n",
    "Amid a galactic civil war, Rebel Alliance spies have stolen plans to the Galactic Empire's Death Star, a massive space station capable of destroying entire planets. Imperial Senator Princess Leia Organa of Alderaan, secretly one of the Rebellion's leaders, has obtained its schematics, but her starship is intercepted by an Imperial Star Destroyer under the command of the ruthless Darth Vader. Before she is captured, Leia hides the plans in the memory system of astromech droid R2-D2, who flees in an escape pod to the nearby desert planet Tatooine alongside his companion, protocol droid C-3PO.\n",
    "\n",
    "The droids are captured by Jawa traders, who sell them to moisture farmers Owen and Beru Lars and their nephew Luke Skywalker. While Luke is cleaning R2-D2, he discovers a holographic recording of Leia requesting help from an Obi-Wan Kenobi. Later, after Luke finds R2-D2 missing, he is attacked by scavenging Sand People while searching for him, but is rescued by elderly hermit \"Old Ben\" Kenobi, an acquaintance of Luke's, who reveals that \"Obi-Wan\" is his true name. Obi-Wan tells Luke of his days as one of the Jedi Knights, the former peacekeepers of the Galactic Republic who drew mystical abilities from a metaphysical energy field known as \"the Force\", but were ultimately hunted to near-extinction by the Empire. Luke learns that his father fought alongside Obi-Wan as a Jedi Knight during the Clone Wars until Vader, Obi-Wan's former pupil, turned to the dark side of the Force and murdered him. Obi-Wan offers Luke his father's old lightsaber, the signature weapon of Jedi Knights.\n",
    "\n",
    "R2-D2 plays Leia's full message, in which she begs Obi-Wan to take the Death Star plans to her home planet of Alderaan and give them to her father, a fellow veteran, for analysis. Although Luke initially declines Obi-Wan's offer to accompany him to Alderaan and learn the ways of the Force, he is left with no choice after discovering that Imperial stormtroopers have killed his aunt and uncle and destroyed their farm in their search for the droids. Traveling to a cantina in Mos Eisley to search for transport, Luke and Obi-Wan hire Han Solo, a smuggler with a price on his head due to his debt to local mobster Jabba the Hutt. Pursued by stormtroopers, Obi-Wan, Luke, R2-D2, and C-3PO flee Tatooine with Han and his Wookiee co-pilot Chewbacca on their ship the Millennium Falcon.\n",
    "\n",
    "Before the Falcon can reach Alderaan, Death Star commander Grand Moff Tarkin destroys the planet in a show of force after interrogating Leia for the location of the Rebel Alliance's base. Upon arrival, the Falcon is captured by the Death Star's tractor beam, but the group manages to evade capture by hiding in the ship's smuggling compartments. As Obi-Wan leaves to disable the tractor beam, Luke persuades Han and Chewbacca to help him rescue Leia after discovering that she is scheduled to be executed. After disabling the tractor beam, Obi-Wan sacrifices himself in a lightsaber duel against Vader, allowing the rest of the group to escape the Death Star with Leia. Using a tracking device, the Empire tracks the Falcon to the hidden Rebel base on Yavin IV.\n",
    "\n",
    "The schematics reveal a hidden weakness in the Death Star's thermal exhaust port, which could allow the Rebels to trigger a chain reaction in its main reactor with a precise proton torpedo strike. While Han abandons the Rebels after collecting his reward for rescuing Leia, Luke joins their X-wing starfighter squadron in a desperate attack against the approaching Death Star. In the ensuing battle, the Rebels suffer heavy losses as Vader leads a squadron of TIE fighters against them. Han and Chewbacca unexpectedly return to aid them in the Falcon, and knock Vader's ship off course before he can shoot down Luke. Guided by the disembodied voice of Obi-Wan's spirit, Luke uses the Force to aim his torpedoes into the exhaust port, destroying the Death Star moments before it fires on the Rebel base. In a triumphant ceremony at the base, Leia awards Luke and Han medals for their heroism. \n",
    "\"\"\"\n",
    "\n",
    "longer_summary = pegasus_summarizer(full_plot, max_length=600, min_length=10, do_sample=False)\n",
    "print(longer_summary)"
   ]
  },
  {
   "cell_type": "markdown",
   "id": "204aa19d",
   "metadata": {},
   "source": [
    "## t5"
   ]
  },
  {
   "cell_type": "code",
   "execution_count": 6,
   "id": "5fe56f1c",
   "metadata": {},
   "outputs": [
    {
     "name": "stdout",
     "output_type": "stream",
     "text": [
      "[{'summary_text': 'droids are captured by Jawa traders, who sell them to moisture farmers . holographic recording of leia requesting help from an Obi-Wan Kenobi . after he finds R2-D2, he is attacked by scavenging Sand People while searching for him .'}]\n"
     ]
    }
   ],
   "source": [
    "t5_summarizer = tr.pipeline(\"summarization\", model=\"t5-small\")\n",
    "\n",
    "plot_fragment1 = \"\"\"\n",
    "The droids are captured by Jawa traders, who sell them to moisture farmers Owen and Beru Lars and their nephew Luke Skywalker. While Luke is cleaning R2-D2, he discovers a holographic recording of Leia requesting help from an Obi-Wan Kenobi. Later, after Luke finds R2-D2 missing, he is attacked by scavenging Sand People while searching for him, but is rescued by elderly hermit \"Old Ben\" Kenobi, an acquaintance of Luke's, who reveals that \"Obi-Wan\" is his true name. Obi-Wan tells Luke of his days as one of the Jedi Knights, the former peacekeepers of the Galactic Republic who drew mystical abilities from a metaphysical energy field known as \"the Force\", but were ultimately hunted to near-extinction by the Empire. Luke learns that his father fought alongside Obi-Wan as a Jedi Knight during the Clone Wars until Vader, Obi-Wan's former pupil, turned to the dark side of the Force and murdered him. Obi-Wan offers Luke his father's old lightsaber, the signature weapon of Jedi Knights. \n",
    "\"\"\"\n",
    "\n",
    "summary = t5_summarizer(plot_fragment1, max_length=200, min_length=40, do_sample=False)\n",
    "print(summary)"
   ]
  },
  {
   "cell_type": "code",
   "execution_count": 8,
   "id": "75a706eb",
   "metadata": {},
   "outputs": [
    {
     "name": "stdout",
     "output_type": "stream",
     "text": [
      "[{'summary_text': 'the thermal exhaust port could trigger a chain reaction in its main reactor with a proton torpedo strike . the rebels suffer heavy losses as Vader leads a squadron of fighters against them .'}]\n"
     ]
    }
   ],
   "source": [
    "plot_fragment2 = \"\"\"\n",
    "The schematics reveal a hidden weakness in the Death Star's thermal exhaust port, which could allow the Rebels to trigger a chain reaction in its main reactor with a precise proton torpedo strike. While Han abandons the Rebels after collecting his reward for rescuing Leia, Luke joins their X-wing starfighter squadron in a desperate attack against the approaching Death Star. In the ensuing battle, the Rebels suffer heavy losses as Vader leads a squadron of TIE fighters against them. Han and Chewbacca unexpectedly return to aid them in the Falcon, and knock Vader's ship off course before he can shoot down Luke. Guided by the disembodied voice of Obi-Wan's spirit, Luke uses the Force to aim his torpedoes into the exhaust port, destroying the Death Star moments before it fires on the Rebel base. In a triumphant ceremony at the base, Leia awards Luke and Han medals for their heroism. \n",
    "\"\"\"\n",
    "\n",
    "summary2 = t5_summarizer(plot_fragment2, max_length=200, min_length=10, do_sample=True)\n",
    "print(summary2)"
   ]
  },
  {
   "cell_type": "code",
   "execution_count": 11,
   "id": "5161d57a",
   "metadata": {},
   "outputs": [
    {
     "data": {
      "text/plain": [
       "79"
      ]
     },
     "execution_count": 11,
     "metadata": {},
     "output_type": "execute_result"
    }
   ],
   "source": [
    "len(plot_fragment2.split())\n",
    "len(\"The schematics reveal a hidden weakness in the Death Star's thermal exhaust port, which could allow the Rebels to trigger a chain reaction in its main reactor with a precise proton torpedo strike. While Han abandons the Rebels after collecting his reward for rescuing Leia, Luke joins their X-wing starfighter squadron in a desperate attack against the approaching Death Star. In the ensuing battle, the Rebels suffer heavy losses as Vader leads a squadron of TIE fighters against them.\".split())"
   ]
  },
  {
   "cell_type": "markdown",
   "id": "7c6eda13",
   "metadata": {},
   "source": [
    "## google/pegasus-xsum"
   ]
  },
  {
   "cell_type": "code",
   "execution_count": 3,
   "id": "8d9e0746",
   "metadata": {},
   "outputs": [
    {
     "data": {
      "application/vnd.jupyter.widget-view+json": {
       "model_id": "41725ef3cfff485195c0ed03c8da19a8",
       "version_major": 2,
       "version_minor": 0
      },
      "text/plain": [
       "Downloading:   0%|          | 0.00/1.36k [00:00<?, ?B/s]"
      ]
     },
     "metadata": {},
     "output_type": "display_data"
    },
    {
     "data": {
      "application/vnd.jupyter.widget-view+json": {
       "model_id": "827e42f9cb874c09a5eee478bc49d782",
       "version_major": 2,
       "version_minor": 0
      },
      "text/plain": [
       "Downloading:   0%|          | 0.00/2.12G [00:00<?, ?B/s]"
      ]
     },
     "metadata": {},
     "output_type": "display_data"
    },
    {
     "data": {
      "application/vnd.jupyter.widget-view+json": {
       "model_id": "0cf6edd66add45269d956d6b829a03f0",
       "version_major": 2,
       "version_minor": 0
      },
      "text/plain": [
       "Downloading:   0%|          | 0.00/87.0 [00:00<?, ?B/s]"
      ]
     },
     "metadata": {},
     "output_type": "display_data"
    },
    {
     "data": {
      "application/vnd.jupyter.widget-view+json": {
       "model_id": "75da38e098434114b6a5b76971692cf6",
       "version_major": 2,
       "version_minor": 0
      },
      "text/plain": [
       "Downloading:   0%|          | 0.00/1.82M [00:00<?, ?B/s]"
      ]
     },
     "metadata": {},
     "output_type": "display_data"
    },
    {
     "data": {
      "application/vnd.jupyter.widget-view+json": {
       "model_id": "ccd8d8f011944c81ace2adbd88654193",
       "version_major": 2,
       "version_minor": 0
      },
      "text/plain": [
       "Downloading:   0%|          | 0.00/3.36M [00:00<?, ?B/s]"
      ]
     },
     "metadata": {},
     "output_type": "display_data"
    },
    {
     "data": {
      "application/vnd.jupyter.widget-view+json": {
       "model_id": "6d6bd0986ba0419ab25bcb93b731a573",
       "version_major": 2,
       "version_minor": 0
      },
      "text/plain": [
       "Downloading:   0%|          | 0.00/65.0 [00:00<?, ?B/s]"
      ]
     },
     "metadata": {},
     "output_type": "display_data"
    },
    {
     "name": "stdout",
     "output_type": "stream",
     "text": [
      "[{'summary_text': 'Star Wars: The Force Awakens is released in cinemas on 25 December 2015.'}]\n"
     ]
    }
   ],
   "source": [
    "xsum_summarizer = tr.pipeline(\"summarization\", model=\"google/pegasus-xsum\")\n",
    "\n",
    "plot_fragment1 = \"\"\"\n",
    "Amid a galactic civil war, Rebel Alliance spies have stolen plans to the Galactic Empire's Death Star, a massive space station capable of destroying entire planets. Imperial Senator Princess Leia Organa of Alderaan, secretly one of the Rebellion's leaders, has obtained its schematics, but her starship is intercepted by an Imperial Star Destroyer under the command of the ruthless Darth Vader. Before she is captured, Leia hides the plans in the memory system of astromech droid R2-D2, who flees in an escape pod to the nearby desert planet Tatooine alongside his companion, protocol droid C-3PO.\n",
    "\n",
    "The droids are captured by Jawa traders, who sell them to moisture farmers Owen and Beru Lars and their nephew Luke Skywalker. While Luke is cleaning R2-D2, he discovers a holographic recording of Leia requesting help from an Obi-Wan Kenobi. Later, after Luke finds R2-D2 missing, he is attacked by scavenging Sand People while searching for him, but is rescued by elderly hermit \"Old Ben\" Kenobi, an acquaintance of Luke's, who reveals that \"Obi-Wan\" is his true name. Obi-Wan tells Luke of his days as one of the Jedi Knights, the former peacekeepers of the Galactic Republic who drew mystical abilities from a metaphysical energy field known as \"the Force\", but were ultimately hunted to near-extinction by the Empire. Luke learns that his father fought alongside Obi-Wan as a Jedi Knight during the Clone Wars until Vader, Obi-Wan's former pupil, turned to the dark side of the Force and murdered him. Obi-Wan offers Luke his father's old lightsaber, the signature weapon of Jedi Knights. \n",
    "\"\"\"\n",
    "\n",
    "summary = xsum_summarizer(plot_fragment1, max_length=200, min_length=10, do_sample=False)\n",
    "\n",
    "print(summary)"
   ]
  },
  {
   "cell_type": "markdown",
   "id": "827710e6",
   "metadata": {},
   "source": [
    "### Pruning the summaries\n",
    "\n",
    "To generate the training queries, we could randomly pick a sentence out of the summary."
   ]
  },
  {
   "cell_type": "code",
   "execution_count": null,
   "id": "f8380dc7",
   "metadata": {},
   "outputs": [],
   "source": []
  }
 ],
 "metadata": {
  "kernelspec": {
   "display_name": "Python 3",
   "language": "python",
   "name": "python3"
  },
  "language_info": {
   "codemirror_mode": {
    "name": "ipython",
    "version": 3
   },
   "file_extension": ".py",
   "mimetype": "text/x-python",
   "name": "python",
   "nbconvert_exporter": "python",
   "pygments_lexer": "ipython3",
   "version": "3.9.12"
  }
 },
 "nbformat": 4,
 "nbformat_minor": 5
}
