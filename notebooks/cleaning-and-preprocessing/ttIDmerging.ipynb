{
 "cells": [
  {
   "cell_type": "markdown",
   "id": "8f43b45f",
   "metadata": {},
   "source": [
    "In this notebook we try to add IMDB ids to the kaggle dataset so we can collect user-created summaries to use as training and testing data to our NN models.  We start with data with cleaned Genres, Director , Cast, and with the CMU data combined. "
   ]
  },
  {
   "cell_type": "code",
   "execution_count": 1,
   "id": "db75b99e",
   "metadata": {},
   "outputs": [],
   "source": [
    "import pandas as pd\n",
    "import numpy as np"
   ]
  },
  {
   "cell_type": "code",
   "execution_count": 2,
   "id": "e6cc768e",
   "metadata": {},
   "outputs": [
    {
     "name": "stderr",
     "output_type": "stream",
     "text": [
      "/var/folders/3l/cr7__h091lqdwb3svwxf1ty00000gn/T/ipykernel_61253/2061139703.py:1: DtypeWarning: Columns (10) have mixed types. Specify dtype option on import or set low_memory=False.\n",
      "  movie_data= pd.read_csv('../Data/movies_metadata.csv')\n"
     ]
    }
   ],
   "source": [
    "movie_data= pd.read_csv('../Data/movies_metadata.csv')"
   ]
  },
  {
   "cell_type": "code",
   "execution_count": 3,
   "id": "38b864a2",
   "metadata": {},
   "outputs": [
    {
     "data": {
      "text/plain": [
       "['adult',\n",
       " 'belongs_to_collection',\n",
       " 'budget',\n",
       " 'genres',\n",
       " 'homepage',\n",
       " 'id',\n",
       " 'imdb_id',\n",
       " 'original_language',\n",
       " 'original_title',\n",
       " 'overview',\n",
       " 'popularity',\n",
       " 'poster_path',\n",
       " 'production_companies',\n",
       " 'production_countries',\n",
       " 'release_date',\n",
       " 'revenue',\n",
       " 'runtime',\n",
       " 'spoken_languages',\n",
       " 'status',\n",
       " 'tagline',\n",
       " 'title',\n",
       " 'video',\n",
       " 'vote_average',\n",
       " 'vote_count']"
      ]
     },
     "execution_count": 3,
     "metadata": {},
     "output_type": "execute_result"
    }
   ],
   "source": [
    "list(movie_data.columns.values)"
   ]
  },
  {
   "cell_type": "code",
   "execution_count": 4,
   "id": "6bc0c267",
   "metadata": {},
   "outputs": [],
   "source": [
    "movie_data = movie_data.drop(columns = ['adult',\n",
    " 'belongs_to_collection',\n",
    " 'budget',\n",
    " 'genres',\n",
    " 'homepage',\n",
    " 'id',\n",
    " 'original_language',\n",
    " 'original_title',\n",
    " 'poster_path',\n",
    " 'production_companies',\n",
    " 'production_countries',\n",
    " 'revenue',\n",
    " 'runtime',\n",
    " 'spoken_languages',\n",
    " 'status',\n",
    " 'tagline',\n",
    " 'video',\n",
    " 'vote_average',\n",
    " 'vote_count'])"
   ]
  },
  {
   "cell_type": "code",
   "execution_count": 5,
   "id": "c8d19d5b",
   "metadata": {},
   "outputs": [
    {
     "data": {
      "text/html": [
       "<div>\n",
       "<style scoped>\n",
       "    .dataframe tbody tr th:only-of-type {\n",
       "        vertical-align: middle;\n",
       "    }\n",
       "\n",
       "    .dataframe tbody tr th {\n",
       "        vertical-align: top;\n",
       "    }\n",
       "\n",
       "    .dataframe thead th {\n",
       "        text-align: right;\n",
       "    }\n",
       "</style>\n",
       "<table border=\"1\" class=\"dataframe\">\n",
       "  <thead>\n",
       "    <tr style=\"text-align: right;\">\n",
       "      <th></th>\n",
       "      <th>imdb_id</th>\n",
       "      <th>overview</th>\n",
       "      <th>popularity</th>\n",
       "      <th>release_date</th>\n",
       "      <th>title</th>\n",
       "    </tr>\n",
       "  </thead>\n",
       "  <tbody>\n",
       "    <tr>\n",
       "      <th>0</th>\n",
       "      <td>tt0114709</td>\n",
       "      <td>Led by Woody, Andy's toys live happily in his ...</td>\n",
       "      <td>21.946943</td>\n",
       "      <td>1995-10-30</td>\n",
       "      <td>Toy Story</td>\n",
       "    </tr>\n",
       "    <tr>\n",
       "      <th>1</th>\n",
       "      <td>tt0113497</td>\n",
       "      <td>When siblings Judy and Peter discover an encha...</td>\n",
       "      <td>17.015539</td>\n",
       "      <td>1995-12-15</td>\n",
       "      <td>Jumanji</td>\n",
       "    </tr>\n",
       "    <tr>\n",
       "      <th>2</th>\n",
       "      <td>tt0113228</td>\n",
       "      <td>A family wedding reignites the ancient feud be...</td>\n",
       "      <td>11.7129</td>\n",
       "      <td>1995-12-22</td>\n",
       "      <td>Grumpier Old Men</td>\n",
       "    </tr>\n",
       "    <tr>\n",
       "      <th>3</th>\n",
       "      <td>tt0114885</td>\n",
       "      <td>Cheated on, mistreated and stepped on, the wom...</td>\n",
       "      <td>3.859495</td>\n",
       "      <td>1995-12-22</td>\n",
       "      <td>Waiting to Exhale</td>\n",
       "    </tr>\n",
       "    <tr>\n",
       "      <th>4</th>\n",
       "      <td>tt0113041</td>\n",
       "      <td>Just when George Banks has recovered from his ...</td>\n",
       "      <td>8.387519</td>\n",
       "      <td>1995-02-10</td>\n",
       "      <td>Father of the Bride Part II</td>\n",
       "    </tr>\n",
       "  </tbody>\n",
       "</table>\n",
       "</div>"
      ],
      "text/plain": [
       "     imdb_id                                           overview popularity  \\\n",
       "0  tt0114709  Led by Woody, Andy's toys live happily in his ...  21.946943   \n",
       "1  tt0113497  When siblings Judy and Peter discover an encha...  17.015539   \n",
       "2  tt0113228  A family wedding reignites the ancient feud be...    11.7129   \n",
       "3  tt0114885  Cheated on, mistreated and stepped on, the wom...   3.859495   \n",
       "4  tt0113041  Just when George Banks has recovered from his ...   8.387519   \n",
       "\n",
       "  release_date                        title  \n",
       "0   1995-10-30                    Toy Story  \n",
       "1   1995-12-15                      Jumanji  \n",
       "2   1995-12-22             Grumpier Old Men  \n",
       "3   1995-12-22            Waiting to Exhale  \n",
       "4   1995-02-10  Father of the Bride Part II  "
      ]
     },
     "execution_count": 5,
     "metadata": {},
     "output_type": "execute_result"
    }
   ],
   "source": [
    "movie_data.head()"
   ]
  },
  {
   "cell_type": "code",
   "execution_count": 6,
   "id": "e213cd73",
   "metadata": {},
   "outputs": [
    {
     "data": {
      "text/plain": [
       "str"
      ]
     },
     "execution_count": 6,
     "metadata": {},
     "output_type": "execute_result"
    }
   ],
   "source": [
    "type(movie_data.loc[0,'release_date'])"
   ]
  },
  {
   "cell_type": "code",
   "execution_count": 7,
   "id": "0c51cd86",
   "metadata": {},
   "outputs": [],
   "source": [
    "movie_data = movie_data.dropna()\n",
    "movie_data = movie_data.rename(columns={'title':\"Title\", \"release_date\":\"Release Year\"})\n",
    "movie_data[\"Release Year\"] = movie_data[\"Release Year\"].str.replace(r'-.*','',regex = True)\n",
    "movie_data[\"Release Year\"] = movie_data[\"Release Year\"].astype('int64')"
   ]
  },
  {
   "cell_type": "code",
   "execution_count": 8,
   "id": "1ddd39e0",
   "metadata": {},
   "outputs": [
    {
     "data": {
      "text/html": [
       "<div>\n",
       "<style scoped>\n",
       "    .dataframe tbody tr th:only-of-type {\n",
       "        vertical-align: middle;\n",
       "    }\n",
       "\n",
       "    .dataframe tbody tr th {\n",
       "        vertical-align: top;\n",
       "    }\n",
       "\n",
       "    .dataframe thead th {\n",
       "        text-align: right;\n",
       "    }\n",
       "</style>\n",
       "<table border=\"1\" class=\"dataframe\">\n",
       "  <thead>\n",
       "    <tr style=\"text-align: right;\">\n",
       "      <th></th>\n",
       "      <th>imdb_id</th>\n",
       "      <th>overview</th>\n",
       "      <th>popularity</th>\n",
       "      <th>Release Year</th>\n",
       "      <th>Title</th>\n",
       "    </tr>\n",
       "  </thead>\n",
       "  <tbody>\n",
       "    <tr>\n",
       "      <th>0</th>\n",
       "      <td>tt0114709</td>\n",
       "      <td>Led by Woody, Andy's toys live happily in his ...</td>\n",
       "      <td>21.946943</td>\n",
       "      <td>1995</td>\n",
       "      <td>Toy Story</td>\n",
       "    </tr>\n",
       "    <tr>\n",
       "      <th>1</th>\n",
       "      <td>tt0113497</td>\n",
       "      <td>When siblings Judy and Peter discover an encha...</td>\n",
       "      <td>17.015539</td>\n",
       "      <td>1995</td>\n",
       "      <td>Jumanji</td>\n",
       "    </tr>\n",
       "    <tr>\n",
       "      <th>2</th>\n",
       "      <td>tt0113228</td>\n",
       "      <td>A family wedding reignites the ancient feud be...</td>\n",
       "      <td>11.7129</td>\n",
       "      <td>1995</td>\n",
       "      <td>Grumpier Old Men</td>\n",
       "    </tr>\n",
       "    <tr>\n",
       "      <th>3</th>\n",
       "      <td>tt0114885</td>\n",
       "      <td>Cheated on, mistreated and stepped on, the wom...</td>\n",
       "      <td>3.859495</td>\n",
       "      <td>1995</td>\n",
       "      <td>Waiting to Exhale</td>\n",
       "    </tr>\n",
       "    <tr>\n",
       "      <th>4</th>\n",
       "      <td>tt0113041</td>\n",
       "      <td>Just when George Banks has recovered from his ...</td>\n",
       "      <td>8.387519</td>\n",
       "      <td>1995</td>\n",
       "      <td>Father of the Bride Part II</td>\n",
       "    </tr>\n",
       "  </tbody>\n",
       "</table>\n",
       "</div>"
      ],
      "text/plain": [
       "     imdb_id                                           overview popularity  \\\n",
       "0  tt0114709  Led by Woody, Andy's toys live happily in his ...  21.946943   \n",
       "1  tt0113497  When siblings Judy and Peter discover an encha...  17.015539   \n",
       "2  tt0113228  A family wedding reignites the ancient feud be...    11.7129   \n",
       "3  tt0114885  Cheated on, mistreated and stepped on, the wom...   3.859495   \n",
       "4  tt0113041  Just when George Banks has recovered from his ...   8.387519   \n",
       "\n",
       "   Release Year                        Title  \n",
       "0          1995                    Toy Story  \n",
       "1          1995                      Jumanji  \n",
       "2          1995             Grumpier Old Men  \n",
       "3          1995            Waiting to Exhale  \n",
       "4          1995  Father of the Bride Part II  "
      ]
     },
     "execution_count": 8,
     "metadata": {},
     "output_type": "execute_result"
    }
   ],
   "source": [
    "movie_data.head()"
   ]
  },
  {
   "cell_type": "code",
   "execution_count": 9,
   "id": "d04dac57",
   "metadata": {},
   "outputs": [
    {
     "data": {
      "text/plain": [
       "158"
      ]
     },
     "execution_count": 9,
     "metadata": {},
     "output_type": "execute_result"
    }
   ],
   "source": [
    "todrop = movie_data.loc[movie_data.duplicated(subset = ['Title', 'Release Year'],keep = False)]\n",
    "len(todrop)"
   ]
  },
  {
   "cell_type": "code",
   "execution_count": 10,
   "id": "cfe53333",
   "metadata": {},
   "outputs": [],
   "source": [
    "movie_data = movie_data.drop(index = todrop.index)"
   ]
  },
  {
   "cell_type": "code",
   "execution_count": 11,
   "id": "458de5ac",
   "metadata": {},
   "outputs": [
    {
     "name": "stdout",
     "output_type": "stream",
     "text": [
      "33977\n",
      "33977\n"
     ]
    }
   ],
   "source": [
    "data = pd.read_csv('../Data/wiki_plots_with_genres_c2.csv')\n",
    "print(len(data))\n",
    "data2 = data.merge(movie_data, how = 'left', on = ['Title', 'Release Year'])\n",
    "data2 = data2.drop(columns = ['Unnamed: 0'])\n",
    "print(len(data2))"
   ]
  },
  {
   "cell_type": "code",
   "execution_count": 12,
   "id": "263ebcd9",
   "metadata": {},
   "outputs": [],
   "source": [
    "from pathlib import Path  \n",
    "filepath = Path('../Data/wiki_plots_with_genres_c3.csv')  \n",
    "filepath.parent.mkdir(parents=True, exist_ok=True)  \n",
    "data2.to_csv(filepath) "
   ]
  },
  {
   "cell_type": "markdown",
   "id": "b908dbad",
   "metadata": {},
   "source": [
    "Revenue_new and Revenue are  gathered from two different data sets. So they may be different. When Revenue = 0, it may be missing actually. "
   ]
  }
 ],
 "metadata": {
  "kernelspec": {
   "display_name": "Python 3 (ipykernel)",
   "language": "python",
   "name": "python3"
  },
  "language_info": {
   "codemirror_mode": {
    "name": "ipython",
    "version": 3
   },
   "file_extension": ".py",
   "mimetype": "text/x-python",
   "name": "python",
   "nbconvert_exporter": "python",
   "pygments_lexer": "ipython3",
   "version": "3.9.12"
  }
 },
 "nbformat": 4,
 "nbformat_minor": 5
}
