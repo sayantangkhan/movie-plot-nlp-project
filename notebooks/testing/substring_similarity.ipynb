{
 "cells": [
  {
   "cell_type": "markdown",
   "metadata": {},
   "source": [
    "# Naïve substring similarity search\n",
    "\n",
    "This notebook implements the naïve baseline algorithm: computing the [overlap coefficient](https://en.wikipedia.org/wiki/Overlap_coefficient) between the search query and all the plot summaries, and return the 10 highest scoring movies.\n",
    "\n",
    "We implement this merely to compare the accuracy to the more sophisticated algorithms.\n",
    "\n",
    "## Download and import packages"
   ]
  },
  {
   "cell_type": "code",
   "execution_count": null,
   "metadata": {
    "colab": {
     "base_uri": "https://localhost:8080/"
    },
    "id": "QfNx1COrY7De",
    "outputId": "ec453de6-a33d-4253-c457-8140aff113d4"
   },
   "outputs": [
    {
     "name": "stdout",
     "output_type": "stream",
     "text": [
      "Looking in indexes: https://pypi.org/simple, https://us-python.pkg.dev/colab-wheels/public/simple/\n",
      "Collecting strsimpy\n",
      "  Downloading strsimpy-0.2.1-py3-none-any.whl (45 kB)\n",
      "\u001b[K     |████████████████████████████████| 45 kB 1.3 MB/s \n",
      "\u001b[?25hInstalling collected packages: strsimpy\n",
      "Successfully installed strsimpy-0.2.1\n"
     ]
    }
   ],
   "source": [
    "!pip install -U strsimpy"
   ]
  },
  {
   "cell_type": "code",
   "execution_count": null,
   "metadata": {
    "colab": {
     "base_uri": "https://localhost:8080/"
    },
    "id": "X4RhTXzKZQkk",
    "outputId": "568854ae-1b27-4723-ac57-3d738c50d7a4"
   },
   "outputs": [
    {
     "name": "stderr",
     "output_type": "stream",
     "text": [
      "/usr/local/lib/python3.7/dist-packages/ipykernel_launcher.py:3: TqdmExperimentalWarning: Using `tqdm.autonotebook.tqdm` in notebook mode. Use `tqdm.tqdm` instead to force console mode (e.g. in jupyter console)\n",
      "  This is separate from the ipykernel package so we can avoid doing imports until\n"
     ]
    }
   ],
   "source": [
    "import ast\n",
    "from strsimpy.overlap_coefficient import OverlapCoefficient\n",
    "from tqdm.autonotebook import tqdm\n",
    "import pandas as pd"
   ]
  },
  {
   "cell_type": "markdown",
   "metadata": {},
   "source": [
    "## Setting hyperparameters and data preprocessing"
   ]
  },
  {
   "cell_type": "code",
   "execution_count": null,
   "metadata": {
    "id": "YO4RqZsDZ-oB"
   },
   "outputs": [],
   "source": [
    "# Some hyperparameters\n",
    "\n",
    "pre_prune_results = 100\n",
    "results_to_show = 10"
   ]
  },
  {
   "cell_type": "code",
   "execution_count": null,
   "metadata": {
    "colab": {
     "base_uri": "https://localhost:8080/"
    },
    "id": "HX0xNovjanZa",
    "outputId": "18b2e3ef-cbd3-4080-fb46-f6de3d16e70e"
   },
   "outputs": [
    {
     "name": "stdout",
     "output_type": "stream",
     "text": [
      "Mounted at /content/gdrive\n"
     ]
    }
   ],
   "source": [
    "# Mount drive and load datasets and model\n",
    "\n",
    "from google.colab import drive\n",
    "drive.mount(\"/content/gdrive\")\n",
    "\n",
    "plots = pd.read_csv(\"/content/gdrive/MyDrive/imdb_plots.csv\", compression=\"zip\", converters={'to_embed': ast.literal_eval})\n",
    "\n",
    "plots['MovieId'] = plots.index\n",
    "plots = plots.drop(['Unnamed: 0', 'Unnamed: 0.1'], axis=1)"
   ]
  },
  {
   "cell_type": "code",
   "execution_count": null,
   "metadata": {
    "id": "a4b6FPwnaqbG"
   },
   "outputs": [],
   "source": [
    "movie_ids = []\n",
    "to_embed = []\n",
    "for row in plots.iterrows():\n",
    "  movie_id = row[1]['MovieId']\n",
    "  for frag in row[1]['to_embed']:\n",
    "    movie_ids.append(movie_id)\n",
    "    to_embed.append(frag.lower())\n",
    "\n",
    "id_and_summary = pd.DataFrame({'MovieId': movie_ids, 'to_embed': to_embed})"
   ]
  },
  {
   "cell_type": "code",
   "execution_count": null,
   "metadata": {
    "id": "XEIk60ZDa2Ps"
   },
   "outputs": [],
   "source": [
    "movie_ids = []\n",
    "queries = []\n",
    "for row in plots.iterrows():\n",
    "  movie_id = row[1]['MovieId']\n",
    "  summ1 = row[1]['imdb_1']\n",
    "  summ2 = row[1]['imdb_2']\n",
    "  if not pd.isna(summ1):\n",
    "    movie_ids.append(movie_id)\n",
    "    queries.append(summ1.lower())\n",
    "  if not pd.isna(summ2):\n",
    "    movie_ids.append(movie_id)\n",
    "    queries.append(summ2.lower())\n",
    "\n",
    "test_queries = pd.DataFrame({'MovieId': movie_ids, 'summary': queries})"
   ]
  },
  {
   "cell_type": "code",
   "execution_count": null,
   "metadata": {
    "id": "BgPAFywwcCgf"
   },
   "outputs": [],
   "source": [
    "oc = OverlapCoefficient()"
   ]
  },
  {
   "cell_type": "markdown",
   "metadata": {},
   "source": [
    "## Defining the search function using the overlap coefficient"
   ]
  },
  {
   "cell_type": "code",
   "execution_count": null,
   "metadata": {
    "id": "_wYeHm9Ka5a6"
   },
   "outputs": [],
   "source": [
    "def overlap_query(query_string, id_and_summary, wiki_dataset):\n",
    "  query_string = query_string.lower()\n",
    "  hits = []\n",
    "  for row in id_and_summary.iterrows():\n",
    "    movie_id = row[1]['MovieId']\n",
    "    summary_fragment = row[1]['to_embed']\n",
    "    score = oc.similarity(query_string, summary_fragment)\n",
    "    hits.append((score, movie_id))\n",
    "  hits.sort(key=lambda x: x[0], reverse=True)\n",
    "  hits = hits[:pre_prune_results]\n",
    "\n",
    "  results = []\n",
    "  for raw_res in hits:\n",
    "    if len(results) >= results_to_show:\n",
    "      break\n",
    "    \n",
    "    score, movie_id = raw_res\n",
    "    movie_title = wiki_dataset['Title'][movie_id]\n",
    "    movie_year = wiki_dataset['Release Year'][movie_id]\n",
    "    if movie_title.strip() not in map(lambda x: x[0][0].strip(), results):\n",
    "      results.append(((movie_title, movie_year), score))\n",
    "  return results\n",
    "\n",
    "def measure_accuracy(query_dataset, id_and_summary, wiki_dataset):\n",
    "  total = 0\n",
    "  correct = 0\n",
    "\n",
    "  for row in tqdm(query_dataset.iterrows()):\n",
    "    query_string = row[1]['summary']\n",
    "    movie_id = row[1]['MovieId']\n",
    "\n",
    "    hits = overlap_query(query_string, id_and_summary, wiki_dataset)\n",
    "    movie_title = wiki_dataset['Title'][movie_id]\n",
    "    if movie_title.strip() in map(lambda x: x[0][0].strip(), hits):\n",
    "      correct += 1\n",
    "    total += 1\n",
    "\n",
    "  return correct/total"
   ]
  },
  {
   "cell_type": "markdown",
   "metadata": {},
   "source": [
    "## An example\n",
    "\n",
    "Note that even after picking a substring of the plot summary of Shrek, none of the movies returned are the ones we were referencing."
   ]
  },
  {
   "cell_type": "code",
   "execution_count": null,
   "metadata": {
    "colab": {
     "base_uri": "https://localhost:8080/"
    },
    "id": "i0mh7JppdLbJ",
    "outputId": "d3b06aa2-ecbe-41cd-da65-23556f3c1fea"
   },
   "outputs": [
    {
     "data": {
      "text/plain": [
       "[(('Love and Death', 1975), 0.8421052631578947),\n",
       " (('Howard the Duck', 1986), 0.8157894736842105),\n",
       " (('Shallow Grave', 1994), 0.8157894736842105),\n",
       " ((\"Father's Little Dividend\", 1951), 0.7894736842105263),\n",
       " (('Loving You', 1957), 0.7894736842105263),\n",
       " ((\"The Last Flight of Noah's Ark\", 1980), 0.7894736842105263),\n",
       " (('Silent Night, Deadly Night', 1984), 0.7894736842105263),\n",
       " (('Class of 1999', 1990), 0.7894736842105263),\n",
       " (('Oscar', 1991), 0.7894736842105263),\n",
       " (('The Human Stain', 2003), 0.7894736842105263)]"
      ]
     },
     "execution_count": 22,
     "metadata": {},
     "output_type": "execute_result"
    }
   ],
   "source": [
    "query = \"His life is interrupted after the dwarfish\"\n",
    "\n",
    "overlap_query(query, id_and_summary, plots)"
   ]
  },
  {
   "cell_type": "markdown",
   "metadata": {
    "id": "Xze6V-CRdsoL"
   },
   "source": [
    "## Testing performance on IMDB query set\n",
    "\n",
    "Since this search function is rather slow, we only check the accuracy on 200 movies in the dataset."
   ]
  },
  {
   "cell_type": "code",
   "execution_count": null,
   "metadata": {
    "colab": {
     "base_uri": "https://localhost:8080/",
     "height": 424
    },
    "id": "4Wntj8dydRbb",
    "outputId": "f5ac5f84-8f16-4a18-d77d-31e1be3b67f2"
   },
   "outputs": [
    {
     "data": {
      "text/html": [
       "\n",
       "  <div id=\"df-0758b430-efd7-46ad-b884-9205270c8d36\">\n",
       "    <div class=\"colab-df-container\">\n",
       "      <div>\n",
       "<style scoped>\n",
       "    .dataframe tbody tr th:only-of-type {\n",
       "        vertical-align: middle;\n",
       "    }\n",
       "\n",
       "    .dataframe tbody tr th {\n",
       "        vertical-align: top;\n",
       "    }\n",
       "\n",
       "    .dataframe thead th {\n",
       "        text-align: right;\n",
       "    }\n",
       "</style>\n",
       "<table border=\"1\" class=\"dataframe\">\n",
       "  <thead>\n",
       "    <tr style=\"text-align: right;\">\n",
       "      <th></th>\n",
       "      <th>MovieId</th>\n",
       "      <th>summary</th>\n",
       "    </tr>\n",
       "  </thead>\n",
       "  <tbody>\n",
       "    <tr>\n",
       "      <th>0</th>\n",
       "      <td>0</td>\n",
       "      <td>a chivalrous british officer takes the blame f...</td>\n",
       "    </tr>\n",
       "    <tr>\n",
       "      <th>1</th>\n",
       "      <td>0</td>\n",
       "      <td>captain wynnegate leaves england, accepting th...</td>\n",
       "    </tr>\n",
       "    <tr>\n",
       "      <th>2</th>\n",
       "      <td>1</td>\n",
       "      <td>a naive country girl is tricked into a sham ma...</td>\n",
       "    </tr>\n",
       "    <tr>\n",
       "      <th>3</th>\n",
       "      <td>1</td>\n",
       "      <td>the callous rich, portrayed by lennox, think o...</td>\n",
       "    </tr>\n",
       "    <tr>\n",
       "      <th>4</th>\n",
       "      <td>2</td>\n",
       "      <td>an extended family split up in france and germ...</td>\n",
       "    </tr>\n",
       "    <tr>\n",
       "      <th>...</th>\n",
       "      <td>...</td>\n",
       "      <td>...</td>\n",
       "    </tr>\n",
       "    <tr>\n",
       "      <th>9982</th>\n",
       "      <td>5268</td>\n",
       "      <td>four girls travel to a party in an isolated ho...</td>\n",
       "    </tr>\n",
       "    <tr>\n",
       "      <th>9983</th>\n",
       "      <td>5269</td>\n",
       "      <td>jae-hyuk is an ordinary man in his 40s. he wor...</td>\n",
       "    </tr>\n",
       "    <tr>\n",
       "      <th>9984</th>\n",
       "      <td>5270</td>\n",
       "      <td>esra working for a logistics firm lives with h...</td>\n",
       "    </tr>\n",
       "    <tr>\n",
       "      <th>9985</th>\n",
       "      <td>5271</td>\n",
       "      <td>recep ivedik has been depressed since the deat...</td>\n",
       "    </tr>\n",
       "    <tr>\n",
       "      <th>9986</th>\n",
       "      <td>5272</td>\n",
       "      <td>two turkish anti-terrorist agents are sent to ...</td>\n",
       "    </tr>\n",
       "  </tbody>\n",
       "</table>\n",
       "<p>9987 rows × 2 columns</p>\n",
       "</div>\n",
       "      <button class=\"colab-df-convert\" onclick=\"convertToInteractive('df-0758b430-efd7-46ad-b884-9205270c8d36')\"\n",
       "              title=\"Convert this dataframe to an interactive table.\"\n",
       "              style=\"display:none;\">\n",
       "        \n",
       "  <svg xmlns=\"http://www.w3.org/2000/svg\" height=\"24px\"viewBox=\"0 0 24 24\"\n",
       "       width=\"24px\">\n",
       "    <path d=\"M0 0h24v24H0V0z\" fill=\"none\"/>\n",
       "    <path d=\"M18.56 5.44l.94 2.06.94-2.06 2.06-.94-2.06-.94-.94-2.06-.94 2.06-2.06.94zm-11 1L8.5 8.5l.94-2.06 2.06-.94-2.06-.94L8.5 2.5l-.94 2.06-2.06.94zm10 10l.94 2.06.94-2.06 2.06-.94-2.06-.94-.94-2.06-.94 2.06-2.06.94z\"/><path d=\"M17.41 7.96l-1.37-1.37c-.4-.4-.92-.59-1.43-.59-.52 0-1.04.2-1.43.59L10.3 9.45l-7.72 7.72c-.78.78-.78 2.05 0 2.83L4 21.41c.39.39.9.59 1.41.59.51 0 1.02-.2 1.41-.59l7.78-7.78 2.81-2.81c.8-.78.8-2.07 0-2.86zM5.41 20L4 18.59l7.72-7.72 1.47 1.35L5.41 20z\"/>\n",
       "  </svg>\n",
       "      </button>\n",
       "      \n",
       "  <style>\n",
       "    .colab-df-container {\n",
       "      display:flex;\n",
       "      flex-wrap:wrap;\n",
       "      gap: 12px;\n",
       "    }\n",
       "\n",
       "    .colab-df-convert {\n",
       "      background-color: #E8F0FE;\n",
       "      border: none;\n",
       "      border-radius: 50%;\n",
       "      cursor: pointer;\n",
       "      display: none;\n",
       "      fill: #1967D2;\n",
       "      height: 32px;\n",
       "      padding: 0 0 0 0;\n",
       "      width: 32px;\n",
       "    }\n",
       "\n",
       "    .colab-df-convert:hover {\n",
       "      background-color: #E2EBFA;\n",
       "      box-shadow: 0px 1px 2px rgba(60, 64, 67, 0.3), 0px 1px 3px 1px rgba(60, 64, 67, 0.15);\n",
       "      fill: #174EA6;\n",
       "    }\n",
       "\n",
       "    [theme=dark] .colab-df-convert {\n",
       "      background-color: #3B4455;\n",
       "      fill: #D2E3FC;\n",
       "    }\n",
       "\n",
       "    [theme=dark] .colab-df-convert:hover {\n",
       "      background-color: #434B5C;\n",
       "      box-shadow: 0px 1px 3px 1px rgba(0, 0, 0, 0.15);\n",
       "      filter: drop-shadow(0px 1px 2px rgba(0, 0, 0, 0.3));\n",
       "      fill: #FFFFFF;\n",
       "    }\n",
       "  </style>\n",
       "\n",
       "      <script>\n",
       "        const buttonEl =\n",
       "          document.querySelector('#df-0758b430-efd7-46ad-b884-9205270c8d36 button.colab-df-convert');\n",
       "        buttonEl.style.display =\n",
       "          google.colab.kernel.accessAllowed ? 'block' : 'none';\n",
       "\n",
       "        async function convertToInteractive(key) {\n",
       "          const element = document.querySelector('#df-0758b430-efd7-46ad-b884-9205270c8d36');\n",
       "          const dataTable =\n",
       "            await google.colab.kernel.invokeFunction('convertToInteractive',\n",
       "                                                     [key], {});\n",
       "          if (!dataTable) return;\n",
       "\n",
       "          const docLinkHtml = 'Like what you see? Visit the ' +\n",
       "            '<a target=\"_blank\" href=https://colab.research.google.com/notebooks/data_table.ipynb>data table notebook</a>'\n",
       "            + ' to learn more about interactive tables.';\n",
       "          element.innerHTML = '';\n",
       "          dataTable['output_type'] = 'display_data';\n",
       "          await google.colab.output.renderOutput(dataTable, element);\n",
       "          const docLink = document.createElement('div');\n",
       "          docLink.innerHTML = docLinkHtml;\n",
       "          element.appendChild(docLink);\n",
       "        }\n",
       "      </script>\n",
       "    </div>\n",
       "  </div>\n",
       "  "
      ],
      "text/plain": [
       "      MovieId                                            summary\n",
       "0           0  a chivalrous british officer takes the blame f...\n",
       "1           0  captain wynnegate leaves england, accepting th...\n",
       "2           1  a naive country girl is tricked into a sham ma...\n",
       "3           1  the callous rich, portrayed by lennox, think o...\n",
       "4           2  an extended family split up in france and germ...\n",
       "...       ...                                                ...\n",
       "9982     5268  four girls travel to a party in an isolated ho...\n",
       "9983     5269  jae-hyuk is an ordinary man in his 40s. he wor...\n",
       "9984     5270  esra working for a logistics firm lives with h...\n",
       "9985     5271  recep ivedik has been depressed since the deat...\n",
       "9986     5272  two turkish anti-terrorist agents are sent to ...\n",
       "\n",
       "[9987 rows x 2 columns]"
      ]
     },
     "execution_count": 23,
     "metadata": {},
     "output_type": "execute_result"
    }
   ],
   "source": [
    "test_queries"
   ]
  },
  {
   "cell_type": "code",
   "execution_count": null,
   "metadata": {
    "id": "8CRnEnVWeDdQ"
   },
   "outputs": [],
   "source": [
    "test_queries_small = test_queries.head(200)"
   ]
  },
  {
   "cell_type": "code",
   "execution_count": null,
   "metadata": {
    "colab": {
     "base_uri": "https://localhost:8080/",
     "height": 66,
     "referenced_widgets": [
      "ae690d3502674bbd895a23bf6160ac93",
      "06188981851f464aa1ba774a4f0236ac",
      "ed1927a63b6646b884c0157a9da40257",
      "8f324e672ad74f3c9a954e35a37d844f",
      "5847501957884a9497f9ece30f9c9479",
      "fb6579f0e9034e8694082d3d30fd44d9",
      "92aaabcf5a65435a81643d77d00acbcf",
      "b7b1e9fe8a494da5a9f827c9824e1e4a",
      "c9bfe7e62a154da88873ab70e0e9f444",
      "1f5b45ef3726410887c3f6e73aea3ec9",
      "bf067d9eed854bf3abeed9aa16dc27e8"
     ]
    },
    "id": "G0HLVY75dyFL",
    "outputId": "df629099-98a5-4c0f-9b5f-d1ed34c6493c"
   },
   "outputs": [
    {
     "data": {
      "application/vnd.jupyter.widget-view+json": {
       "model_id": "ae690d3502674bbd895a23bf6160ac93",
       "version_major": 2,
       "version_minor": 0
      },
      "text/plain": [
       "0it [00:00, ?it/s]"
      ]
     },
     "metadata": {},
     "output_type": "display_data"
    },
    {
     "data": {
      "text/plain": [
       "0.21"
      ]
     },
     "execution_count": 26,
     "metadata": {},
     "output_type": "execute_result"
    }
   ],
   "source": [
    "measure_accuracy(test_queries_small, id_and_summary, plots)"
   ]
  },
  {
   "cell_type": "code",
   "execution_count": null,
   "metadata": {
    "id": "uPiFT1-nd2tM"
   },
   "outputs": [],
   "source": []
  }
 ],
 "metadata": {
  "colab": {
   "collapsed_sections": [],
   "name": "substring-similarity.ipynb",
   "provenance": []
  },
  "kernelspec": {
   "display_name": "Python 3",
   "language": "python",
   "name": "python3"
  },
  "language_info": {
   "codemirror_mode": {
    "name": "ipython",
    "version": 3
   },
   "file_extension": ".py",
   "mimetype": "text/x-python",
   "name": "python",
   "nbconvert_exporter": "python",
   "pygments_lexer": "ipython3",
   "version": "3.9.12"
  },
  "widgets": {
   "application/vnd.jupyter.widget-state+json": {
    "06188981851f464aa1ba774a4f0236ac": {
     "model_module": "@jupyter-widgets/controls",
     "model_module_version": "1.5.0",
     "model_name": "HTMLModel",
     "state": {
      "_dom_classes": [],
      "_model_module": "@jupyter-widgets/controls",
      "_model_module_version": "1.5.0",
      "_model_name": "HTMLModel",
      "_view_count": null,
      "_view_module": "@jupyter-widgets/controls",
      "_view_module_version": "1.5.0",
      "_view_name": "HTMLView",
      "description": "",
      "description_tooltip": null,
      "layout": "IPY_MODEL_fb6579f0e9034e8694082d3d30fd44d9",
      "placeholder": "​",
      "style": "IPY_MODEL_92aaabcf5a65435a81643d77d00acbcf",
      "value": ""
     }
    },
    "1f5b45ef3726410887c3f6e73aea3ec9": {
     "model_module": "@jupyter-widgets/base",
     "model_module_version": "1.2.0",
     "model_name": "LayoutModel",
     "state": {
      "_model_module": "@jupyter-widgets/base",
      "_model_module_version": "1.2.0",
      "_model_name": "LayoutModel",
      "_view_count": null,
      "_view_module": "@jupyter-widgets/base",
      "_view_module_version": "1.2.0",
      "_view_name": "LayoutView",
      "align_content": null,
      "align_items": null,
      "align_self": null,
      "border": null,
      "bottom": null,
      "display": null,
      "flex": null,
      "flex_flow": null,
      "grid_area": null,
      "grid_auto_columns": null,
      "grid_auto_flow": null,
      "grid_auto_rows": null,
      "grid_column": null,
      "grid_gap": null,
      "grid_row": null,
      "grid_template_areas": null,
      "grid_template_columns": null,
      "grid_template_rows": null,
      "height": null,
      "justify_content": null,
      "justify_items": null,
      "left": null,
      "margin": null,
      "max_height": null,
      "max_width": null,
      "min_height": null,
      "min_width": null,
      "object_fit": null,
      "object_position": null,
      "order": null,
      "overflow": null,
      "overflow_x": null,
      "overflow_y": null,
      "padding": null,
      "right": null,
      "top": null,
      "visibility": null,
      "width": null
     }
    },
    "5847501957884a9497f9ece30f9c9479": {
     "model_module": "@jupyter-widgets/base",
     "model_module_version": "1.2.0",
     "model_name": "LayoutModel",
     "state": {
      "_model_module": "@jupyter-widgets/base",
      "_model_module_version": "1.2.0",
      "_model_name": "LayoutModel",
      "_view_count": null,
      "_view_module": "@jupyter-widgets/base",
      "_view_module_version": "1.2.0",
      "_view_name": "LayoutView",
      "align_content": null,
      "align_items": null,
      "align_self": null,
      "border": null,
      "bottom": null,
      "display": null,
      "flex": null,
      "flex_flow": null,
      "grid_area": null,
      "grid_auto_columns": null,
      "grid_auto_flow": null,
      "grid_auto_rows": null,
      "grid_column": null,
      "grid_gap": null,
      "grid_row": null,
      "grid_template_areas": null,
      "grid_template_columns": null,
      "grid_template_rows": null,
      "height": null,
      "justify_content": null,
      "justify_items": null,
      "left": null,
      "margin": null,
      "max_height": null,
      "max_width": null,
      "min_height": null,
      "min_width": null,
      "object_fit": null,
      "object_position": null,
      "order": null,
      "overflow": null,
      "overflow_x": null,
      "overflow_y": null,
      "padding": null,
      "right": null,
      "top": null,
      "visibility": null,
      "width": null
     }
    },
    "8f324e672ad74f3c9a954e35a37d844f": {
     "model_module": "@jupyter-widgets/controls",
     "model_module_version": "1.5.0",
     "model_name": "HTMLModel",
     "state": {
      "_dom_classes": [],
      "_model_module": "@jupyter-widgets/controls",
      "_model_module_version": "1.5.0",
      "_model_name": "HTMLModel",
      "_view_count": null,
      "_view_module": "@jupyter-widgets/controls",
      "_view_module_version": "1.5.0",
      "_view_name": "HTMLView",
      "description": "",
      "description_tooltip": null,
      "layout": "IPY_MODEL_1f5b45ef3726410887c3f6e73aea3ec9",
      "placeholder": "​",
      "style": "IPY_MODEL_bf067d9eed854bf3abeed9aa16dc27e8",
      "value": " 200/? [1:09:38&lt;00:00, 19.02s/it]"
     }
    },
    "92aaabcf5a65435a81643d77d00acbcf": {
     "model_module": "@jupyter-widgets/controls",
     "model_module_version": "1.5.0",
     "model_name": "DescriptionStyleModel",
     "state": {
      "_model_module": "@jupyter-widgets/controls",
      "_model_module_version": "1.5.0",
      "_model_name": "DescriptionStyleModel",
      "_view_count": null,
      "_view_module": "@jupyter-widgets/base",
      "_view_module_version": "1.2.0",
      "_view_name": "StyleView",
      "description_width": ""
     }
    },
    "ae690d3502674bbd895a23bf6160ac93": {
     "model_module": "@jupyter-widgets/controls",
     "model_module_version": "1.5.0",
     "model_name": "HBoxModel",
     "state": {
      "_dom_classes": [],
      "_model_module": "@jupyter-widgets/controls",
      "_model_module_version": "1.5.0",
      "_model_name": "HBoxModel",
      "_view_count": null,
      "_view_module": "@jupyter-widgets/controls",
      "_view_module_version": "1.5.0",
      "_view_name": "HBoxView",
      "box_style": "",
      "children": [
       "IPY_MODEL_06188981851f464aa1ba774a4f0236ac",
       "IPY_MODEL_ed1927a63b6646b884c0157a9da40257",
       "IPY_MODEL_8f324e672ad74f3c9a954e35a37d844f"
      ],
      "layout": "IPY_MODEL_5847501957884a9497f9ece30f9c9479"
     }
    },
    "b7b1e9fe8a494da5a9f827c9824e1e4a": {
     "model_module": "@jupyter-widgets/base",
     "model_module_version": "1.2.0",
     "model_name": "LayoutModel",
     "state": {
      "_model_module": "@jupyter-widgets/base",
      "_model_module_version": "1.2.0",
      "_model_name": "LayoutModel",
      "_view_count": null,
      "_view_module": "@jupyter-widgets/base",
      "_view_module_version": "1.2.0",
      "_view_name": "LayoutView",
      "align_content": null,
      "align_items": null,
      "align_self": null,
      "border": null,
      "bottom": null,
      "display": null,
      "flex": null,
      "flex_flow": null,
      "grid_area": null,
      "grid_auto_columns": null,
      "grid_auto_flow": null,
      "grid_auto_rows": null,
      "grid_column": null,
      "grid_gap": null,
      "grid_row": null,
      "grid_template_areas": null,
      "grid_template_columns": null,
      "grid_template_rows": null,
      "height": null,
      "justify_content": null,
      "justify_items": null,
      "left": null,
      "margin": null,
      "max_height": null,
      "max_width": null,
      "min_height": null,
      "min_width": null,
      "object_fit": null,
      "object_position": null,
      "order": null,
      "overflow": null,
      "overflow_x": null,
      "overflow_y": null,
      "padding": null,
      "right": null,
      "top": null,
      "visibility": null,
      "width": "20px"
     }
    },
    "bf067d9eed854bf3abeed9aa16dc27e8": {
     "model_module": "@jupyter-widgets/controls",
     "model_module_version": "1.5.0",
     "model_name": "DescriptionStyleModel",
     "state": {
      "_model_module": "@jupyter-widgets/controls",
      "_model_module_version": "1.5.0",
      "_model_name": "DescriptionStyleModel",
      "_view_count": null,
      "_view_module": "@jupyter-widgets/base",
      "_view_module_version": "1.2.0",
      "_view_name": "StyleView",
      "description_width": ""
     }
    },
    "c9bfe7e62a154da88873ab70e0e9f444": {
     "model_module": "@jupyter-widgets/controls",
     "model_module_version": "1.5.0",
     "model_name": "ProgressStyleModel",
     "state": {
      "_model_module": "@jupyter-widgets/controls",
      "_model_module_version": "1.5.0",
      "_model_name": "ProgressStyleModel",
      "_view_count": null,
      "_view_module": "@jupyter-widgets/base",
      "_view_module_version": "1.2.0",
      "_view_name": "StyleView",
      "bar_color": null,
      "description_width": ""
     }
    },
    "ed1927a63b6646b884c0157a9da40257": {
     "model_module": "@jupyter-widgets/controls",
     "model_module_version": "1.5.0",
     "model_name": "FloatProgressModel",
     "state": {
      "_dom_classes": [],
      "_model_module": "@jupyter-widgets/controls",
      "_model_module_version": "1.5.0",
      "_model_name": "FloatProgressModel",
      "_view_count": null,
      "_view_module": "@jupyter-widgets/controls",
      "_view_module_version": "1.5.0",
      "_view_name": "ProgressView",
      "bar_style": "success",
      "description": "",
      "description_tooltip": null,
      "layout": "IPY_MODEL_b7b1e9fe8a494da5a9f827c9824e1e4a",
      "max": 1,
      "min": 0,
      "orientation": "horizontal",
      "style": "IPY_MODEL_c9bfe7e62a154da88873ab70e0e9f444",
      "value": 1
     }
    },
    "fb6579f0e9034e8694082d3d30fd44d9": {
     "model_module": "@jupyter-widgets/base",
     "model_module_version": "1.2.0",
     "model_name": "LayoutModel",
     "state": {
      "_model_module": "@jupyter-widgets/base",
      "_model_module_version": "1.2.0",
      "_model_name": "LayoutModel",
      "_view_count": null,
      "_view_module": "@jupyter-widgets/base",
      "_view_module_version": "1.2.0",
      "_view_name": "LayoutView",
      "align_content": null,
      "align_items": null,
      "align_self": null,
      "border": null,
      "bottom": null,
      "display": null,
      "flex": null,
      "flex_flow": null,
      "grid_area": null,
      "grid_auto_columns": null,
      "grid_auto_flow": null,
      "grid_auto_rows": null,
      "grid_column": null,
      "grid_gap": null,
      "grid_row": null,
      "grid_template_areas": null,
      "grid_template_columns": null,
      "grid_template_rows": null,
      "height": null,
      "justify_content": null,
      "justify_items": null,
      "left": null,
      "margin": null,
      "max_height": null,
      "max_width": null,
      "min_height": null,
      "min_width": null,
      "object_fit": null,
      "object_position": null,
      "order": null,
      "overflow": null,
      "overflow_x": null,
      "overflow_y": null,
      "padding": null,
      "right": null,
      "top": null,
      "visibility": null,
      "width": null
     }
    }
   }
  }
 },
 "nbformat": 4,
 "nbformat_minor": 1
}
