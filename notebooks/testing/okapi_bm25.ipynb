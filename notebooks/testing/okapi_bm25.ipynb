{
 "cells": [
  {
   "cell_type": "markdown",
   "metadata": {
    "id": "H6K0jtELnY7N"
   },
   "source": [
    "# Okapi BM25\n",
    "\n",
    "This notebook implements the [Okapi BM25](https://en.wikipedia.org/wiki/Okapi_BM25) which is a TF-IDF based search algorithm. We implement this mainly to contrast it with Embed-and-Rerank, to see if this algorithms misclassifications are correctly classified by Embed-and-Rerank, or vice versa.\n",
    "\n",
    "## Downloading and importing packages"
   ]
  },
  {
   "cell_type": "code",
   "execution_count": null,
   "metadata": {
    "colab": {
     "base_uri": "https://localhost:8080/"
    },
    "id": "benkq9oInSis",
    "outputId": "6ee54283-ae3f-42a9-8ff7-5a0c30f74259"
   },
   "outputs": [
    {
     "name": "stdout",
     "output_type": "stream",
     "text": [
      "Looking in indexes: https://pypi.org/simple, https://us-python.pkg.dev/colab-wheels/public/simple/\n",
      "Collecting rank_bm25\n",
      "  Downloading rank_bm25-0.2.2-py3-none-any.whl (8.6 kB)\n",
      "Requirement already satisfied: numpy in /usr/local/lib/python3.7/dist-packages (from rank_bm25) (1.21.6)\n",
      "Installing collected packages: rank-bm25\n",
      "Successfully installed rank-bm25-0.2.2\n"
     ]
    }
   ],
   "source": [
    "!pip install rank_bm25"
   ]
  },
  {
   "cell_type": "code",
   "execution_count": null,
   "metadata": {
    "colab": {
     "base_uri": "https://localhost:8080/"
    },
    "id": "zIHDoIW_o0w7",
    "outputId": "e494e40f-4ee8-45f1-c1ff-20ee59b870b2"
   },
   "outputs": [
    {
     "name": "stderr",
     "output_type": "stream",
     "text": [
      "/usr/local/lib/python3.7/dist-packages/ipykernel_launcher.py:6: TqdmExperimentalWarning: Using `tqdm.autonotebook.tqdm` in notebook mode. Use `tqdm.tqdm` instead to force console mode (e.g. in jupyter console)\n",
      "  \n"
     ]
    }
   ],
   "source": [
    "# All the necessary imports\n",
    "\n",
    "from rank_bm25 import BM25Okapi\n",
    "from sklearn.feature_extraction import _stop_words\n",
    "import string\n",
    "from tqdm.autonotebook import tqdm\n",
    "import numpy as np\n",
    "import pandas as pd\n",
    "import ast"
   ]
  },
  {
   "cell_type": "markdown",
   "metadata": {},
   "source": [
    "## Setting hyperparameters and data preprocessing"
   ]
  },
  {
   "cell_type": "code",
   "execution_count": null,
   "metadata": {
    "id": "TWUJkDNPpeuQ"
   },
   "outputs": [],
   "source": [
    "# Some hyperparameters\n",
    "\n",
    "pre_prune_results = 100\n",
    "results_to_show = 10"
   ]
  },
  {
   "cell_type": "code",
   "execution_count": null,
   "metadata": {
    "colab": {
     "base_uri": "https://localhost:8080/"
    },
    "id": "azFwxFY4oD7h",
    "outputId": "c92fe73f-04e3-4a70-fee2-a5930b3b26fb"
   },
   "outputs": [
    {
     "name": "stdout",
     "output_type": "stream",
     "text": [
      "Mounted at /content/gdrive\n"
     ]
    }
   ],
   "source": [
    "# Mount drive and load datasets and model\n",
    "\n",
    "from google.colab import drive\n",
    "drive.mount(\"/content/gdrive\")\n",
    "\n",
    "plots = pd.read_csv(\"/content/gdrive/MyDrive/imdb_plots.csv\", compression=\"zip\", converters={'to_embed': ast.literal_eval})\n",
    "\n",
    "plots['MovieId'] = plots.index\n",
    "plots = plots.drop(['Unnamed: 0', 'Unnamed: 0.1'], axis=1)"
   ]
  },
  {
   "cell_type": "code",
   "execution_count": null,
   "metadata": {
    "id": "MkvltXVP6KO-"
   },
   "outputs": [],
   "source": [
    "movie_ids = []\n",
    "to_embed = []\n",
    "for row in plots.iterrows():\n",
    "  movie_id = row[1]['MovieId']\n",
    "  for frag in row[1]['to_embed']:\n",
    "    movie_ids.append(movie_id)\n",
    "    to_embed.append(frag)\n",
    "\n",
    "id_and_summary = pd.DataFrame({'MovieId': movie_ids, 'to_embed': to_embed})"
   ]
  },
  {
   "cell_type": "code",
   "execution_count": null,
   "metadata": {
    "id": "nUEVjWVa6Qrc"
   },
   "outputs": [],
   "source": [
    "movie_ids = []\n",
    "queries = []\n",
    "for row in plots.iterrows():\n",
    "  movie_id = row[1]['MovieId']\n",
    "  summ1 = row[1]['imdb_1']\n",
    "  summ2 = row[1]['imdb_2']\n",
    "  if not pd.isna(summ1):\n",
    "    movie_ids.append(movie_id)\n",
    "    queries.append(summ1)\n",
    "  if not pd.isna(summ2):\n",
    "    movie_ids.append(movie_id)\n",
    "    queries.append(summ2)\n",
    "\n",
    "test_queries = pd.DataFrame({'MovieId': movie_ids, 'summary': queries})"
   ]
  },
  {
   "cell_type": "code",
   "execution_count": null,
   "metadata": {
    "id": "mr-iOcUq6Sxs"
   },
   "outputs": [],
   "source": [
    "# We lower case our text and remove stop-words from indexing\n",
    "def bm25_tokenizer(text):\n",
    "    tokenized_doc = []\n",
    "    for token in text.lower().split():\n",
    "        token = token.strip(string.punctuation)\n",
    "\n",
    "        if len(token) > 0 and token not in _stop_words.ENGLISH_STOP_WORDS:\n",
    "            tokenized_doc.append(token)\n",
    "    return tokenized_doc"
   ]
  },
  {
   "cell_type": "code",
   "execution_count": null,
   "metadata": {
    "id": "CTJEslWI7Np2"
   },
   "outputs": [],
   "source": [
    "tokenized_corpus = []\n",
    "for passage in id_and_summary['to_embed']:\n",
    "  tokenized_corpus.append(bm25_tokenizer(passage))\n",
    "\n",
    "bm25 = BM25Okapi(tokenized_corpus)"
   ]
  },
  {
   "cell_type": "code",
   "execution_count": null,
   "metadata": {
    "id": "K3ZN7Y8IsqsW"
   },
   "outputs": [],
   "source": [
    "# Function to query and return top `results_to_show` with associated score\n",
    "\n",
    "def lexical_query(query_string, bm25_corpus, id_and_summary, wiki_dataset):\n",
    "  bm25_scores = bm25.get_scores(bm25_tokenizer(query_string))\n",
    "  top_n = np.argpartition(bm25_scores, -pre_prune_results)[-pre_prune_results:]\n",
    "  bm25_hits = [{'corpus_id': idx, 'score': bm25_scores[idx]} for idx in top_n]\n",
    "  bm25_hits = sorted(bm25_hits, key=lambda x: x['score'], reverse=True)\n",
    "\n",
    "  results = []\n",
    "  for raw_res in bm25_hits:\n",
    "    if len(results) >= 10:\n",
    "      break\n",
    "\n",
    "    corpus_id = raw_res['corpus_id']\n",
    "    score = raw_res['score']\n",
    "    movie_id = id_and_summary['MovieId'][corpus_id]\n",
    "    movie_title = wiki_dataset['Title'][movie_id]\n",
    "    movie_year = wiki_dataset['Release Year'][movie_id]\n",
    "    if movie_title.strip() not in map(lambda x: x[0][0].strip(), results):\n",
    "      results.append(((movie_title, movie_year), score))\n",
    "  return results\n",
    "\n",
    "def measure_accuracy(query_dataset, bm25_corpus, id_and_summary, wiki_dataset):\n",
    "  total = 0\n",
    "  correct = 0\n",
    "\n",
    "  for row in tqdm(query_dataset.iterrows()):\n",
    "    query_string = row[1]['summary']\n",
    "    movie_id = row[1]['MovieId']\n",
    "\n",
    "    hits = lexical_query(query_string, bm25_corpus, id_and_summary, wiki_dataset)\n",
    "    movie_title = wiki_dataset['Title'][movie_id]\n",
    "    if movie_title.strip() in map(lambda x: x[0][0].strip(), hits):\n",
    "      correct += 1\n",
    "    total += 1\n",
    "\n",
    "  return correct/total"
   ]
  },
  {
   "cell_type": "markdown",
   "metadata": {},
   "source": [
    "## An example\n",
    "\n",
    "Note that this is an example which is misclassified by Okapi BM25, but correctly classified by Embed-and-Rerank. The movie being referenced here is \"Midnight in Paris\"."
   ]
  },
  {
   "cell_type": "code",
   "execution_count": null,
   "metadata": {
    "colab": {
     "base_uri": "https://localhost:8080/"
    },
    "id": "oScJwqLm5ZDi",
    "outputId": "e546dd31-f6f2-49b4-e083-316e5d1f6c40"
   },
   "outputs": [
    {
     "data": {
      "text/plain": [
       "[(('Witness', 1985), 12.047900192294906),\n",
       " (('Target', 1985), 10.716933606280001),\n",
       " (('Picture Perfect', 1997), 10.131693096010025),\n",
       " (('An American Werewolf in Paris', 1997), 10.066780063295393),\n",
       " (('De-Lovely', 2004), 9.704919676517996),\n",
       " (('Paris, Texas', 1984), 9.53951184051008),\n",
       " (('An Education', 2009), 9.289532110099987),\n",
       " (('Pet Sematary', 1989), 9.063614686950345),\n",
       " (('Revolutionary Road', 2008), 8.845658806373812),\n",
       " (('Unlawful Entry', 1992), 8.737652543255958)]"
      ]
     },
     "execution_count": 12,
     "metadata": {},
     "output_type": "execute_result"
    }
   ],
   "source": [
    "query = \"couple walks through paris all night\"\n",
    "\n",
    "lexical_query(query, bm25, id_and_summary, plots)"
   ]
  },
  {
   "cell_type": "markdown",
   "metadata": {
    "id": "alkTWMZXCKER"
   },
   "source": [
    "## Testing performance on IMDB query set"
   ]
  },
  {
   "cell_type": "code",
   "execution_count": null,
   "metadata": {
    "colab": {
     "base_uri": "https://localhost:8080/",
     "height": 424
    },
    "id": "1hyOKiq16BQ4",
    "outputId": "00908067-8ba8-482b-98c5-8ab1391ee56c"
   },
   "outputs": [
    {
     "data": {
      "text/html": [
       "\n",
       "  <div id=\"df-7c1a4b25-e9d7-4863-b37f-3c1d79de709d\">\n",
       "    <div class=\"colab-df-container\">\n",
       "      <div>\n",
       "<style scoped>\n",
       "    .dataframe tbody tr th:only-of-type {\n",
       "        vertical-align: middle;\n",
       "    }\n",
       "\n",
       "    .dataframe tbody tr th {\n",
       "        vertical-align: top;\n",
       "    }\n",
       "\n",
       "    .dataframe thead th {\n",
       "        text-align: right;\n",
       "    }\n",
       "</style>\n",
       "<table border=\"1\" class=\"dataframe\">\n",
       "  <thead>\n",
       "    <tr style=\"text-align: right;\">\n",
       "      <th></th>\n",
       "      <th>MovieId</th>\n",
       "      <th>summary</th>\n",
       "    </tr>\n",
       "  </thead>\n",
       "  <tbody>\n",
       "    <tr>\n",
       "      <th>0</th>\n",
       "      <td>0</td>\n",
       "      <td>A chivalrous British officer takes the blame f...</td>\n",
       "    </tr>\n",
       "    <tr>\n",
       "      <th>1</th>\n",
       "      <td>0</td>\n",
       "      <td>Captain Wynnegate leaves England, accepting th...</td>\n",
       "    </tr>\n",
       "    <tr>\n",
       "      <th>2</th>\n",
       "      <td>1</td>\n",
       "      <td>A naive country girl is tricked into a sham ma...</td>\n",
       "    </tr>\n",
       "    <tr>\n",
       "      <th>3</th>\n",
       "      <td>1</td>\n",
       "      <td>The callous rich, portrayed by Lennox, think o...</td>\n",
       "    </tr>\n",
       "    <tr>\n",
       "      <th>4</th>\n",
       "      <td>2</td>\n",
       "      <td>An extended family split up in France and Germ...</td>\n",
       "    </tr>\n",
       "    <tr>\n",
       "      <th>...</th>\n",
       "      <td>...</td>\n",
       "      <td>...</td>\n",
       "    </tr>\n",
       "    <tr>\n",
       "      <th>9982</th>\n",
       "      <td>5268</td>\n",
       "      <td>Four girls travel to a party in an isolated ho...</td>\n",
       "    </tr>\n",
       "    <tr>\n",
       "      <th>9983</th>\n",
       "      <td>5269</td>\n",
       "      <td>Jae-hyuk is an ordinary man in his 40s. He wor...</td>\n",
       "    </tr>\n",
       "    <tr>\n",
       "      <th>9984</th>\n",
       "      <td>5270</td>\n",
       "      <td>Esra working for a logistics firm lives with h...</td>\n",
       "    </tr>\n",
       "    <tr>\n",
       "      <th>9985</th>\n",
       "      <td>5271</td>\n",
       "      <td>Recep Ivedik has been depressed since the deat...</td>\n",
       "    </tr>\n",
       "    <tr>\n",
       "      <th>9986</th>\n",
       "      <td>5272</td>\n",
       "      <td>Two Turkish anti-terrorist agents are sent to ...</td>\n",
       "    </tr>\n",
       "  </tbody>\n",
       "</table>\n",
       "<p>9987 rows × 2 columns</p>\n",
       "</div>\n",
       "      <button class=\"colab-df-convert\" onclick=\"convertToInteractive('df-7c1a4b25-e9d7-4863-b37f-3c1d79de709d')\"\n",
       "              title=\"Convert this dataframe to an interactive table.\"\n",
       "              style=\"display:none;\">\n",
       "        \n",
       "  <svg xmlns=\"http://www.w3.org/2000/svg\" height=\"24px\"viewBox=\"0 0 24 24\"\n",
       "       width=\"24px\">\n",
       "    <path d=\"M0 0h24v24H0V0z\" fill=\"none\"/>\n",
       "    <path d=\"M18.56 5.44l.94 2.06.94-2.06 2.06-.94-2.06-.94-.94-2.06-.94 2.06-2.06.94zm-11 1L8.5 8.5l.94-2.06 2.06-.94-2.06-.94L8.5 2.5l-.94 2.06-2.06.94zm10 10l.94 2.06.94-2.06 2.06-.94-2.06-.94-.94-2.06-.94 2.06-2.06.94z\"/><path d=\"M17.41 7.96l-1.37-1.37c-.4-.4-.92-.59-1.43-.59-.52 0-1.04.2-1.43.59L10.3 9.45l-7.72 7.72c-.78.78-.78 2.05 0 2.83L4 21.41c.39.39.9.59 1.41.59.51 0 1.02-.2 1.41-.59l7.78-7.78 2.81-2.81c.8-.78.8-2.07 0-2.86zM5.41 20L4 18.59l7.72-7.72 1.47 1.35L5.41 20z\"/>\n",
       "  </svg>\n",
       "      </button>\n",
       "      \n",
       "  <style>\n",
       "    .colab-df-container {\n",
       "      display:flex;\n",
       "      flex-wrap:wrap;\n",
       "      gap: 12px;\n",
       "    }\n",
       "\n",
       "    .colab-df-convert {\n",
       "      background-color: #E8F0FE;\n",
       "      border: none;\n",
       "      border-radius: 50%;\n",
       "      cursor: pointer;\n",
       "      display: none;\n",
       "      fill: #1967D2;\n",
       "      height: 32px;\n",
       "      padding: 0 0 0 0;\n",
       "      width: 32px;\n",
       "    }\n",
       "\n",
       "    .colab-df-convert:hover {\n",
       "      background-color: #E2EBFA;\n",
       "      box-shadow: 0px 1px 2px rgba(60, 64, 67, 0.3), 0px 1px 3px 1px rgba(60, 64, 67, 0.15);\n",
       "      fill: #174EA6;\n",
       "    }\n",
       "\n",
       "    [theme=dark] .colab-df-convert {\n",
       "      background-color: #3B4455;\n",
       "      fill: #D2E3FC;\n",
       "    }\n",
       "\n",
       "    [theme=dark] .colab-df-convert:hover {\n",
       "      background-color: #434B5C;\n",
       "      box-shadow: 0px 1px 3px 1px rgba(0, 0, 0, 0.15);\n",
       "      filter: drop-shadow(0px 1px 2px rgba(0, 0, 0, 0.3));\n",
       "      fill: #FFFFFF;\n",
       "    }\n",
       "  </style>\n",
       "\n",
       "      <script>\n",
       "        const buttonEl =\n",
       "          document.querySelector('#df-7c1a4b25-e9d7-4863-b37f-3c1d79de709d button.colab-df-convert');\n",
       "        buttonEl.style.display =\n",
       "          google.colab.kernel.accessAllowed ? 'block' : 'none';\n",
       "\n",
       "        async function convertToInteractive(key) {\n",
       "          const element = document.querySelector('#df-7c1a4b25-e9d7-4863-b37f-3c1d79de709d');\n",
       "          const dataTable =\n",
       "            await google.colab.kernel.invokeFunction('convertToInteractive',\n",
       "                                                     [key], {});\n",
       "          if (!dataTable) return;\n",
       "\n",
       "          const docLinkHtml = 'Like what you see? Visit the ' +\n",
       "            '<a target=\"_blank\" href=https://colab.research.google.com/notebooks/data_table.ipynb>data table notebook</a>'\n",
       "            + ' to learn more about interactive tables.';\n",
       "          element.innerHTML = '';\n",
       "          dataTable['output_type'] = 'display_data';\n",
       "          await google.colab.output.renderOutput(dataTable, element);\n",
       "          const docLink = document.createElement('div');\n",
       "          docLink.innerHTML = docLinkHtml;\n",
       "          element.appendChild(docLink);\n",
       "        }\n",
       "      </script>\n",
       "    </div>\n",
       "  </div>\n",
       "  "
      ],
      "text/plain": [
       "      MovieId                                            summary\n",
       "0           0  A chivalrous British officer takes the blame f...\n",
       "1           0  Captain Wynnegate leaves England, accepting th...\n",
       "2           1  A naive country girl is tricked into a sham ma...\n",
       "3           1  The callous rich, portrayed by Lennox, think o...\n",
       "4           2  An extended family split up in France and Germ...\n",
       "...       ...                                                ...\n",
       "9982     5268  Four girls travel to a party in an isolated ho...\n",
       "9983     5269  Jae-hyuk is an ordinary man in his 40s. He wor...\n",
       "9984     5270  Esra working for a logistics firm lives with h...\n",
       "9985     5271  Recep Ivedik has been depressed since the deat...\n",
       "9986     5272  Two Turkish anti-terrorist agents are sent to ...\n",
       "\n",
       "[9987 rows x 2 columns]"
      ]
     },
     "execution_count": 13,
     "metadata": {},
     "output_type": "execute_result"
    }
   ],
   "source": [
    "test_queries"
   ]
  },
  {
   "cell_type": "code",
   "execution_count": null,
   "metadata": {
    "colab": {
     "base_uri": "https://localhost:8080/",
     "height": 66,
     "referenced_widgets": [
      "8963812720f04b6c88ebe7a60b25a68c",
      "2f31e028564749a890adff0b05f3d98e",
      "fc03808c64d843a88ccbb2f3269632d6",
      "24bae9a19a6f417fa80310b0bb5cb87b",
      "81ab4e17bc574c69a3c564ef451f5d3b",
      "1f3602bb1b7248cd947bf1447c12080c",
      "46253cd91c6c478b99d1a6d81683efbf",
      "189befb56e1d47eda2c724c641e58039",
      "7ccae759ce24459bbb7cb8d57f8f682f",
      "f5891201dd974408af6a6ae26bb1c8e2",
      "35962075cfc649b68f5dd9ef5420e8b6"
     ]
    },
    "id": "rj_fRWZlEohQ",
    "outputId": "eb9ed8d4-a865-4bb9-87a0-5ba48738c0a4"
   },
   "outputs": [
    {
     "data": {
      "application/vnd.jupyter.widget-view+json": {
       "model_id": "8963812720f04b6c88ebe7a60b25a68c",
       "version_major": 2,
       "version_minor": 0
      },
      "text/plain": [
       "0it [00:00, ?it/s]"
      ]
     },
     "metadata": {},
     "output_type": "display_data"
    },
    {
     "data": {
      "text/plain": [
       "0.8405927706017823"
      ]
     },
     "execution_count": 16,
     "metadata": {},
     "output_type": "execute_result"
    }
   ],
   "source": [
    "measure_accuracy(test_queries, bm25, id_and_summary, plots)"
   ]
  },
  {
   "cell_type": "markdown",
   "metadata": {
    "id": "H3TUWGnkHPMP"
   },
   "source": []
  }
 ],
 "metadata": {
  "colab": {
   "collapsed_sections": [],
   "name": "tf-idf-search.ipynb",
   "provenance": []
  },
  "kernelspec": {
   "display_name": "Python 3",
   "language": "python",
   "name": "python3"
  },
  "language_info": {
   "codemirror_mode": {
    "name": "ipython",
    "version": 3
   },
   "file_extension": ".py",
   "mimetype": "text/x-python",
   "name": "python",
   "nbconvert_exporter": "python",
   "pygments_lexer": "ipython3",
   "version": "3.9.12"
  },
  "widgets": {
   "application/vnd.jupyter.widget-state+json": {
    "189befb56e1d47eda2c724c641e58039": {
     "model_module": "@jupyter-widgets/base",
     "model_module_version": "1.2.0",
     "model_name": "LayoutModel",
     "state": {
      "_model_module": "@jupyter-widgets/base",
      "_model_module_version": "1.2.0",
      "_model_name": "LayoutModel",
      "_view_count": null,
      "_view_module": "@jupyter-widgets/base",
      "_view_module_version": "1.2.0",
      "_view_name": "LayoutView",
      "align_content": null,
      "align_items": null,
      "align_self": null,
      "border": null,
      "bottom": null,
      "display": null,
      "flex": null,
      "flex_flow": null,
      "grid_area": null,
      "grid_auto_columns": null,
      "grid_auto_flow": null,
      "grid_auto_rows": null,
      "grid_column": null,
      "grid_gap": null,
      "grid_row": null,
      "grid_template_areas": null,
      "grid_template_columns": null,
      "grid_template_rows": null,
      "height": null,
      "justify_content": null,
      "justify_items": null,
      "left": null,
      "margin": null,
      "max_height": null,
      "max_width": null,
      "min_height": null,
      "min_width": null,
      "object_fit": null,
      "object_position": null,
      "order": null,
      "overflow": null,
      "overflow_x": null,
      "overflow_y": null,
      "padding": null,
      "right": null,
      "top": null,
      "visibility": null,
      "width": "20px"
     }
    },
    "1f3602bb1b7248cd947bf1447c12080c": {
     "model_module": "@jupyter-widgets/base",
     "model_module_version": "1.2.0",
     "model_name": "LayoutModel",
     "state": {
      "_model_module": "@jupyter-widgets/base",
      "_model_module_version": "1.2.0",
      "_model_name": "LayoutModel",
      "_view_count": null,
      "_view_module": "@jupyter-widgets/base",
      "_view_module_version": "1.2.0",
      "_view_name": "LayoutView",
      "align_content": null,
      "align_items": null,
      "align_self": null,
      "border": null,
      "bottom": null,
      "display": null,
      "flex": null,
      "flex_flow": null,
      "grid_area": null,
      "grid_auto_columns": null,
      "grid_auto_flow": null,
      "grid_auto_rows": null,
      "grid_column": null,
      "grid_gap": null,
      "grid_row": null,
      "grid_template_areas": null,
      "grid_template_columns": null,
      "grid_template_rows": null,
      "height": null,
      "justify_content": null,
      "justify_items": null,
      "left": null,
      "margin": null,
      "max_height": null,
      "max_width": null,
      "min_height": null,
      "min_width": null,
      "object_fit": null,
      "object_position": null,
      "order": null,
      "overflow": null,
      "overflow_x": null,
      "overflow_y": null,
      "padding": null,
      "right": null,
      "top": null,
      "visibility": null,
      "width": null
     }
    },
    "24bae9a19a6f417fa80310b0bb5cb87b": {
     "model_module": "@jupyter-widgets/controls",
     "model_module_version": "1.5.0",
     "model_name": "HTMLModel",
     "state": {
      "_dom_classes": [],
      "_model_module": "@jupyter-widgets/controls",
      "_model_module_version": "1.5.0",
      "_model_name": "HTMLModel",
      "_view_count": null,
      "_view_module": "@jupyter-widgets/controls",
      "_view_module_version": "1.5.0",
      "_view_name": "HTMLView",
      "description": "",
      "description_tooltip": null,
      "layout": "IPY_MODEL_f5891201dd974408af6a6ae26bb1c8e2",
      "placeholder": "​",
      "style": "IPY_MODEL_35962075cfc649b68f5dd9ef5420e8b6",
      "value": " 9987/? [1:08:02&lt;00:00,  1.62it/s]"
     }
    },
    "2f31e028564749a890adff0b05f3d98e": {
     "model_module": "@jupyter-widgets/controls",
     "model_module_version": "1.5.0",
     "model_name": "HTMLModel",
     "state": {
      "_dom_classes": [],
      "_model_module": "@jupyter-widgets/controls",
      "_model_module_version": "1.5.0",
      "_model_name": "HTMLModel",
      "_view_count": null,
      "_view_module": "@jupyter-widgets/controls",
      "_view_module_version": "1.5.0",
      "_view_name": "HTMLView",
      "description": "",
      "description_tooltip": null,
      "layout": "IPY_MODEL_1f3602bb1b7248cd947bf1447c12080c",
      "placeholder": "​",
      "style": "IPY_MODEL_46253cd91c6c478b99d1a6d81683efbf",
      "value": ""
     }
    },
    "35962075cfc649b68f5dd9ef5420e8b6": {
     "model_module": "@jupyter-widgets/controls",
     "model_module_version": "1.5.0",
     "model_name": "DescriptionStyleModel",
     "state": {
      "_model_module": "@jupyter-widgets/controls",
      "_model_module_version": "1.5.0",
      "_model_name": "DescriptionStyleModel",
      "_view_count": null,
      "_view_module": "@jupyter-widgets/base",
      "_view_module_version": "1.2.0",
      "_view_name": "StyleView",
      "description_width": ""
     }
    },
    "46253cd91c6c478b99d1a6d81683efbf": {
     "model_module": "@jupyter-widgets/controls",
     "model_module_version": "1.5.0",
     "model_name": "DescriptionStyleModel",
     "state": {
      "_model_module": "@jupyter-widgets/controls",
      "_model_module_version": "1.5.0",
      "_model_name": "DescriptionStyleModel",
      "_view_count": null,
      "_view_module": "@jupyter-widgets/base",
      "_view_module_version": "1.2.0",
      "_view_name": "StyleView",
      "description_width": ""
     }
    },
    "7ccae759ce24459bbb7cb8d57f8f682f": {
     "model_module": "@jupyter-widgets/controls",
     "model_module_version": "1.5.0",
     "model_name": "ProgressStyleModel",
     "state": {
      "_model_module": "@jupyter-widgets/controls",
      "_model_module_version": "1.5.0",
      "_model_name": "ProgressStyleModel",
      "_view_count": null,
      "_view_module": "@jupyter-widgets/base",
      "_view_module_version": "1.2.0",
      "_view_name": "StyleView",
      "bar_color": null,
      "description_width": ""
     }
    },
    "81ab4e17bc574c69a3c564ef451f5d3b": {
     "model_module": "@jupyter-widgets/base",
     "model_module_version": "1.2.0",
     "model_name": "LayoutModel",
     "state": {
      "_model_module": "@jupyter-widgets/base",
      "_model_module_version": "1.2.0",
      "_model_name": "LayoutModel",
      "_view_count": null,
      "_view_module": "@jupyter-widgets/base",
      "_view_module_version": "1.2.0",
      "_view_name": "LayoutView",
      "align_content": null,
      "align_items": null,
      "align_self": null,
      "border": null,
      "bottom": null,
      "display": null,
      "flex": null,
      "flex_flow": null,
      "grid_area": null,
      "grid_auto_columns": null,
      "grid_auto_flow": null,
      "grid_auto_rows": null,
      "grid_column": null,
      "grid_gap": null,
      "grid_row": null,
      "grid_template_areas": null,
      "grid_template_columns": null,
      "grid_template_rows": null,
      "height": null,
      "justify_content": null,
      "justify_items": null,
      "left": null,
      "margin": null,
      "max_height": null,
      "max_width": null,
      "min_height": null,
      "min_width": null,
      "object_fit": null,
      "object_position": null,
      "order": null,
      "overflow": null,
      "overflow_x": null,
      "overflow_y": null,
      "padding": null,
      "right": null,
      "top": null,
      "visibility": null,
      "width": null
     }
    },
    "8963812720f04b6c88ebe7a60b25a68c": {
     "model_module": "@jupyter-widgets/controls",
     "model_module_version": "1.5.0",
     "model_name": "HBoxModel",
     "state": {
      "_dom_classes": [],
      "_model_module": "@jupyter-widgets/controls",
      "_model_module_version": "1.5.0",
      "_model_name": "HBoxModel",
      "_view_count": null,
      "_view_module": "@jupyter-widgets/controls",
      "_view_module_version": "1.5.0",
      "_view_name": "HBoxView",
      "box_style": "",
      "children": [
       "IPY_MODEL_2f31e028564749a890adff0b05f3d98e",
       "IPY_MODEL_fc03808c64d843a88ccbb2f3269632d6",
       "IPY_MODEL_24bae9a19a6f417fa80310b0bb5cb87b"
      ],
      "layout": "IPY_MODEL_81ab4e17bc574c69a3c564ef451f5d3b"
     }
    },
    "f5891201dd974408af6a6ae26bb1c8e2": {
     "model_module": "@jupyter-widgets/base",
     "model_module_version": "1.2.0",
     "model_name": "LayoutModel",
     "state": {
      "_model_module": "@jupyter-widgets/base",
      "_model_module_version": "1.2.0",
      "_model_name": "LayoutModel",
      "_view_count": null,
      "_view_module": "@jupyter-widgets/base",
      "_view_module_version": "1.2.0",
      "_view_name": "LayoutView",
      "align_content": null,
      "align_items": null,
      "align_self": null,
      "border": null,
      "bottom": null,
      "display": null,
      "flex": null,
      "flex_flow": null,
      "grid_area": null,
      "grid_auto_columns": null,
      "grid_auto_flow": null,
      "grid_auto_rows": null,
      "grid_column": null,
      "grid_gap": null,
      "grid_row": null,
      "grid_template_areas": null,
      "grid_template_columns": null,
      "grid_template_rows": null,
      "height": null,
      "justify_content": null,
      "justify_items": null,
      "left": null,
      "margin": null,
      "max_height": null,
      "max_width": null,
      "min_height": null,
      "min_width": null,
      "object_fit": null,
      "object_position": null,
      "order": null,
      "overflow": null,
      "overflow_x": null,
      "overflow_y": null,
      "padding": null,
      "right": null,
      "top": null,
      "visibility": null,
      "width": null
     }
    },
    "fc03808c64d843a88ccbb2f3269632d6": {
     "model_module": "@jupyter-widgets/controls",
     "model_module_version": "1.5.0",
     "model_name": "FloatProgressModel",
     "state": {
      "_dom_classes": [],
      "_model_module": "@jupyter-widgets/controls",
      "_model_module_version": "1.5.0",
      "_model_name": "FloatProgressModel",
      "_view_count": null,
      "_view_module": "@jupyter-widgets/controls",
      "_view_module_version": "1.5.0",
      "_view_name": "ProgressView",
      "bar_style": "success",
      "description": "",
      "description_tooltip": null,
      "layout": "IPY_MODEL_189befb56e1d47eda2c724c641e58039",
      "max": 1,
      "min": 0,
      "orientation": "horizontal",
      "style": "IPY_MODEL_7ccae759ce24459bbb7cb8d57f8f682f",
      "value": 1
     }
    }
   }
  }
 },
 "nbformat": 4,
 "nbformat_minor": 1
}
