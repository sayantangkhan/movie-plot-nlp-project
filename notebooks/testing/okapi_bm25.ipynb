{
 "cells": [
  {
   "cell_type": "markdown",
   "metadata": {
    "id": "H6K0jtELnY7N"
   },
   "source": [
    "# Okapi BM25\n",
    "\n",
    "This notebook implements the [Okapi BM25](https://en.wikipedia.org/wiki/Okapi_BM25) which is a TF-IDF based search algorithm. We implement this mainly to contrast it with Embed-and-Rerank, to see if this algorithms misclassifications are correctly classified by Embed-and-Rerank, or vice versa.\n",
    "\n",
    "## Downloading and importing packages"
   ]
  },
  {
   "cell_type": "code",
   "execution_count": 1,
   "metadata": {
    "colab": {
     "base_uri": "https://localhost:8080/"
    },
    "id": "benkq9oInSis",
    "outputId": "41b4105a-301c-4137-acc9-46bb1307911c"
   },
   "outputs": [
    {
     "name": "stdout",
     "output_type": "stream",
     "text": [
      "Looking in indexes: https://pypi.org/simple, https://us-python.pkg.dev/colab-wheels/public/simple/\n",
      "Collecting rank_bm25\n",
      "  Downloading rank_bm25-0.2.2-py3-none-any.whl (8.6 kB)\n",
      "Requirement already satisfied: numpy in /usr/local/lib/python3.7/dist-packages (from rank_bm25) (1.21.6)\n",
      "Installing collected packages: rank-bm25\n",
      "Successfully installed rank-bm25-0.2.2\n"
     ]
    }
   ],
   "source": [
    "!pip install rank_bm25"
   ]
  },
  {
   "cell_type": "code",
   "execution_count": 2,
   "metadata": {
    "colab": {
     "base_uri": "https://localhost:8080/"
    },
    "id": "zIHDoIW_o0w7",
    "outputId": "0347b049-28da-48b1-d91a-3cc1b89a4a97"
   },
   "outputs": [
    {
     "name": "stderr",
     "output_type": "stream",
     "text": [
      "/usr/local/lib/python3.7/dist-packages/ipykernel_launcher.py:6: TqdmExperimentalWarning: Using `tqdm.autonotebook.tqdm` in notebook mode. Use `tqdm.tqdm` instead to force console mode (e.g. in jupyter console)\n",
      "  \n"
     ]
    }
   ],
   "source": [
    "# All the necessary imports\n",
    "\n",
    "from rank_bm25 import BM25Okapi\n",
    "from sklearn.feature_extraction import _stop_words\n",
    "import string\n",
    "from tqdm.autonotebook import tqdm\n",
    "import numpy as np\n",
    "import pandas as pd\n",
    "import ast"
   ]
  },
  {
   "cell_type": "markdown",
   "metadata": {
    "id": "cOFanM7GtsI7"
   },
   "source": [
    "## Setting hyperparameters and data preprocessing"
   ]
  },
  {
   "cell_type": "code",
   "execution_count": 3,
   "metadata": {
    "id": "TWUJkDNPpeuQ"
   },
   "outputs": [],
   "source": [
    "# Some hyperparameters\n",
    "\n",
    "pre_prune_results = 100\n",
    "results_to_show = 10"
   ]
  },
  {
   "cell_type": "code",
   "execution_count": 4,
   "metadata": {
    "colab": {
     "base_uri": "https://localhost:8080/"
    },
    "id": "azFwxFY4oD7h",
    "outputId": "74058af5-d20e-45f1-a4cf-5ca195aa9672"
   },
   "outputs": [
    {
     "name": "stdout",
     "output_type": "stream",
     "text": [
      "Mounted at /content/gdrive\n"
     ]
    }
   ],
   "source": [
    "# Mount drive and load datasets and model\n",
    "\n",
    "from google.colab import drive\n",
    "drive.mount(\"/content/gdrive\")\n",
    "\n",
    "plots = pd.read_csv(\"/content/gdrive/MyDrive/imdb_plots.csv\", compression=\"zip\", converters={'to_embed': ast.literal_eval})\n",
    "\n",
    "plots['MovieId'] = plots.index\n",
    "plots = plots.drop(['Unnamed: 0', 'Unnamed: 0.1'], axis=1)"
   ]
  },
  {
   "cell_type": "code",
   "execution_count": 5,
   "metadata": {
    "id": "MkvltXVP6KO-"
   },
   "outputs": [],
   "source": [
    "movie_ids = []\n",
    "to_embed = []\n",
    "for row in plots.iterrows():\n",
    "  movie_id = row[1]['MovieId']\n",
    "  for frag in row[1]['to_embed']:\n",
    "    movie_ids.append(movie_id)\n",
    "    to_embed.append(frag)\n",
    "\n",
    "id_and_summary = pd.DataFrame({'MovieId': movie_ids, 'to_embed': to_embed})"
   ]
  },
  {
   "cell_type": "code",
   "execution_count": 6,
   "metadata": {
    "id": "nUEVjWVa6Qrc"
   },
   "outputs": [],
   "source": [
    "movie_ids = []\n",
    "queries = []\n",
    "for row in plots.iterrows():\n",
    "  movie_id = row[1]['MovieId']\n",
    "  summ1 = row[1]['imdb_1']\n",
    "  summ2 = row[1]['imdb_2']\n",
    "  if not pd.isna(summ1):\n",
    "    movie_ids.append(movie_id)\n",
    "    queries.append(summ1)\n",
    "  if not pd.isna(summ2):\n",
    "    movie_ids.append(movie_id)\n",
    "    queries.append(summ2)\n",
    "\n",
    "test_queries = pd.DataFrame({'MovieId': movie_ids, 'summary': queries})"
   ]
  },
  {
   "cell_type": "code",
   "execution_count": 7,
   "metadata": {
    "id": "mr-iOcUq6Sxs"
   },
   "outputs": [],
   "source": [
    "# We lower case our text and remove stop-words from indexing\n",
    "def bm25_tokenizer(text):\n",
    "    tokenized_doc = []\n",
    "    for token in text.lower().split():\n",
    "        token = token.strip(string.punctuation)\n",
    "\n",
    "        if len(token) > 0 and token not in _stop_words.ENGLISH_STOP_WORDS:\n",
    "            tokenized_doc.append(token)\n",
    "    return tokenized_doc"
   ]
  },
  {
   "cell_type": "code",
   "execution_count": 8,
   "metadata": {
    "id": "CTJEslWI7Np2"
   },
   "outputs": [],
   "source": [
    "tokenized_corpus = []\n",
    "for passage in id_and_summary['to_embed']:\n",
    "  tokenized_corpus.append(bm25_tokenizer(passage))\n",
    "\n",
    "bm25 = BM25Okapi(tokenized_corpus)"
   ]
  },
  {
   "cell_type": "code",
   "execution_count": 9,
   "metadata": {
    "id": "K3ZN7Y8IsqsW"
   },
   "outputs": [],
   "source": [
    "# Function to query and return top `results_to_show` with associated score\n",
    "\n",
    "def lexical_query(query_string, bm25_corpus, id_and_summary, wiki_dataset):\n",
    "  \"\"\"\n",
    "  Returns a list of tuples encoding the top k movies Okapi predicts for matching the given <query_string>.\n",
    "  \n",
    "  PARAMETERS:\n",
    "  query_string:      a string representing a user query\n",
    "  bm25_corpus:       a BM25Okapi object representing our corpus of movie summaries\n",
    "  id_and_summary:    a pandas.DataFrame which includes columns \"MovieID\" and \"to_embed\" (in which each\n",
    "                         entry is a list of strings which are brief descriptions of the movie)\n",
    "  wiki_dataset:      a pandas.DataFrame encoding a collection of movies. Must include columns \"Title\"\n",
    "                         and \"Release Year\"\n",
    "                         \n",
    "  RETURNS: a list <lst> of tuples, where lst[i] is of the form ((title, release year), score). This list\n",
    "      corresponds to the top k (distinct) movies returned by our model, and appear in order by scores.\n",
    "  \"\"\"\n",
    "  bm25_scores = bm25.get_scores(bm25_tokenizer(query_string))\n",
    "  top_n = np.argpartition(bm25_scores, -pre_prune_results)[-pre_prune_results:]\n",
    "  bm25_hits = [{'corpus_id': idx, 'score': bm25_scores[idx]} for idx in top_n]\n",
    "  bm25_hits = sorted(bm25_hits, key=lambda x: x['score'], reverse=True)\n",
    "\n",
    "  results = []\n",
    "  for raw_res in bm25_hits:\n",
    "    if len(results) >= 10:\n",
    "      break\n",
    "\n",
    "    corpus_id = raw_res['corpus_id']\n",
    "    score = raw_res['score']\n",
    "    movie_id = id_and_summary['MovieId'][corpus_id]\n",
    "    movie_title = wiki_dataset['Title'][movie_id]\n",
    "    movie_year = wiki_dataset['Release Year'][movie_id]\n",
    "    if movie_title.strip() not in map(lambda x: x[0][0].strip(), results):\n",
    "      results.append(((movie_title, movie_year), score))\n",
    "  return results\n",
    "\n",
    "def measure_accuracy(query_dataset, bm25_corpus, id_and_summary, wiki_dataset):\n",
    "  \"\"\"\n",
    "  Returns the top-k accuracy of the Okapi model on the provided test query dataset; i.e., for what\n",
    "  fraction of queries does this model return the correct movie in the top k results.\n",
    "  \n",
    "  PARAMETERS:\n",
    "  query_dataset:     a pandas.DataFrame object which represents a collection of queries. Must include columns \n",
    "                         \"MovieID\" and \"summary\" (containing the query string)\n",
    "  bm25_corpus:       a BM25Okapi object representing our corpus of movie summaries\n",
    "  id_and_summary:    a pandas.DataFrame which includes columns \"MovieID\" and \"to_embed\" (in which each\n",
    "                         entry is a list of strings which are brief descriptions of the movie)\n",
    "  wiki_dataset:      a pandas.DataFrame encoding a collection of movies. Must include columns \"Title\"\n",
    "                         and \"Release Year\"\n",
    "  \n",
    "  RETURNS: a float which is the accuracy\n",
    "  \"\"\"\n",
    "  total = 0\n",
    "  correct = 0\n",
    "\n",
    "  for row in tqdm(query_dataset.iterrows()):\n",
    "    query_string = row[1]['summary']\n",
    "    movie_id = row[1]['MovieId']\n",
    "\n",
    "    hits = lexical_query(query_string, bm25_corpus, id_and_summary, wiki_dataset)\n",
    "    movie_title = wiki_dataset['Title'][movie_id]\n",
    "    if movie_title.strip() in map(lambda x: x[0][0].strip(), hits):\n",
    "      correct += 1\n",
    "    total += 1\n",
    "\n",
    "  return correct/total\n",
    "\n",
    "# Function to show misclassifications\n",
    "def show_misclassifications(count, query_dataset, bm25_corpus, id_and_summary, wiki_dataset):\n",
    "    \"\"\"\n",
    "  Returns a list describing all the misclassifications of our embed-and-rerank model.\n",
    "  \n",
    "  PARAMETERS:\n",
    "  count:             the number of misclassifications to find\n",
    "  query_dataset:     a pandas.DataFrame object which represents a collection of queries. Must include columns \n",
    "                         \"MovieID\" and \"summary\" (containing the query string)\n",
    "  bm25_corpus:       a BM25Okapi object representing our corpus of movie summaries\n",
    "  id_and_summary:    a pandas.DataFrame which includes columns \"MovieID\" and \"to_embed\" (in which each\n",
    "                         entry is a list of strings which are brief descriptions of the movie)\n",
    "  wiki_dataset:      a pandas.DataFrame encoding a collection of movies. Must include columns \"Title\",\n",
    "                         \"Release Year\", and \"Plot\"\n",
    "                         \n",
    "  RETURNS: a length <count> list of tuples of the form (query, title, plot-summary, model-output-titles), \n",
    "       where <query> is the user query, <title> and <plot-summary> are for the desired (correct) movie, and \n",
    "       <model-output-titles> is the list of ((out-title, out-year), out-score) for the movies outputted by our model.\n",
    "  \"\"\"\n",
    "  misclassifications = []\n",
    "\n",
    "  while len(misclassifications) < count:\n",
    "    row = query_dataset.sample()\n",
    "    #print(row)\n",
    "    query_string = row.iloc[0]['summary']\n",
    "    actual_movie_id = row.iloc[0]['MovieId']\n",
    "    actual_movie_title = wiki_dataset['Title'][actual_movie_id]\n",
    "    hits = lexical_query(query_string, bm25_corpus, id_and_summary, wiki_dataset)\n",
    "    if not actual_movie_title.strip() in map(lambda x: x[0][0].strip(), hits):\n",
    "      misclassifications.append((query_string, actual_movie_title, wiki_dataset['Plot'][actual_movie_id], hits))\n",
    "\n",
    "  return misclassifications"
   ]
  },
  {
   "cell_type": "markdown",
   "metadata": {
    "id": "KCRCmEMctsJC"
   },
   "source": [
    "## An example\n",
    "\n",
    "Note that this is an example which is misclassified by Okapi BM25, but correctly classified by Embed-and-Rerank. The movie being referenced here is \"Midnight in Paris\"."
   ]
  },
  {
   "cell_type": "code",
   "execution_count": 10,
   "metadata": {
    "colab": {
     "base_uri": "https://localhost:8080/"
    },
    "id": "oScJwqLm5ZDi",
    "outputId": "2f8cb963-8588-4a96-9078-0f5e31944107"
   },
   "outputs": [
    {
     "data": {
      "text/plain": [
       "[(('Witness', 1985), 12.047900192294906),\n",
       " (('Target', 1985), 10.716933606280001),\n",
       " (('Picture Perfect', 1997), 10.131693096010025),\n",
       " (('An American Werewolf in Paris', 1997), 10.066780063295393),\n",
       " (('De-Lovely', 2004), 9.704919676517996),\n",
       " (('Paris, Texas', 1984), 9.53951184051008),\n",
       " (('An Education', 2009), 9.289532110099987),\n",
       " (('Pet Sematary', 1989), 9.063614686950345),\n",
       " (('Revolutionary Road', 2008), 8.845658806373812),\n",
       " (('Unlawful Entry', 1992), 8.737652543255958)]"
      ]
     },
     "execution_count": 10,
     "metadata": {},
     "output_type": "execute_result"
    }
   ],
   "source": [
    "query = \"couple walks through paris all night\"\n",
    "\n",
    "lexical_query(query, bm25, id_and_summary, plots)"
   ]
  },
  {
   "cell_type": "markdown",
   "metadata": {
    "id": "alkTWMZXCKER"
   },
   "source": [
    "## Testing performance on IMDB query set"
   ]
  },
  {
   "cell_type": "code",
   "execution_count": null,
   "metadata": {
    "colab": {
     "base_uri": "https://localhost:8080/",
     "height": 424
    },
    "id": "1hyOKiq16BQ4",
    "outputId": "00908067-8ba8-482b-98c5-8ab1391ee56c"
   },
   "outputs": [
    {
     "data": {
      "text/html": [
       "\n",
       "  <div id=\"df-7c1a4b25-e9d7-4863-b37f-3c1d79de709d\">\n",
       "    <div class=\"colab-df-container\">\n",
       "      <div>\n",
       "<style scoped>\n",
       "    .dataframe tbody tr th:only-of-type {\n",
       "        vertical-align: middle;\n",
       "    }\n",
       "\n",
       "    .dataframe tbody tr th {\n",
       "        vertical-align: top;\n",
       "    }\n",
       "\n",
       "    .dataframe thead th {\n",
       "        text-align: right;\n",
       "    }\n",
       "</style>\n",
       "<table border=\"1\" class=\"dataframe\">\n",
       "  <thead>\n",
       "    <tr style=\"text-align: right;\">\n",
       "      <th></th>\n",
       "      <th>MovieId</th>\n",
       "      <th>summary</th>\n",
       "    </tr>\n",
       "  </thead>\n",
       "  <tbody>\n",
       "    <tr>\n",
       "      <th>0</th>\n",
       "      <td>0</td>\n",
       "      <td>A chivalrous British officer takes the blame f...</td>\n",
       "    </tr>\n",
       "    <tr>\n",
       "      <th>1</th>\n",
       "      <td>0</td>\n",
       "      <td>Captain Wynnegate leaves England, accepting th...</td>\n",
       "    </tr>\n",
       "    <tr>\n",
       "      <th>2</th>\n",
       "      <td>1</td>\n",
       "      <td>A naive country girl is tricked into a sham ma...</td>\n",
       "    </tr>\n",
       "    <tr>\n",
       "      <th>3</th>\n",
       "      <td>1</td>\n",
       "      <td>The callous rich, portrayed by Lennox, think o...</td>\n",
       "    </tr>\n",
       "    <tr>\n",
       "      <th>4</th>\n",
       "      <td>2</td>\n",
       "      <td>An extended family split up in France and Germ...</td>\n",
       "    </tr>\n",
       "    <tr>\n",
       "      <th>...</th>\n",
       "      <td>...</td>\n",
       "      <td>...</td>\n",
       "    </tr>\n",
       "    <tr>\n",
       "      <th>9982</th>\n",
       "      <td>5268</td>\n",
       "      <td>Four girls travel to a party in an isolated ho...</td>\n",
       "    </tr>\n",
       "    <tr>\n",
       "      <th>9983</th>\n",
       "      <td>5269</td>\n",
       "      <td>Jae-hyuk is an ordinary man in his 40s. He wor...</td>\n",
       "    </tr>\n",
       "    <tr>\n",
       "      <th>9984</th>\n",
       "      <td>5270</td>\n",
       "      <td>Esra working for a logistics firm lives with h...</td>\n",
       "    </tr>\n",
       "    <tr>\n",
       "      <th>9985</th>\n",
       "      <td>5271</td>\n",
       "      <td>Recep Ivedik has been depressed since the deat...</td>\n",
       "    </tr>\n",
       "    <tr>\n",
       "      <th>9986</th>\n",
       "      <td>5272</td>\n",
       "      <td>Two Turkish anti-terrorist agents are sent to ...</td>\n",
       "    </tr>\n",
       "  </tbody>\n",
       "</table>\n",
       "<p>9987 rows × 2 columns</p>\n",
       "</div>\n",
       "      <button class=\"colab-df-convert\" onclick=\"convertToInteractive('df-7c1a4b25-e9d7-4863-b37f-3c1d79de709d')\"\n",
       "              title=\"Convert this dataframe to an interactive table.\"\n",
       "              style=\"display:none;\">\n",
       "        \n",
       "  <svg xmlns=\"http://www.w3.org/2000/svg\" height=\"24px\"viewBox=\"0 0 24 24\"\n",
       "       width=\"24px\">\n",
       "    <path d=\"M0 0h24v24H0V0z\" fill=\"none\"/>\n",
       "    <path d=\"M18.56 5.44l.94 2.06.94-2.06 2.06-.94-2.06-.94-.94-2.06-.94 2.06-2.06.94zm-11 1L8.5 8.5l.94-2.06 2.06-.94-2.06-.94L8.5 2.5l-.94 2.06-2.06.94zm10 10l.94 2.06.94-2.06 2.06-.94-2.06-.94-.94-2.06-.94 2.06-2.06.94z\"/><path d=\"M17.41 7.96l-1.37-1.37c-.4-.4-.92-.59-1.43-.59-.52 0-1.04.2-1.43.59L10.3 9.45l-7.72 7.72c-.78.78-.78 2.05 0 2.83L4 21.41c.39.39.9.59 1.41.59.51 0 1.02-.2 1.41-.59l7.78-7.78 2.81-2.81c.8-.78.8-2.07 0-2.86zM5.41 20L4 18.59l7.72-7.72 1.47 1.35L5.41 20z\"/>\n",
       "  </svg>\n",
       "      </button>\n",
       "      \n",
       "  <style>\n",
       "    .colab-df-container {\n",
       "      display:flex;\n",
       "      flex-wrap:wrap;\n",
       "      gap: 12px;\n",
       "    }\n",
       "\n",
       "    .colab-df-convert {\n",
       "      background-color: #E8F0FE;\n",
       "      border: none;\n",
       "      border-radius: 50%;\n",
       "      cursor: pointer;\n",
       "      display: none;\n",
       "      fill: #1967D2;\n",
       "      height: 32px;\n",
       "      padding: 0 0 0 0;\n",
       "      width: 32px;\n",
       "    }\n",
       "\n",
       "    .colab-df-convert:hover {\n",
       "      background-color: #E2EBFA;\n",
       "      box-shadow: 0px 1px 2px rgba(60, 64, 67, 0.3), 0px 1px 3px 1px rgba(60, 64, 67, 0.15);\n",
       "      fill: #174EA6;\n",
       "    }\n",
       "\n",
       "    [theme=dark] .colab-df-convert {\n",
       "      background-color: #3B4455;\n",
       "      fill: #D2E3FC;\n",
       "    }\n",
       "\n",
       "    [theme=dark] .colab-df-convert:hover {\n",
       "      background-color: #434B5C;\n",
       "      box-shadow: 0px 1px 3px 1px rgba(0, 0, 0, 0.15);\n",
       "      filter: drop-shadow(0px 1px 2px rgba(0, 0, 0, 0.3));\n",
       "      fill: #FFFFFF;\n",
       "    }\n",
       "  </style>\n",
       "\n",
       "      <script>\n",
       "        const buttonEl =\n",
       "          document.querySelector('#df-7c1a4b25-e9d7-4863-b37f-3c1d79de709d button.colab-df-convert');\n",
       "        buttonEl.style.display =\n",
       "          google.colab.kernel.accessAllowed ? 'block' : 'none';\n",
       "\n",
       "        async function convertToInteractive(key) {\n",
       "          const element = document.querySelector('#df-7c1a4b25-e9d7-4863-b37f-3c1d79de709d');\n",
       "          const dataTable =\n",
       "            await google.colab.kernel.invokeFunction('convertToInteractive',\n",
       "                                                     [key], {});\n",
       "          if (!dataTable) return;\n",
       "\n",
       "          const docLinkHtml = 'Like what you see? Visit the ' +\n",
       "            '<a target=\"_blank\" href=https://colab.research.google.com/notebooks/data_table.ipynb>data table notebook</a>'\n",
       "            + ' to learn more about interactive tables.';\n",
       "          element.innerHTML = '';\n",
       "          dataTable['output_type'] = 'display_data';\n",
       "          await google.colab.output.renderOutput(dataTable, element);\n",
       "          const docLink = document.createElement('div');\n",
       "          docLink.innerHTML = docLinkHtml;\n",
       "          element.appendChild(docLink);\n",
       "        }\n",
       "      </script>\n",
       "    </div>\n",
       "  </div>\n",
       "  "
      ],
      "text/plain": [
       "      MovieId                                            summary\n",
       "0           0  A chivalrous British officer takes the blame f...\n",
       "1           0  Captain Wynnegate leaves England, accepting th...\n",
       "2           1  A naive country girl is tricked into a sham ma...\n",
       "3           1  The callous rich, portrayed by Lennox, think o...\n",
       "4           2  An extended family split up in France and Germ...\n",
       "...       ...                                                ...\n",
       "9982     5268  Four girls travel to a party in an isolated ho...\n",
       "9983     5269  Jae-hyuk is an ordinary man in his 40s. He wor...\n",
       "9984     5270  Esra working for a logistics firm lives with h...\n",
       "9985     5271  Recep Ivedik has been depressed since the deat...\n",
       "9986     5272  Two Turkish anti-terrorist agents are sent to ...\n",
       "\n",
       "[9987 rows x 2 columns]"
      ]
     },
     "execution_count": 13,
     "metadata": {},
     "output_type": "execute_result"
    }
   ],
   "source": [
    "test_queries"
   ]
  },
  {
   "cell_type": "code",
   "execution_count": null,
   "metadata": {
    "colab": {
     "base_uri": "https://localhost:8080/",
     "height": 66,
     "referenced_widgets": [
      "8963812720f04b6c88ebe7a60b25a68c",
      "2f31e028564749a890adff0b05f3d98e",
      "fc03808c64d843a88ccbb2f3269632d6",
      "24bae9a19a6f417fa80310b0bb5cb87b",
      "81ab4e17bc574c69a3c564ef451f5d3b",
      "1f3602bb1b7248cd947bf1447c12080c",
      "46253cd91c6c478b99d1a6d81683efbf",
      "189befb56e1d47eda2c724c641e58039",
      "7ccae759ce24459bbb7cb8d57f8f682f",
      "f5891201dd974408af6a6ae26bb1c8e2",
      "35962075cfc649b68f5dd9ef5420e8b6"
     ]
    },
    "id": "rj_fRWZlEohQ",
    "outputId": "eb9ed8d4-a865-4bb9-87a0-5ba48738c0a4"
   },
   "outputs": [
    {
     "data": {
      "application/vnd.jupyter.widget-view+json": {
       "model_id": "8963812720f04b6c88ebe7a60b25a68c",
       "version_major": 2,
       "version_minor": 0
      },
      "text/plain": [
       "0it [00:00, ?it/s]"
      ]
     },
     "metadata": {},
     "output_type": "display_data"
    },
    {
     "data": {
      "text/plain": [
       "0.8405927706017823"
      ]
     },
     "execution_count": 16,
     "metadata": {},
     "output_type": "execute_result"
    }
   ],
   "source": [
    "measure_accuracy(test_queries, bm25, id_and_summary, plots)"
   ]
  },
  {
   "cell_type": "markdown",
   "metadata": {
    "id": "H3TUWGnkHPMP"
   },
   "source": [
    "## Examples of misclassifications"
   ]
  },
  {
   "cell_type": "code",
   "execution_count": 11,
   "metadata": {
    "colab": {
     "base_uri": "https://localhost:8080/"
    },
    "id": "lCBYrKXSuT8K",
    "outputId": "a9ef21e1-d05e-4f89-cc60-f9764e8c5fd0"
   },
   "outputs": [
    {
     "data": {
      "text/plain": [
       "[('In World War I France, a pilot falls in love with the wife of his friend and superior officer.',\n",
       "  'The Woman I Love',\n",
       "  'In World War I, French fighter pilot Lt. Claude Maury (Paul Muni) gains a bad reputation in his squadron, flying off on \"lone wolf\" missions. More importantly, Maury continually returns to base with his air observers/gunners killed or wounded. Others believe he is either \"jinxed\" or dangerous, and only Lt. Jean Herbillion (George Ibukun) volunteers to fly with him as his observer/gunner. Herbillion has had an affair with his pilot\\'s wife (Miriam Hopkins) and only when he is killed and Maury badly wounded, does the secret come out.\\r\\nIn going through Herbillion\\'s effects, Maury comes across a photograph and letter from his wife. She confesses to the affair and begs forgiveness. In the end, he relents as she nurses him back to health.',\n",
       "  [(('The Other Side of Midnight', 1977), 25.98765104082652),\n",
       "   (('The White Cliffs of Dover', 1944), 19.408818785179392),\n",
       "   (('The Lost Squadron', 1932), 17.474723528941162),\n",
       "   (('Half Shot at Sunrise', 1930), 17.102284619867405),\n",
       "   (('Island in the Sky', 1953), 16.702964192549036),\n",
       "   ((\"Love's Labour's Lost\", 2000), 16.302971616807604),\n",
       "   (('Waterloo Bridge', 1940), 16.170861565266794),\n",
       "   (('Crazy on the Outside', 2010), 16.12877743328936),\n",
       "   (('Forget Paris', 1995), 15.746598336206693),\n",
       "   (('The Stunt Man', 1980), 15.562823582989115)]),\n",
       " ('A tale of an inner city drug dealer who turns away from a life of crime to pursue his passion of rap music.',\n",
       "  \"Get Rich or Die Tryin'\",\n",
       "  'After Marcus and his friends rob a Colombian safe house, Marcus is shot nine times. As the unidentified shooter points the gun to Marcus\\' head and pulls the trigger, the film flashes back to his childhood.\\r\\nMarcus is a quiet young boy who adores his loving mother, and the two live a relatively comfortable life on her drug-dealing income. She often has to leave him with his grandparents while she conducts business. She is murdered in an apparent drug deal gone wrong.\\r\\nForced to live with his grandparents full-time, they themselves also having children to look after, Marcus finds his life less appealing as his grandfather works long hours to support the family. As he grows older, he rejects the idea of legal work and decides to deal drugs, buying new clothing and a gun. Eventually he abandons high school to sell drugs for local kingpin Levar and his underling, Majestic, full-time. Majestic, however, plans to become a major drug lord himself, often conspiring with a Rap artist he manages named Dangerous.\\r\\nYears later, after Marcus reunites with his childhood sweetheart Charlene, one of his friends is shot and paralyzed at a club by a Colombian named Raul; the gunman initially aimed for Marcus. In retaliation, Marcus attacks Raul but is unable to bring himself to kill Raul when he realises murdering him would get him in trouble and it wasn’t worth it so like Raul did to Antwan, Marcus shoots Raul in the legs multiple times to avenge what Raul did to his friend\\r\\nWhen Raul refuses to identify Marcus as the shooter in a police line up, he is free to go. After an anonymous tip off, cops raid his house and find a gun and drugs, which didn\\'t belong to Marcus. Marcus is jailed, and during his time in prison, he befriends an inmate named Bama.\\r\\nAfter encouragement from Bama, Marcus leaves the drug trade behind to pursue and fulfill his lifelong dream of being a rapper, calling himself Young Caesar. Bama joins as his manager and producer. Bama gets out of prison before Marcus but promises he will see him again.\\r\\nWhen Marcus leaves prison, Bama, Justice, Majestic, and June Bug are waiting for him. Majestic invites Marcus to become his right-hand man (taking June Bug\\'s place), but Marcus tells him of his aspirations to being a rapper, which Majestic laughs off. Marcus leaves with Bama, taking Justice with him.\\r\\nJustice and Bama initially have a clash of personalities, but Marcus calms them after a roadside stop. Unconvinced of Marcus\\' dream, Justice informs Majestic of his activities. As Marcus more seriously pursues music, Majestic tries everything in his power to sabotage his success, threatening record label employees, DJs, and more. Marcus refuses to stop and taunts Majestic and Dangerous in songs.\\r\\nDespite Marcus\\' insistence at avoiding crime, Bama convinces him to carry out one last robbery on a Colombian safe house. While this happens, Majestic targets Marcus for death. After Marcus and his crew complete the robbery, the film returns to the 1st scene. It is then revealed that Marcus is shot outside of his family\\'s home by Justice. Marcus rethinks his life, prioritizing his young child. After a long and painful recovery, he records music again.\\r\\nAngered with Justice\\'s failure, Majestic kills him. Shortly after, Marcus meets with Levar, who remorsefully reveals that he is Marcus\\' biological father and regrets not being there for him and his mother.\\r\\nMarcus prepares to go on stage. In the moments before the show, he angers Majestic, who reveals he killed Marcus\\' mother years earlier. A fight ensues, and Marcus wins. Majestic begs for Marcus to kill him, but Marcus doesn\\'t. As Marcus is about to walk out on stage, Majestic tries to stab him. However, Bama shoots and wounds him. Marcus leaves Majestic in the hands of his cronies, and as he walks out towards the crowd, he stops as he hears a gunshot in the room behind him. There, Bama fires more shots into Majestic\\'s corpse.\\r\\nMarcus steps onto the stage and performs \"Hustler\\'s Ambition\".',\n",
       "  [(('Poetic Justice', 1993), 18.265270778730326),\n",
       "   (('Bad Lieutenant', 1992), 17.987608284905004),\n",
       "   (('No Reservations', 2007), 17.134033889668423),\n",
       "   (('Here Comes the Boom', 2012), 16.960201124339584),\n",
       "   (('Revolutionary Road', 2008), 15.292727106086076),\n",
       "   (('Sleepers', 1996), 15.030595601893348),\n",
       "   (('Midnight Run', 1988), 14.62954277965331),\n",
       "   (('Payback', 1999), 14.513832706678643),\n",
       "   (('Trespass', 2011), 13.856605624635035),\n",
       "   ((\"Sharky's Machine\", 1981), 13.673257176854985)]),\n",
       " ('A soft and hesitant young man is in danger when tries to break toxic relationships with a mysterious stranger claiming to be his friend.',\n",
       "  'Bad Influence',\n",
       "  'Michael, a shy, socially awkward doormat, meets the extroverted Alex, who teaches him to be assertive and take risks. Things go too far however, when they go on a drug-fueled crime spree and assault a coworker Michael dislikes. When Michael wants out, Alex takes it upon himself to convince Michael to reconsider his decision - one way or another.',\n",
       "  [(('Mr. Destiny', 1990), 17.84415236497101),\n",
       "   (('Endangered Species', 1982), 17.832029178144047),\n",
       "   (('The Golden Child', 1986), 15.722636296142305),\n",
       "   (('Margin Call', 2011), 15.326971684181995),\n",
       "   (('The Witches of Eastwick', 1987), 14.420234572404128),\n",
       "   (('Wild Orchids', 1929), 14.176433486835233),\n",
       "   (('Dressed to Kill', 1980), 14.106946092209885),\n",
       "   (('Domestic Disturbance', 2001), 13.897172197356722),\n",
       "   (('Menace II Society', 1993), 13.643890851371854),\n",
       "   (('The Adventures of the Wilderness Family', 1975), 13.523498130873325)]),\n",
       " ('Two noble Scottish brothers deliberately take opposite sides when Bonnie Prince Charlie returns to claim the throne of Scotland in order to preserve the family fortune.',\n",
       "  'The Master of Ballantrae',\n",
       "  \"At the Durrisdeer estate in Scotland in 1745, Jamie Durie (Errol Flynn), his younger brother Henry (Anthony Steel) and their father Lord Durrisdeer (Felix Aylmer) receive news of the Jacobite rising. Their retainer, MacKellar (Mervyn Johns), recommends that one brother join the uprising while the other remains loyal to King George II, so that whichever side wins, the family's status and estate will be preserved. Both brothers want to go. Jamie insists on tossing a coin for the privilege and wins, despite the opposition of his fiancée, Lady Alison (Beatrice Campbell).\\r\\nThe rising is crushed at the Battle of Culloden. Evading British soldiers, Jamie falls in with an Irish adventurer, Colonel Francis Burke (Roger Livesey). They return secretly to Durrisdeer to obtain money for passage to France.\\r\\nWhen Jamie's commoner mistress, Jessie Brown (Yvonne Furneaux), sees him kissing Lady Alison, she betrays him to the British. Jamie is shot by Major Clarendon and falls into the sea. Henry becomes the heir to the estate on the presumption that Jamie is dead.\\r\\nBelieving his brother betrayed him, a wounded Jamie and Burke take ship with smugglers to the West Indies, where they are betrayed by their captain McCauley and captured by pirates led by French dandy Captain Arnaud (Jacques Berthier).\\r\\nJamie goes into partnership with Arnaud. When they reach the port of Tortugas Bay, they see a rich Spanish galleon captured by fellow buccaneer Captain Mendoza (Charles Goldner). Arnaud agrees to Jamie's proposal that they steal the ship. However, once they have seized the galleon, Arnaud turns on Jamie. Jamie kills Arnaud in a sword duel and takes command. They sail for Scotland.\\r\\nJamie returns to the family estate, rich with pirate treasure, to find a celebration in progress for Henry's betrothal to Alison. Unable to contain himself, Jamie confronts his brother, despite the presence of British officers. A fight breaks out, in which Henry tries to aid Jamie. The unequal fight ends with Jamie and Burke condemned to death.\\r\\nJessie helps them escape, at the cost of her own life. Henry also assists them. Jamie tells his brother of the location of some treasure which Henry can then use to pay off Jamie's gambling debts. Alison elects to go with Jamie to an uncertain future and she, Burke and Jamie all ride off together.\",\n",
       "  [(('Braveheart', 1995), 20.98687956321062),\n",
       "   (('Arabian Nights', 1942), 18.96372677907307),\n",
       "   (('Enchanted', 2007), 17.512522920854753),\n",
       "   (('The Young Victoria', 2009), 16.96312370750318),\n",
       "   (('Henry V', 1989), 16.920413487782103),\n",
       "   (('King Ralph', 1991), 16.810598297961626),\n",
       "   (('Salmon Fishing in the Yemen', 2011), 16.598671594958773),\n",
       "   (('The Black Balloon', 2008), 16.131860828053824),\n",
       "   (('The Last King of Scotland', 2006), 15.846675515340399),\n",
       "   (('Robin Hood: Prince of Thieves', 1991), 15.807474001130645)]),\n",
       " ('Coming together to solve a series of murders in New York City are a police detective and an assassin, who will be hunted by the police, the mob, and a ruthless corporation.',\n",
       "  'Max Payne',\n",
       "  'Detective Max Payne (Mark Wahlberg) is a three-year veteran in the NYPD Cold Case Unit, privately consumed with investigating and finding the murderer of his wife Michelle and their infant child. When Natasha, a known acquaintance with a connection to his wife, is brutally murdered, Max becomes the prime suspect in the case.\\r\\nMax and Mona Sax (Mila Kunis) visit Natasha\\'s tattoo parlour, where the tattoo artist tells them Natasha\\'s tattoo represents the wings of a Valkyrie, which, in Norse mythology, are creatures that decide the fate of warriors in battle. Max then goes to take some of Michelle\\'s belongings out of storage and ends up discovering that documents from when she worked at the Aesir Corporation have gone missing. Max interrogates Michelle\\'s former supervisor, Jason Colvin (Chris O\\'Donnell), in his office at Aesir and learns that Michelle was associated with a military contract to create super-soldiers using the highly addictive drug Valkyr. Only a few subjects showed positive results; the rest saw hallucinations and eventually went insane, so the project was terminated. Jason agrees to testify, as long as Max protects him from who Jason calls \"the man who killed your wife\": Max agrees and starts to escort Jason out of his office, but a SWAT team (in fact disguised Aesir contractors) ambushes them, killing Jason and attracting Bravura\\'s attention. After an intense gunfight Max escapes with the evidence and shows the video to Mona: it explains the Valkyr project - Lupino is a former Marine and his testimony explains that, while taking the drug, Lupino feels invincible, with no side effects (unlike most other test subjects). Max corners Lupino at his warehouse hideout, and during their battle, Max\\'s defeat appears to be certain until BB arrives, killing Lupino and knocking Max unconscious as they leave.\\r\\nBB explains that he is selling Valkyr and admits to killing Michelle because she inadvertently came across incriminating documents. BB plans to drown Max in the river hoping to make it look like a drug-induced suicide, but Max breaks free and dives into the icy river. He considers suicide but hears the voice of his wife. He swims to shore and, to prevent hypothermia, consumes both vials of Valkyr, transforming into a super-soldier with visions of Valkyries. Max follows BB back to the Aesir building. Assisted by Mona, he shoots his way through Aesir security employees, eventually confronting and killing BB on the building\\'s helipad. His vengeance complete, he falls to his knees, ready to die. He sees a vision of his wife and child, smiling. He comes to, as the sun cuts through the clouds and a SWAT team surrounds him.',\n",
       "  [(('Blood Feast', 1963), 25.563598782388354),\n",
       "   (('Wolfen', 1981), 22.84640371289819),\n",
       "   (('Rear Window', 1954), 22.750432031235924),\n",
       "   (('Prince of the City', 1981), 21.799064715526104),\n",
       "   (('The Bounty Hunter', 2010), 21.569230080641873),\n",
       "   (('Blue City', 1986), 21.523823856809035),\n",
       "   (('Klute', 1971), 21.243313773543615),\n",
       "   (('Dressed to Kill', 1980), 21.222594034255373),\n",
       "   (('The International', 2009), 20.99926640503621),\n",
       "   (('One Good Cop', 1991), 20.462051777871658)]),\n",
       " (\"A small town's women give birth to unfriendly alien children posing as humans.\",\n",
       "  'Village of the Damned',\n",
       "  'All of the people, animals and birds within the quiet coastal town of Midwich in California\\'s Marin County fall unconscious for six hours one day at exactly 10am. Following this \"blackout\", ten females are mysteriously pregnant, including a virgin as well as a married woman who has not been sexually active for months. None of the women seek abortions, and later all the babies are born simultaneously on one night - five boys and five girls, though one female is stillborn. The children are all healthy and sound, but have pale skin, unusually soft, flat-sided platinum blonde hair; fierce intellect, and cobalt eyes. However, they do not appear to possess a conscience or personalities. The children display eerie psychic abilities that can result in violent and deadly consequences whenever they experience pain or provocation.\\r\\nThe children soon \"pair off\", except for one of the boys, David, whose intended partner was the stillborn girl. As a result of this imbalance, David is the runt of the group. Although he resembles the other children and retains some degree of psychic power, David is smaller, and is unlike the rest of the children in that he has a capacity for human emotion, and compassion. He and his mother Jill McGowan (the local school teacher) share a brief conversation about this, displaying empathy and remorse.\\r\\nThe children\\'s leader is Mara, the daughter of a local physician, Dr. Alan Chaffee. Even as a young girl, Mara exhibited vengeful tendencies with regard to the use of her abilities. One day Mara\\'s food was too hot for her so she threw her dish on the floor and then, using her powers, she made her mother stick her entire forearm into a large pot of boiling water. Even after Jill pulled Barbara away from the pot, Barbara would keep trying to submerge her arm in the scalding water. A short time later, a disconsolate Barbara is seen, by Alan, walking away from their house and toward a nearby ocean cliff. Mara is in the house, in her crib, but uses her mind to get her mother to commit suicide by jumping off the cliff. Alan only realizes what happened when he looks back out the window and sees that Barbara is no longer standing at the edge of the cliff. The children, who are by now known to have a hive mind, eventually move to the local barn as their classroom and for survival.\\r\\nSoon it is learned that there are other colonies of blackout children in foreign countries, but due to their inhuman nature they were quickly eliminated, in some cases at the cost of destroying the entire town. The scientific team in Midwich quickly flee the town to escape the growing chaos. Government scientist, Dr. Susan Verner, is forced to show the children the preserved stillborn baby she secretly kept to study, and the preserved corpse is seen to be undeniably alien. The children collectively force her to fatally stab herself. An angry mob gathers to kill the children, but the leader is forced to set herself on fire and burns to death, and later the state police are mentally controlled into shooting each other in a chaotic gun battle.\\r\\nIn order to rid the town of the children, Alan devises a plan: to detonate a briefcase of timed explosives inside the children\\'s classroom. By thinking of a brick wall, he is able to create a mental barrier and keep the presence of the time-bomb a secret from the children. Jill begs him to spare David because he is not like the others. Alan attempts to do this by asking David to leave the classroom to get his notebook from his car. The children begin to suspect that Alan is hiding something, and they slowly \"destroy\" the wall. Finally, Jill shows up, but the children stop her and attempt to use mind control. David, tired of this, rushes to her defense and knocks Mara over. The children turn on David, but Jill rushes him from the building. As soon as the children discover that Alan is hiding his knowledge of the bomb, it detonates in an enormous explosion, killing Alan and the eight alien children.\\r\\nJill and David, however, are safe in a car fleeing the site; she says that they will both move to a place where nobody knows them. David looks off into the distance as they drive away.',\n",
       "  [(('The Andromeda Strain', 1971), 16.92108294852484),\n",
       "   (('To Wong Foo, Thanks for Everything! Julie Newmar', 1995),\n",
       "    15.98569594114984),\n",
       "   (('Super 8', 2011), 14.635856191167791),\n",
       "   (('Returner', 2002), 14.034447780764314),\n",
       "   (('Queen of Blood', 1966), 13.609491928486591),\n",
       "   (('Cowboys & Aliens', 2011), 13.094525533972892),\n",
       "   (('Species II', 1998), 12.940483956344696),\n",
       "   (('When Harry Met Sally...', 1989), 12.932088873983062),\n",
       "   (('Pope Joan', 2009), 12.785645127778416),\n",
       "   (('Titan A.E.', 2000), 12.497576391056622)]),\n",
       " ('A CIA operative hires a team of mercenaries to eliminate a Latin dictator and a renegade CIA agent.',\n",
       "  'The Expendables',\n",
       "  'The Expendables, a group of elite mercenaries based in New Orleans, deploy to the Gulf of Aden to save hostages on a vessel from Somali pirates. The team consists of leader Barney Ross, blades specialist Lee Christmas, martial artist Yin Yang, military veteran Gunner Jensen, weapons specialist Hale Caesar, and demolitions expert Toll Road. Jensen instigates a firefight, causing casualties for the pirates. He then tries to hang a pirate, but Yang stops him when Ross and the team discourage it. Ross reluctantly discharges him from the team. Later, Christmas is upset to discover his girlfriend, Lacy, has left him for another man.\\r\\nRoss and rival Trench Mauser visit \"Mr. Church\" for a mission. Trench passes the contract to Ross, which is to overthrow dictator General Garza in Vilena, an island in the Gulf of Mexico. Ross and Christmas fly to Vilena for undercover reconnaissance and meet their contact, Sandra, but are discovered. It is revealed that ex-CIA officer James Munroe is keeping Garza in power as a figurehead for his own profiteering operations, while Sandra is revealed to be Garza\\'s daughter. Ross aborts, but Sandra refuses to leave Vilena. Meanwhile, Jensen approaches Munroe to help and Garza is angered further when Sandra is waterboarded for information by Munroe. Meanwhile, Lacy has been physically abused by her new man, so Christmas beats him and his friends, revealing what he does for a living. Ross and the group discover that Church is a CIA operative and the real target is Munroe, who has gone rogue and joined forces with Garza to keep the drug money that funds the CIA to himself, but the CIA cannot afford a mission to kill one of their own directly because of bad publicity. Ross meets tattoo expert and friend Tool to express his feelings. Tool makes a confession about letting a woman commit suicide instead of saving her. Ross is then motivated to go back for Sandra alone, but Yang accompanies him. Jensen and hired men pursue them on the road, ending in an abandoned warehouse, where Yang and Jensen fight a second time. Ross shoots Jensen when he attempts to impale Yang on a pipe. Jensen makes amends and gives the layout of Garza\\'s palace. Ross boards the plane with Yang and finds the rest of the team waiting.\\r\\nThey then infiltrate Garza\\'s compound. Thinking Munroe hired the team to kill him, Garza has his soldiers\\' faces painted, preparing them for a fight. The team plants explosives throughout the site but Ross, while saving Sandra, is captured by Munroe\\'s henchmen. The team saves him and kills the Brit, but is pinned down by Garza\\'s men as Paine wrestles Ross. Caesar fights back and Paine escapes. Garza finally stands up to Munroe, ordering him out and returning his money. Instead, as Garza rallies his men against the Americans, Munroe kills him and escapes with Paine and Sandra. Garza\\'s men open fire against the team, who fight their way through, detonating the explosives and destroying the compound. Toll kills Paine by burning him alive while Ross and Caesar manage to destroy the helicopter before Munroe can escape. Ross and Christmas catch up to Munroe, killing him and saving Sandra. Later, Ross gives his mission reward to Sandra to restore Vilena.\\r\\nIn the final scene, the team has returned home and are celebrating at Tool\\'s tattoo parlor with the recovering and now redeemed Jensen. Christmas and Tool play a game of knife throwing, during which Christmas composes a mocking poem about Tool, then throws a bullseye from outside the building.',\n",
       "  [(('Safe House', 2012), 28.891764228806853),\n",
       "   (('Memoirs of an Invisible Man', 1992), 25.976346464796205),\n",
       "   (('The Crocodile Hunter: Collision Course', 2002), 24.0992970187268),\n",
       "   (('The Bourne Identity', 2002), 23.797091159497633),\n",
       "   (('Ishtar', 1987), 23.399173817607057),\n",
       "   (('Salt', 2010), 22.395766239645738),\n",
       "   (('Rendition', 2007), 22.32990923895136),\n",
       "   (('The Fury', 1978), 21.463777653796487),\n",
       "   (('The Bourne Ultimatum', 2007), 21.162633399930566),\n",
       "   (('Invasion U.S.A.', 1985), 20.69858291838098)]),\n",
       " ('A simpleminded, sheltered country boy suddenly decides to leave his family home to experience life in the big city, where his naivete is both his best friend and his worst enemy.',\n",
       "  'The Jerk',\n",
       "  'Navin R. Johnson, a homeless man, directly addresses the camera and tells his story. He is the adopted white son of African American sharecroppers, who grows to adulthood naïvely unaware of his obvious adoption. He stands out in his family not just because of his skin color but because of his utter lack of rhythm when his adopted family plays spirited blues music. One night, he hears the staid Roger Wolfe Kahn Orchestra song called \"Crazy Rhythm\" on the radio and his feet spontaneously begin to move with the urge to dance; he sees this as a calling and decides to hitchhike to St. Louis, from where the song was broadcast. On the way, he stops at a motel, where a dog wakes him up by barking at his door. Navin thinks the dog is trying to warn of a fire. He wakes up the other hotel guests to rescue them, but everyone realizes it was a false alarm.\\r\\nNavin gets a job (and a place to sleep) at a gas station owned by Mr. Harry Hartounian. He is thrilled to find that he is listed in the local phone book, as his name is \"in print\" for the first time. Not long after, a gun-wielding lunatic randomly flips through the phone book and picks \"Johnson, Navin R.\" as his next victim. As the madman watches through his rifle scope, waiting for a clear shot, Navin fixes the slippery glasses of a customer, Stan Fox, by adding a handle and a nose brake. Fox offers to split the profits 50/50 with Navin if he can market the invention, then departs. Seizing his chance, the crazed sniper shoots but misses. The lunatic chases Navin to a traveling carnival, where Navin hides out, eventually getting a job with SJM Fiesta Shows as a weight guesser. While employed there, Navin meets an intimidating daredevil biker named Patty Bernstein and has a sexual relationship with her, finally realizing what his \"special purpose\" (his mother\\'s euphemism for his penis) is for. He then meets a woman named Marie and arranges a date with her. Patty confronts them, but Marie knocks her out. While courting, Navin and Marie walk along the beach and sing \"Tonight You Belong to Me\"; Navin plays the ukulele and Marie the cornet. Navin and Marie fall in love, but Marie reluctantly leaves him because of his lack of financial security. She writes a note and slips out while Navin is in the bath.\\r\\nAt an emotional and financial low, Navin is soon contacted by Stan Fox with exciting news: his glasses invention, now called the Opti-Grab, is selling big and he is entitled to half of the profits. Now extremely rich, he finds and marries Marie, and they buy an extravagant mansion. Their life becomes one of splendor and non-stop partying. However, Carl Reiner, the motion-picture director files a class action lawsuit against Navin and claims that the Opti-Grab caused his eyes to be crossed and his resulting poor vision caused the death of a stunt driver in the film he was directing. Nearly ten million other people have the same vision complaint (including the judge and jury foreman), and are awarded $10 million in damages. Bankrupt, depressed, and now homeless, he is abandoned by Marie and is soon living on the streets. His story now told, he resigns himself to a life of misery and memories of Marie, but to his amazed joy, she suddenly appears, along with Navin\\'s family, and some more good news: having carefully invested the small sums of money he sent home throughout the film, they have become wealthy themselves. They pick him up off the street, and he and Marie move back home into the Johnsons\\' new house\\xa0— a bigger, yet nearly identical version of their old, small shack.\\r\\nThe story ends as the entire family dances on the porch and sings \"Pick a Bale of Cotton\"; Navin dances along, now having gained perfect rhythm.',\n",
       "  [(('The Road Home', 1999), 19.20857626336318),\n",
       "   (('Fresh Horses', 1988), 18.73667292797731),\n",
       "   (('Diary of a Wimpy Kid: Dog Days', 2012), 16.805052156121462),\n",
       "   (('Jimmy Hollywood', 1994), 16.12122507068357),\n",
       "   (('The Lucky One', 2012), 15.891194067785193),\n",
       "   (('The Tender Trap', 1955), 15.615737922003877),\n",
       "   (('The Nutcracker Prince', 1990), 15.580968216515476),\n",
       "   (('All the Pretty Horses', 2000), 15.508352316794873),\n",
       "   (('Duma', 2005), 15.182735114784064),\n",
       "   (('Dick Tracy', 1990), 15.041442500270044)]),\n",
       " (\"To stop an elusive criminal, a maverick detective enlists the aid of a police dog who's an unusually intelligent smart alec.\",\n",
       "  'K-9',\n",
       "  \"San Diego Police Detective Michael Dooley leaves his car to contact his girlfriend, Tracy, when a helicopter suddenly appears and opens fire on his car, which ignites. Presuming him dead, the assassins leave the scene. At the police station, Dooley argues with his lieutenant, refusing to take a partner; instead, he decides to get a police dog. At home, he finds Tracy with another man and spends the night in his new car. The next day, Dooley coerces Freddie, an informant, into revealing that the drug lord Ken Lyman is responsible for the attack. Dooley is assigned a German Shepherd named Jerry Lee,[3] whom he dislikes.\\r\\nDooley and Jerry Lee head to a warehouse assumed to be filled with drugs. When Jerry Lee does not follow Dooley's orders, the workers laugh at him. Dooley is forced to leave after Jerry Lee finds only a cigarette when commanded to find drugs. The duo drive to a pub where Dooley stakes out Benny the Mule in an attempt to charge Lyman. When his cover is blown, Jerry Lee saves Dooley from a beating; with the dog's help, Dooley subdues Benny and learns the location of Lyman's next shipment. Meanwhile, Lyman kills Freddie and demands that his henchman Dillon kill Dooley before the shipment arrives.\\r\\nAt Dooley's apartment, Jerry Lee steals the spotlight after Tracy accepts Dooley's story that he rescued the dog from the streets. The next day, Dooley and Jerry Lee bond when they eat together and spy on Lyman. The two are nearly killed when someone shoots at them, and the two chase the assailant to an empty building. Jerry Lee leads Dooley to the man, who falls to his death after a fistfight with Dooley. In the man's car, Dooley finds a clue that leads him to an auto-dealer shop. There, Jerry Lee identifies a red Mercedes owned by Lyman, and Dooley learns from Halstead, the owner of the dealership, that he works for Lyman. Later, Jerry Lee falls in love with a poodle to the disapproval of its owner.\\r\\nWhen Dooley returns home, he discovers Lyman has kidnapped Tracy. Infuriated, Dooley crashes a party at Lyman's mansion and demands her return. Lyman pretends to know nothing, and Dooley is arrested by an officer from his own department and put in a squad car. Angry, Dooley's lieutenant calls him crazy. When Jerry Lee's flatulence annoys the other officers, Dooley uses it to his advantage and escapes with the dog. As Dooley tells Jerry Lee how he met Tracy, he spots a truck driven by Halstead that is pulling a trailer with Lyman's Mercedes. Dooley purses the truck, and Halstead blows a tire. After Halstead shoots at Dooley, Jerry Lee kills Halstead.\\r\\nMeanwhile, in a stranded desert in San Diego, Lyman holds Tracy hostage in his limo and becomes suspicious when Halstead is late. Dooley arrives with the truck and trailer, which is revealed to be the next shipment of drugs. Not worrying about the case anymore, Dooley orders Lyman to surrender his girlfriend to him, or he will blow up the truck. Lyman calls Dooley's bluff, and a shootout ensues. Dooley kills Lyman's henchmen Dillon and Jerry Lee chases Lyman as he runs for his helicopter. Unable to outrun the dog, Lyman shoots Jerry Lee; enraged, Dooley shoots and kills Lyman. Dooley and Tracy rush Jerry Lee to a hospital, where the reluctant surgeon operates. In the recovery room, Dooley delivers a eulogy to Jerry Lee, not knowing that he is alive. When the surgeon tells him he is going to be fine, Dooley responds in anger, thinking he was speaking to a dead dog. Jerry Lee licks Dooley's face out of love, making him give in.\\r\\nTo take a break from police work, Dooley, Tracy, Jerry Lee, and a poodle spend a vacation together in Las Vegas.\",\n",
       "  [(('Eye in the Sky', 2007), 16.84001889729372),\n",
       "   (('Alien Nation', 1988), 16.651150080829833),\n",
       "   (('Maverick', 1994), 15.784955641123744),\n",
       "   (('Journey to the Center of the Earth', 1959), 15.781495807899844),\n",
       "   (('Cat People', 1982), 14.710096130233861),\n",
       "   (('Cats & Dogs', 2001), 14.530821417254836),\n",
       "   (('Top Gun', 1986), 14.380942419584297),\n",
       "   (('Flight of the Intruder', 1991), 13.753586067210934),\n",
       "   (('City Hall', 1996), 13.687113840346152),\n",
       "   (('South Central', 1992), 13.536306670164212)]),\n",
       " ('A broken-down, middle-aged country singer gets a new wife, reaches out to his long-lost daughter, and tries to put his troubled life back together.',\n",
       "  'Tender Mercies',\n",
       "  'Mac Sledge (Robert Duvall), a washed up, alcoholic country singer, awakens at a run-down Texas roadside motel and gas station after a night of heavy drinking. He meets the owner, a young widow named Rosa Lee (Tess Harper), and offers to work in exchange for a room. Rosa Lee, whose husband was killed in the Vietnam War, is raising her young son, Sonny (Allan Hubbard), on her own. She agrees to let Mac stay under the condition that he does not drink while working. The two begin to develop feelings for one another, mostly during quiet evenings sitting alone and sharing bits of their life stories.\\r\\nMac resolves to give up alcohol and start his life anew. After some time passes, he and Rosa Lee wed. They start attending a Baptist church on a regular basis. One day, a newspaper reporter visits the motel and asks Mac whether he has stopped recording music and chosen an anonymous life. When Mac refuses to answer, the reporter explains he is writing a story about Mac and has interviewed his ex-wife, Dixie Scott (Betty Buckley), a country music star who is performing nearby.\\r\\nAfter the story is printed, the neighborhood learns of Mac\\'s past, and members of a local country–western band visit him to show their respect. Although he greets them politely, Mac remains reluctant to open up about his past. Later, he secretly attends Dixie\\'s concert. She passionately sings several songs that Mac wrote years earlier, and he leaves in the middle of the performance. Backstage, he talks to Dixie\\'s manager, his old friend Harry (Wilford Brimley). Mac gives him a copy of a new song he has written and asks him to show it to Dixie. Mac tries to talk to Dixie, but she becomes angry upon seeing him and warns him to stay away from their 18-year-old daughter, Sue Anne (Ellen Barkin).\\r\\nUpon his return home, Mac assures Rosa Lee he no longer has feelings for Dixie, whom he describes as \"poison\" to him. Later, Harry visits Mac to tell him, seemingly at Dixie\\'s urging, that the country music business has changed and his new song is no good. Hurt and angry, Mac drives away and nearly crashes the truck. He buys a bottle of whiskey but, upon returning home to a worried Rosa Lee and Sonny, he tells them he poured it out. He tells them he tried to leave Rosa Lee, but found he could not. Some time later, Mac and Sonny are baptized together in Rosa Lee\\'s church.\\r\\nEventually, Sue Anne visits Mac, their first encounter since she was a baby. Mac asks whether she got any of his letters, and she says her mother kept them from her. Sue Anne also reports that Dixie tried to keep her from visiting Mac and that she plans to elope with her boyfriend despite her mother\\'s objections. Mac admits he used to hit Dixie and that she divorced him after he tried to kill her in a drunken rage. Sue Anne asks whether Mac remembers a song about a dove he sang to her when she was a baby. He claims he does not, but after she leaves he sings to himself the hymn \"On the Wings of a Dove,\" which references a dove from the Lord saving Noah and descending at Jesus\\' baptism.\\r\\nBoys at school bully Sonny about his dead father, and he and Mac grow closer. The members of the local country band ask Mac permission to perform one of his songs, and he agrees. Mac begins performing with them and they make plans to record together. His newfound happiness is interrupted when Sue Anne dies in a car accident. Mac attends his daughter\\'s funeral at Dixie\\'s lavish home in Nashville and comforts her when she breaks down.\\r\\nBack home, Mac keeps quiet about his emotional pain, although he wonders aloud to Rosa Lee why his once sorry existence has been given meaning and, on the other hand, his daughter died. Throughout his mourning, Mac continues his new life with Rosa Lee and Sonny. In the final scene, Sonny finds a football Mac has left him as a gift. Mac watches the hotel from a field across the road and sings \"On the Wings of a Dove\" to himself. Sonny thanks him for the football and the two play catch together in the field.',\n",
       "  [(('Honeysuckle Rose', 1980), 18.48785344348721),\n",
       "   (('Beaches', 1988), 17.67581577086018),\n",
       "   (('The Hidden', 1987), 16.497808110452606),\n",
       "   (('Rhinestone', 1984), 15.864142305175784),\n",
       "   (('Lolita', 1997), 14.745260576574317),\n",
       "   (('Dance with Me', 1998), 14.642905346282625),\n",
       "   (('The Prince of Tides', 1991), 14.284026066590743),\n",
       "   (('A Funny Thing Happened on the Way to the Forum', 1966),\n",
       "    14.251616379566524),\n",
       "   (('Anna Karenina', 2012), 14.053285786889909),\n",
       "   (('2001: A Space Odyssey', 1968), 13.984790549369526)])]"
      ]
     },
     "execution_count": 11,
     "metadata": {},
     "output_type": "execute_result"
    }
   ],
   "source": [
    "misclassifications = show_misclassifications(10, test_queries, bm25, id_and_summary, plots)\n",
    "misclassifications"
   ]
  },
  {
   "cell_type": "markdown",
   "metadata": {
    "id": "Fv7Ppehtwm5S"
   },
   "source": [
    "All but one of the above misclassifications are correctly classified by Embed-and-Rerank. These misclassifications suggest that OkapiBM25 cannot handle synonyms in the query, while Embed-and-Rerank can."
   ]
  },
  {
   "cell_type": "code",
   "execution_count": null,
   "metadata": {
    "id": "faZsHgorw1Nf"
   },
   "outputs": [],
   "source": []
  }
 ],
 "metadata": {
  "colab": {
   "collapsed_sections": [],
   "name": "okapi_bm25.ipynb",
   "provenance": []
  },
  "kernelspec": {
   "display_name": "Python 3 (ipykernel)",
   "language": "python",
   "name": "python3"
  },
  "language_info": {
   "codemirror_mode": {
    "name": "ipython",
    "version": 3
   },
   "file_extension": ".py",
   "mimetype": "text/x-python",
   "name": "python",
   "nbconvert_exporter": "python",
   "pygments_lexer": "ipython3",
   "version": "3.10.4"
  },
  "widgets": {
   "application/vnd.jupyter.widget-state+json": {
    "189befb56e1d47eda2c724c641e58039": {
     "model_module": "@jupyter-widgets/base",
     "model_module_version": "1.2.0",
     "model_name": "LayoutModel",
     "state": {
      "_model_module": "@jupyter-widgets/base",
      "_model_module_version": "1.2.0",
      "_model_name": "LayoutModel",
      "_view_count": null,
      "_view_module": "@jupyter-widgets/base",
      "_view_module_version": "1.2.0",
      "_view_name": "LayoutView",
      "align_content": null,
      "align_items": null,
      "align_self": null,
      "border": null,
      "bottom": null,
      "display": null,
      "flex": null,
      "flex_flow": null,
      "grid_area": null,
      "grid_auto_columns": null,
      "grid_auto_flow": null,
      "grid_auto_rows": null,
      "grid_column": null,
      "grid_gap": null,
      "grid_row": null,
      "grid_template_areas": null,
      "grid_template_columns": null,
      "grid_template_rows": null,
      "height": null,
      "justify_content": null,
      "justify_items": null,
      "left": null,
      "margin": null,
      "max_height": null,
      "max_width": null,
      "min_height": null,
      "min_width": null,
      "object_fit": null,
      "object_position": null,
      "order": null,
      "overflow": null,
      "overflow_x": null,
      "overflow_y": null,
      "padding": null,
      "right": null,
      "top": null,
      "visibility": null,
      "width": "20px"
     }
    },
    "1f3602bb1b7248cd947bf1447c12080c": {
     "model_module": "@jupyter-widgets/base",
     "model_module_version": "1.2.0",
     "model_name": "LayoutModel",
     "state": {
      "_model_module": "@jupyter-widgets/base",
      "_model_module_version": "1.2.0",
      "_model_name": "LayoutModel",
      "_view_count": null,
      "_view_module": "@jupyter-widgets/base",
      "_view_module_version": "1.2.0",
      "_view_name": "LayoutView",
      "align_content": null,
      "align_items": null,
      "align_self": null,
      "border": null,
      "bottom": null,
      "display": null,
      "flex": null,
      "flex_flow": null,
      "grid_area": null,
      "grid_auto_columns": null,
      "grid_auto_flow": null,
      "grid_auto_rows": null,
      "grid_column": null,
      "grid_gap": null,
      "grid_row": null,
      "grid_template_areas": null,
      "grid_template_columns": null,
      "grid_template_rows": null,
      "height": null,
      "justify_content": null,
      "justify_items": null,
      "left": null,
      "margin": null,
      "max_height": null,
      "max_width": null,
      "min_height": null,
      "min_width": null,
      "object_fit": null,
      "object_position": null,
      "order": null,
      "overflow": null,
      "overflow_x": null,
      "overflow_y": null,
      "padding": null,
      "right": null,
      "top": null,
      "visibility": null,
      "width": null
     }
    },
    "24bae9a19a6f417fa80310b0bb5cb87b": {
     "model_module": "@jupyter-widgets/controls",
     "model_module_version": "1.5.0",
     "model_name": "HTMLModel",
     "state": {
      "_dom_classes": [],
      "_model_module": "@jupyter-widgets/controls",
      "_model_module_version": "1.5.0",
      "_model_name": "HTMLModel",
      "_view_count": null,
      "_view_module": "@jupyter-widgets/controls",
      "_view_module_version": "1.5.0",
      "_view_name": "HTMLView",
      "description": "",
      "description_tooltip": null,
      "layout": "IPY_MODEL_f5891201dd974408af6a6ae26bb1c8e2",
      "placeholder": "​",
      "style": "IPY_MODEL_35962075cfc649b68f5dd9ef5420e8b6",
      "value": " 9987/? [1:08:02&lt;00:00,  1.62it/s]"
     }
    },
    "2f31e028564749a890adff0b05f3d98e": {
     "model_module": "@jupyter-widgets/controls",
     "model_module_version": "1.5.0",
     "model_name": "HTMLModel",
     "state": {
      "_dom_classes": [],
      "_model_module": "@jupyter-widgets/controls",
      "_model_module_version": "1.5.0",
      "_model_name": "HTMLModel",
      "_view_count": null,
      "_view_module": "@jupyter-widgets/controls",
      "_view_module_version": "1.5.0",
      "_view_name": "HTMLView",
      "description": "",
      "description_tooltip": null,
      "layout": "IPY_MODEL_1f3602bb1b7248cd947bf1447c12080c",
      "placeholder": "​",
      "style": "IPY_MODEL_46253cd91c6c478b99d1a6d81683efbf",
      "value": ""
     }
    },
    "35962075cfc649b68f5dd9ef5420e8b6": {
     "model_module": "@jupyter-widgets/controls",
     "model_module_version": "1.5.0",
     "model_name": "DescriptionStyleModel",
     "state": {
      "_model_module": "@jupyter-widgets/controls",
      "_model_module_version": "1.5.0",
      "_model_name": "DescriptionStyleModel",
      "_view_count": null,
      "_view_module": "@jupyter-widgets/base",
      "_view_module_version": "1.2.0",
      "_view_name": "StyleView",
      "description_width": ""
     }
    },
    "46253cd91c6c478b99d1a6d81683efbf": {
     "model_module": "@jupyter-widgets/controls",
     "model_module_version": "1.5.0",
     "model_name": "DescriptionStyleModel",
     "state": {
      "_model_module": "@jupyter-widgets/controls",
      "_model_module_version": "1.5.0",
      "_model_name": "DescriptionStyleModel",
      "_view_count": null,
      "_view_module": "@jupyter-widgets/base",
      "_view_module_version": "1.2.0",
      "_view_name": "StyleView",
      "description_width": ""
     }
    },
    "7ccae759ce24459bbb7cb8d57f8f682f": {
     "model_module": "@jupyter-widgets/controls",
     "model_module_version": "1.5.0",
     "model_name": "ProgressStyleModel",
     "state": {
      "_model_module": "@jupyter-widgets/controls",
      "_model_module_version": "1.5.0",
      "_model_name": "ProgressStyleModel",
      "_view_count": null,
      "_view_module": "@jupyter-widgets/base",
      "_view_module_version": "1.2.0",
      "_view_name": "StyleView",
      "bar_color": null,
      "description_width": ""
     }
    },
    "81ab4e17bc574c69a3c564ef451f5d3b": {
     "model_module": "@jupyter-widgets/base",
     "model_module_version": "1.2.0",
     "model_name": "LayoutModel",
     "state": {
      "_model_module": "@jupyter-widgets/base",
      "_model_module_version": "1.2.0",
      "_model_name": "LayoutModel",
      "_view_count": null,
      "_view_module": "@jupyter-widgets/base",
      "_view_module_version": "1.2.0",
      "_view_name": "LayoutView",
      "align_content": null,
      "align_items": null,
      "align_self": null,
      "border": null,
      "bottom": null,
      "display": null,
      "flex": null,
      "flex_flow": null,
      "grid_area": null,
      "grid_auto_columns": null,
      "grid_auto_flow": null,
      "grid_auto_rows": null,
      "grid_column": null,
      "grid_gap": null,
      "grid_row": null,
      "grid_template_areas": null,
      "grid_template_columns": null,
      "grid_template_rows": null,
      "height": null,
      "justify_content": null,
      "justify_items": null,
      "left": null,
      "margin": null,
      "max_height": null,
      "max_width": null,
      "min_height": null,
      "min_width": null,
      "object_fit": null,
      "object_position": null,
      "order": null,
      "overflow": null,
      "overflow_x": null,
      "overflow_y": null,
      "padding": null,
      "right": null,
      "top": null,
      "visibility": null,
      "width": null
     }
    },
    "8963812720f04b6c88ebe7a60b25a68c": {
     "model_module": "@jupyter-widgets/controls",
     "model_module_version": "1.5.0",
     "model_name": "HBoxModel",
     "state": {
      "_dom_classes": [],
      "_model_module": "@jupyter-widgets/controls",
      "_model_module_version": "1.5.0",
      "_model_name": "HBoxModel",
      "_view_count": null,
      "_view_module": "@jupyter-widgets/controls",
      "_view_module_version": "1.5.0",
      "_view_name": "HBoxView",
      "box_style": "",
      "children": [
       "IPY_MODEL_2f31e028564749a890adff0b05f3d98e",
       "IPY_MODEL_fc03808c64d843a88ccbb2f3269632d6",
       "IPY_MODEL_24bae9a19a6f417fa80310b0bb5cb87b"
      ],
      "layout": "IPY_MODEL_81ab4e17bc574c69a3c564ef451f5d3b"
     }
    },
    "f5891201dd974408af6a6ae26bb1c8e2": {
     "model_module": "@jupyter-widgets/base",
     "model_module_version": "1.2.0",
     "model_name": "LayoutModel",
     "state": {
      "_model_module": "@jupyter-widgets/base",
      "_model_module_version": "1.2.0",
      "_model_name": "LayoutModel",
      "_view_count": null,
      "_view_module": "@jupyter-widgets/base",
      "_view_module_version": "1.2.0",
      "_view_name": "LayoutView",
      "align_content": null,
      "align_items": null,
      "align_self": null,
      "border": null,
      "bottom": null,
      "display": null,
      "flex": null,
      "flex_flow": null,
      "grid_area": null,
      "grid_auto_columns": null,
      "grid_auto_flow": null,
      "grid_auto_rows": null,
      "grid_column": null,
      "grid_gap": null,
      "grid_row": null,
      "grid_template_areas": null,
      "grid_template_columns": null,
      "grid_template_rows": null,
      "height": null,
      "justify_content": null,
      "justify_items": null,
      "left": null,
      "margin": null,
      "max_height": null,
      "max_width": null,
      "min_height": null,
      "min_width": null,
      "object_fit": null,
      "object_position": null,
      "order": null,
      "overflow": null,
      "overflow_x": null,
      "overflow_y": null,
      "padding": null,
      "right": null,
      "top": null,
      "visibility": null,
      "width": null
     }
    },
    "fc03808c64d843a88ccbb2f3269632d6": {
     "model_module": "@jupyter-widgets/controls",
     "model_module_version": "1.5.0",
     "model_name": "FloatProgressModel",
     "state": {
      "_dom_classes": [],
      "_model_module": "@jupyter-widgets/controls",
      "_model_module_version": "1.5.0",
      "_model_name": "FloatProgressModel",
      "_view_count": null,
      "_view_module": "@jupyter-widgets/controls",
      "_view_module_version": "1.5.0",
      "_view_name": "ProgressView",
      "bar_style": "success",
      "description": "",
      "description_tooltip": null,
      "layout": "IPY_MODEL_189befb56e1d47eda2c724c641e58039",
      "max": 1,
      "min": 0,
      "orientation": "horizontal",
      "style": "IPY_MODEL_7ccae759ce24459bbb7cb8d57f8f682f",
      "value": 1
     }
    }
   }
  }
 },
 "nbformat": 4,
 "nbformat_minor": 1
}
