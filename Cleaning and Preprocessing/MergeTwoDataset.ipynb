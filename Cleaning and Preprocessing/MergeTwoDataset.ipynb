{
 "cells": [
  {
   "cell_type": "markdown",
   "id": "e7313c81",
   "metadata": {},
   "source": [
    "In this notebook we will merge the movie revenue from the CMU data set to the Kaggle dataset, and use it as a way to estimate how popualr the movie is. \n",
    "The CMU dataset: http://www.cs.cmu.edu/~ark/personas/ have more information than just movie revenue, but we will be focus on movie revenue only. "
   ]
  },
  {
   "cell_type": "code",
   "execution_count": 1,
   "id": "55dd9496",
   "metadata": {},
   "outputs": [],
   "source": [
    "import pandas as pd\n",
    "import numpy as np"
   ]
  },
  {
   "cell_type": "code",
   "execution_count": 2,
   "id": "832b9746",
   "metadata": {},
   "outputs": [
    {
     "data": {
      "text/html": [
       "<div>\n",
       "<style scoped>\n",
       "    .dataframe tbody tr th:only-of-type {\n",
       "        vertical-align: middle;\n",
       "    }\n",
       "\n",
       "    .dataframe tbody tr th {\n",
       "        vertical-align: top;\n",
       "    }\n",
       "\n",
       "    .dataframe thead th {\n",
       "        text-align: right;\n",
       "    }\n",
       "</style>\n",
       "<table border=\"1\" class=\"dataframe\">\n",
       "  <thead>\n",
       "    <tr style=\"text-align: right;\">\n",
       "      <th></th>\n",
       "      <th>Title</th>\n",
       "      <th>Release Year</th>\n",
       "      <th>Revenue</th>\n",
       "    </tr>\n",
       "  </thead>\n",
       "  <tbody>\n",
       "    <tr>\n",
       "      <th>0</th>\n",
       "      <td>Ghosts of Mars</td>\n",
       "      <td>2001</td>\n",
       "      <td>14010832.0</td>\n",
       "    </tr>\n",
       "    <tr>\n",
       "      <th>7</th>\n",
       "      <td>Alexander's Ragtime Band</td>\n",
       "      <td>1938</td>\n",
       "      <td>3600000.0</td>\n",
       "    </tr>\n",
       "    <tr>\n",
       "      <th>13</th>\n",
       "      <td>Henry V</td>\n",
       "      <td>1989</td>\n",
       "      <td>10161099.0</td>\n",
       "    </tr>\n",
       "    <tr>\n",
       "      <th>17</th>\n",
       "      <td>Mary Poppins</td>\n",
       "      <td>1964</td>\n",
       "      <td>102272727.0</td>\n",
       "    </tr>\n",
       "    <tr>\n",
       "      <th>21</th>\n",
       "      <td>New Rose Hotel</td>\n",
       "      <td>1999</td>\n",
       "      <td>21521.0</td>\n",
       "    </tr>\n",
       "  </tbody>\n",
       "</table>\n",
       "</div>"
      ],
      "text/plain": [
       "                       Title  Release Year      Revenue\n",
       "0             Ghosts of Mars          2001   14010832.0\n",
       "7   Alexander's Ragtime Band          1938    3600000.0\n",
       "13                   Henry V          1989   10161099.0\n",
       "17              Mary Poppins          1964  102272727.0\n",
       "21            New Rose Hotel          1999      21521.0"
      ]
     },
     "execution_count": 2,
     "metadata": {},
     "output_type": "execute_result"
    }
   ],
   "source": [
    "cmu_data = pd.read_csv('../Data/cmu_movie_boxoffice.tsv', sep = '\\t', header = None)\n",
    "cmu_data = cmu_data.drop(columns = [0,1,5,6,7,8])\n",
    "cmu_data = cmu_data.dropna()\n",
    "cmu_data = cmu_data.rename(columns={2:\"Title\", 3:\"Release Year\", 4:\"Revenue\"})\n",
    "cmu_data[\"Release Year\"] = cmu_data[\"Release Year\"].str.replace(r'-.*','',regex = True)\n",
    "cmu_data[\"Release Year\"] = cmu_data[\"Release Year\"].astype('int64')\n",
    "cmu_data.head()"
   ]
  },
  {
   "cell_type": "code",
   "execution_count": 3,
   "id": "64e483a8",
   "metadata": {},
   "outputs": [
    {
     "data": {
      "text/plain": [
       "5161"
      ]
     },
     "execution_count": 3,
     "metadata": {},
     "output_type": "execute_result"
    }
   ],
   "source": [
    "data = pd.read_csv('../Data/wiki_movie_plots_deduped_c2.csv')\n",
    "data = data.merge(cmu_data, how = 'left', on = ['Title', 'Release Year'])\n",
    "data = data.drop(columns='Unnamed: 0')\n",
    "len(data['Revenue'].unique())"
   ]
  },
  {
   "cell_type": "code",
   "execution_count": 4,
   "id": "fd917699",
   "metadata": {},
   "outputs": [],
   "source": [
    "from pathlib import Path  \n",
    "filepath = Path('../Data/wiki_movie_plots_deduped_c2.csv')  \n",
    "filepath.parent.mkdir(parents=True, exist_ok=True)  \n",
    "data.to_csv(filepath) "
   ]
  },
  {
   "cell_type": "code",
   "execution_count": null,
   "id": "e11522f1",
   "metadata": {},
   "outputs": [],
   "source": []
  }
 ],
 "metadata": {
  "kernelspec": {
   "display_name": "Python 3 (ipykernel)",
   "language": "python",
   "name": "python3"
  },
  "language_info": {
   "codemirror_mode": {
    "name": "ipython",
    "version": 3
   },
   "file_extension": ".py",
   "mimetype": "text/x-python",
   "name": "python",
   "nbconvert_exporter": "python",
   "pygments_lexer": "ipython3",
   "version": "3.9.12"
  }
 },
 "nbformat": 4,
 "nbformat_minor": 5
}
