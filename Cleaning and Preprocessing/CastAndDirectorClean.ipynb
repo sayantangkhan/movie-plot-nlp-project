{
 "cells": [
  {
   "cell_type": "markdown",
   "id": "4b722a31",
   "metadata": {},
   "source": [
    "In this notebook we will work on cleaning the column \"Cast\" and \"Director\", and also exploring the column \"Origin/Ethnicity\". We will be starting with the data with cleaned Genres."
   ]
  },
  {
   "cell_type": "code",
   "execution_count": 1,
   "id": "314d4ae3",
   "metadata": {},
   "outputs": [],
   "source": [
    "#import packages\n",
    "import pandas as pd\n",
    "import numpy as np"
   ]
  },
  {
   "cell_type": "markdown",
   "id": "37fe4db4",
   "metadata": {},
   "source": [
    "# Let's explore the column \"Origin/Ethnicity\""
   ]
  },
  {
   "cell_type": "code",
   "execution_count": 2,
   "id": "b4465fb8",
   "metadata": {
    "scrolled": true
   },
   "outputs": [
    {
     "data": {
      "text/html": [
       "<div>\n",
       "<style scoped>\n",
       "    .dataframe tbody tr th:only-of-type {\n",
       "        vertical-align: middle;\n",
       "    }\n",
       "\n",
       "    .dataframe tbody tr th {\n",
       "        vertical-align: top;\n",
       "    }\n",
       "\n",
       "    .dataframe thead th {\n",
       "        text-align: right;\n",
       "    }\n",
       "</style>\n",
       "<table border=\"1\" class=\"dataframe\">\n",
       "  <thead>\n",
       "    <tr style=\"text-align: right;\">\n",
       "      <th></th>\n",
       "      <th>Unnamed: 0</th>\n",
       "      <th>Release Year</th>\n",
       "      <th>Title</th>\n",
       "      <th>Origin/Ethnicity</th>\n",
       "      <th>Director</th>\n",
       "      <th>Cast</th>\n",
       "      <th>Wiki Page</th>\n",
       "      <th>Plot</th>\n",
       "      <th>Genre</th>\n",
       "    </tr>\n",
       "  </thead>\n",
       "  <tbody>\n",
       "    <tr>\n",
       "      <th>0</th>\n",
       "      <td>0</td>\n",
       "      <td>1901</td>\n",
       "      <td>Kansas Saloon Smashers</td>\n",
       "      <td>American</td>\n",
       "      <td>Unknown</td>\n",
       "      <td>NaN</td>\n",
       "      <td>https://en.wikipedia.org/wiki/Kansas_Saloon_Sm...</td>\n",
       "      <td>A bartender is working at a saloon, serving dr...</td>\n",
       "      <td>set()</td>\n",
       "    </tr>\n",
       "    <tr>\n",
       "      <th>1</th>\n",
       "      <td>1</td>\n",
       "      <td>1901</td>\n",
       "      <td>Love by the Light of the Moon</td>\n",
       "      <td>American</td>\n",
       "      <td>Unknown</td>\n",
       "      <td>NaN</td>\n",
       "      <td>https://en.wikipedia.org/wiki/Love_by_the_Ligh...</td>\n",
       "      <td>The moon, painted with a smiling face hangs ov...</td>\n",
       "      <td>set()</td>\n",
       "    </tr>\n",
       "    <tr>\n",
       "      <th>2</th>\n",
       "      <td>2</td>\n",
       "      <td>1901</td>\n",
       "      <td>The Martyred Presidents</td>\n",
       "      <td>American</td>\n",
       "      <td>Unknown</td>\n",
       "      <td>NaN</td>\n",
       "      <td>https://en.wikipedia.org/wiki/The_Martyred_Pre...</td>\n",
       "      <td>The film, just over a minute long, is composed...</td>\n",
       "      <td>{'short'}</td>\n",
       "    </tr>\n",
       "    <tr>\n",
       "      <th>3</th>\n",
       "      <td>3</td>\n",
       "      <td>1901</td>\n",
       "      <td>Terrible Teddy, the Grizzly King</td>\n",
       "      <td>American</td>\n",
       "      <td>Unknown</td>\n",
       "      <td>NaN</td>\n",
       "      <td>https://en.wikipedia.org/wiki/Terrible_Teddy,_...</td>\n",
       "      <td>Lasting just 61 seconds and consisting of two ...</td>\n",
       "      <td>{'short', 'comedy', 'silent'}</td>\n",
       "    </tr>\n",
       "    <tr>\n",
       "      <th>4</th>\n",
       "      <td>4</td>\n",
       "      <td>1902</td>\n",
       "      <td>Jack and the Beanstalk</td>\n",
       "      <td>American</td>\n",
       "      <td>George S. Fleming, Edwin S. Porter</td>\n",
       "      <td>NaN</td>\n",
       "      <td>https://en.wikipedia.org/wiki/Jack_and_the_Bea...</td>\n",
       "      <td>The earliest known adaptation of the classic f...</td>\n",
       "      <td>{'short'}</td>\n",
       "    </tr>\n",
       "  </tbody>\n",
       "</table>\n",
       "</div>"
      ],
      "text/plain": [
       "   Unnamed: 0  Release Year                             Title  \\\n",
       "0           0          1901            Kansas Saloon Smashers   \n",
       "1           1          1901     Love by the Light of the Moon   \n",
       "2           2          1901           The Martyred Presidents   \n",
       "3           3          1901  Terrible Teddy, the Grizzly King   \n",
       "4           4          1902            Jack and the Beanstalk   \n",
       "\n",
       "  Origin/Ethnicity                            Director Cast  \\\n",
       "0         American                             Unknown  NaN   \n",
       "1         American                             Unknown  NaN   \n",
       "2         American                             Unknown  NaN   \n",
       "3         American                             Unknown  NaN   \n",
       "4         American  George S. Fleming, Edwin S. Porter  NaN   \n",
       "\n",
       "                                           Wiki Page  \\\n",
       "0  https://en.wikipedia.org/wiki/Kansas_Saloon_Sm...   \n",
       "1  https://en.wikipedia.org/wiki/Love_by_the_Ligh...   \n",
       "2  https://en.wikipedia.org/wiki/The_Martyred_Pre...   \n",
       "3  https://en.wikipedia.org/wiki/Terrible_Teddy,_...   \n",
       "4  https://en.wikipedia.org/wiki/Jack_and_the_Bea...   \n",
       "\n",
       "                                                Plot  \\\n",
       "0  A bartender is working at a saloon, serving dr...   \n",
       "1  The moon, painted with a smiling face hangs ov...   \n",
       "2  The film, just over a minute long, is composed...   \n",
       "3  Lasting just 61 seconds and consisting of two ...   \n",
       "4  The earliest known adaptation of the classic f...   \n",
       "\n",
       "                           Genre  \n",
       "0                          set()  \n",
       "1                          set()  \n",
       "2                      {'short'}  \n",
       "3  {'short', 'comedy', 'silent'}  \n",
       "4                      {'short'}  "
      ]
     },
     "execution_count": 2,
     "metadata": {},
     "output_type": "execute_result"
    }
   ],
   "source": [
    "#read data\n",
    "data = pd.read_csv('../Data/wiki_plots_with_genres.csv')\n",
    "data.head()"
   ]
  },
  {
   "cell_type": "code",
   "execution_count": 3,
   "id": "ada5226e",
   "metadata": {
    "scrolled": true
   },
   "outputs": [
    {
     "data": {
      "text/plain": [
       "Index(['Release Year', 'Title', 'Origin/Ethnicity', 'Director', 'Cast',\n",
       "       'Wiki Page', 'Plot', 'Genre'],\n",
       "      dtype='object')"
      ]
     },
     "execution_count": 3,
     "metadata": {},
     "output_type": "execute_result"
    }
   ],
   "source": [
    "#get columns of data\n",
    "data = data.drop(columns = ['Unnamed: 0'])\n",
    "data.columns"
   ]
  },
  {
   "cell_type": "code",
   "execution_count": 4,
   "id": "6c7757e9",
   "metadata": {},
   "outputs": [],
   "source": [
    "data = data.rename(columns= {'Origin/Ethnicity':'Origin'})"
   ]
  },
  {
   "cell_type": "code",
   "execution_count": 5,
   "id": "e5f6cccb",
   "metadata": {},
   "outputs": [
    {
     "data": {
      "text/html": [
       "<div>\n",
       "<style scoped>\n",
       "    .dataframe tbody tr th:only-of-type {\n",
       "        vertical-align: middle;\n",
       "    }\n",
       "\n",
       "    .dataframe tbody tr th {\n",
       "        vertical-align: top;\n",
       "    }\n",
       "\n",
       "    .dataframe thead th {\n",
       "        text-align: right;\n",
       "    }\n",
       "</style>\n",
       "<table border=\"1\" class=\"dataframe\">\n",
       "  <thead>\n",
       "    <tr style=\"text-align: right;\">\n",
       "      <th></th>\n",
       "      <th>Release Year</th>\n",
       "      <th>Title</th>\n",
       "      <th>Origin</th>\n",
       "      <th>Director</th>\n",
       "      <th>Cast</th>\n",
       "      <th>Wiki Page</th>\n",
       "      <th>Plot</th>\n",
       "      <th>Genre</th>\n",
       "    </tr>\n",
       "  </thead>\n",
       "  <tbody>\n",
       "    <tr>\n",
       "      <th>0</th>\n",
       "      <td>1901</td>\n",
       "      <td>Kansas Saloon Smashers</td>\n",
       "      <td>American</td>\n",
       "      <td>Unknown</td>\n",
       "      <td>NaN</td>\n",
       "      <td>https://en.wikipedia.org/wiki/Kansas_Saloon_Sm...</td>\n",
       "      <td>A bartender is working at a saloon, serving dr...</td>\n",
       "      <td>set()</td>\n",
       "    </tr>\n",
       "    <tr>\n",
       "      <th>1</th>\n",
       "      <td>1901</td>\n",
       "      <td>Love by the Light of the Moon</td>\n",
       "      <td>American</td>\n",
       "      <td>Unknown</td>\n",
       "      <td>NaN</td>\n",
       "      <td>https://en.wikipedia.org/wiki/Love_by_the_Ligh...</td>\n",
       "      <td>The moon, painted with a smiling face hangs ov...</td>\n",
       "      <td>set()</td>\n",
       "    </tr>\n",
       "    <tr>\n",
       "      <th>2</th>\n",
       "      <td>1901</td>\n",
       "      <td>The Martyred Presidents</td>\n",
       "      <td>American</td>\n",
       "      <td>Unknown</td>\n",
       "      <td>NaN</td>\n",
       "      <td>https://en.wikipedia.org/wiki/The_Martyred_Pre...</td>\n",
       "      <td>The film, just over a minute long, is composed...</td>\n",
       "      <td>{'short'}</td>\n",
       "    </tr>\n",
       "    <tr>\n",
       "      <th>3</th>\n",
       "      <td>1901</td>\n",
       "      <td>Terrible Teddy, the Grizzly King</td>\n",
       "      <td>American</td>\n",
       "      <td>Unknown</td>\n",
       "      <td>NaN</td>\n",
       "      <td>https://en.wikipedia.org/wiki/Terrible_Teddy,_...</td>\n",
       "      <td>Lasting just 61 seconds and consisting of two ...</td>\n",
       "      <td>{'short', 'comedy', 'silent'}</td>\n",
       "    </tr>\n",
       "    <tr>\n",
       "      <th>4</th>\n",
       "      <td>1902</td>\n",
       "      <td>Jack and the Beanstalk</td>\n",
       "      <td>American</td>\n",
       "      <td>George S. Fleming, Edwin S. Porter</td>\n",
       "      <td>NaN</td>\n",
       "      <td>https://en.wikipedia.org/wiki/Jack_and_the_Bea...</td>\n",
       "      <td>The earliest known adaptation of the classic f...</td>\n",
       "      <td>{'short'}</td>\n",
       "    </tr>\n",
       "  </tbody>\n",
       "</table>\n",
       "</div>"
      ],
      "text/plain": [
       "   Release Year                             Title    Origin  \\\n",
       "0          1901            Kansas Saloon Smashers  American   \n",
       "1          1901     Love by the Light of the Moon  American   \n",
       "2          1901           The Martyred Presidents  American   \n",
       "3          1901  Terrible Teddy, the Grizzly King  American   \n",
       "4          1902            Jack and the Beanstalk  American   \n",
       "\n",
       "                             Director Cast  \\\n",
       "0                             Unknown  NaN   \n",
       "1                             Unknown  NaN   \n",
       "2                             Unknown  NaN   \n",
       "3                             Unknown  NaN   \n",
       "4  George S. Fleming, Edwin S. Porter  NaN   \n",
       "\n",
       "                                           Wiki Page  \\\n",
       "0  https://en.wikipedia.org/wiki/Kansas_Saloon_Sm...   \n",
       "1  https://en.wikipedia.org/wiki/Love_by_the_Ligh...   \n",
       "2  https://en.wikipedia.org/wiki/The_Martyred_Pre...   \n",
       "3  https://en.wikipedia.org/wiki/Terrible_Teddy,_...   \n",
       "4  https://en.wikipedia.org/wiki/Jack_and_the_Bea...   \n",
       "\n",
       "                                                Plot  \\\n",
       "0  A bartender is working at a saloon, serving dr...   \n",
       "1  The moon, painted with a smiling face hangs ov...   \n",
       "2  The film, just over a minute long, is composed...   \n",
       "3  Lasting just 61 seconds and consisting of two ...   \n",
       "4  The earliest known adaptation of the classic f...   \n",
       "\n",
       "                           Genre  \n",
       "0                          set()  \n",
       "1                          set()  \n",
       "2                      {'short'}  \n",
       "3  {'short', 'comedy', 'silent'}  \n",
       "4                      {'short'}  "
      ]
     },
     "execution_count": 5,
     "metadata": {},
     "output_type": "execute_result"
    }
   ],
   "source": [
    "data.head()"
   ]
  },
  {
   "cell_type": "markdown",
   "id": "aed9970b",
   "metadata": {},
   "source": [
    "Let's first look at the \"Origin\" column."
   ]
  },
  {
   "cell_type": "code",
   "execution_count": 6,
   "id": "79a4ed0a",
   "metadata": {},
   "outputs": [
    {
     "data": {
      "text/plain": [
       "array(['American', 'Australian', 'Bangladeshi', 'British', 'Canadian',\n",
       "       'Chinese', 'Egyptian', 'Hong Kong', 'Filipino', 'Assamese',\n",
       "       'Bengali', 'Bollywood', 'Kannada', 'Malayalam', 'Marathi',\n",
       "       'Punjabi', 'Tamil', 'Telugu', 'Japanese', 'Malaysian', 'Maldivian',\n",
       "       'Russian', 'South_Korean', 'Turkish'], dtype=object)"
      ]
     },
     "execution_count": 6,
     "metadata": {},
     "output_type": "execute_result"
    }
   ],
   "source": [
    "data.Origin.unique()"
   ]
  },
  {
   "cell_type": "code",
   "execution_count": 7,
   "id": "68f3318d",
   "metadata": {},
   "outputs": [
    {
     "data": {
      "text/plain": [
       "24"
      ]
     },
     "execution_count": 7,
     "metadata": {},
     "output_type": "execute_result"
    }
   ],
   "source": [
    "len(list(data.Origin.unique()))"
   ]
  },
  {
   "cell_type": "markdown",
   "id": "d0549bd0",
   "metadata": {},
   "source": [
    "Movies in this data set comes from 24 different counties/ regions."
   ]
  },
  {
   "cell_type": "code",
   "execution_count": 8,
   "id": "e021bd4a",
   "metadata": {},
   "outputs": [
    {
     "data": {
      "text/plain": [
       "count        33977\n",
       "unique          24\n",
       "top       American\n",
       "freq         17272\n",
       "Name: Origin, dtype: object"
      ]
     },
     "execution_count": 8,
     "metadata": {},
     "output_type": "execute_result"
    }
   ],
   "source": [
    "data.Origin.describe() "
   ]
  },
  {
   "cell_type": "markdown",
   "id": "e78b8c29",
   "metadata": {},
   "source": [
    "There seems to be no missing values for \"Origin\".  "
   ]
  },
  {
   "cell_type": "code",
   "execution_count": 9,
   "id": "3618e3cb",
   "metadata": {},
   "outputs": [
    {
     "data": {
      "text/plain": [
       "American        17272\n",
       "British          3479\n",
       "Bollywood        2845\n",
       "Tamil            2522\n",
       "Telugu           1118\n",
       "Japanese         1116\n",
       "Malayalam        1061\n",
       "Hong Kong         751\n",
       "Canadian          690\n",
       "Australian        556\n",
       "South_Korean      516\n",
       "Chinese           452\n",
       "Kannada           423\n",
       "Bengali           301\n",
       "Russian           229\n",
       "Marathi           139\n",
       "Filipino          124\n",
       "Bangladeshi        87\n",
       "Punjabi            81\n",
       "Turkish            69\n",
       "Malaysian          68\n",
       "Egyptian           67\n",
       "Assamese            9\n",
       "Maldivian           2\n",
       "Name: Origin, dtype: int64"
      ]
     },
     "execution_count": 9,
     "metadata": {},
     "output_type": "execute_result"
    }
   ],
   "source": [
    "data.Origin.value_counts()"
   ]
  },
  {
   "cell_type": "markdown",
   "id": "5bc95009",
   "metadata": {},
   "source": [
    "Around 50% of the movies in this data set are from America.  "
   ]
  },
  {
   "cell_type": "markdown",
   "id": "7258a902",
   "metadata": {},
   "source": [
    "# Let's clear the data for column \"Director\" and \"Cast\"."
   ]
  },
  {
   "cell_type": "markdown",
   "id": "8c870582",
   "metadata": {},
   "source": [
    "Starting by cleaning the formate of these two column. "
   ]
  },
  {
   "cell_type": "markdown",
   "id": "09442bcc",
   "metadata": {},
   "source": [
    "There a a few different formats in the director column: some said : \"Director: name of director\" ; \" name1 and name2\", \"name1 & name2\", name1/name2\" etc.  The following few blocks of code printed these formates form the data set. "
   ]
  },
  {
   "cell_type": "code",
   "execution_count": 10,
   "id": "bb85a47e",
   "metadata": {},
   "outputs": [
    {
     "name": "stdout",
     "output_type": "stream",
     "text": [
      "Director: Obi Emelonye\n"
     ]
    }
   ],
   "source": [
    "for text in data['Director']:\n",
    "    if isinstance(text, str) and \":\" in text:\n",
    "        print(text)\n",
    "        break"
   ]
  },
  {
   "cell_type": "code",
   "execution_count": 11,
   "id": "4d2b016a",
   "metadata": {},
   "outputs": [
    {
     "name": "stdout",
     "output_type": "stream",
     "text": [
      "Wallace McCutcheon and Edwin S. Porter\n"
     ]
    }
   ],
   "source": [
    "for text in data['Director']:\n",
    "    if isinstance(text, str) and \" and \" in text:\n",
    "        print(text)\n",
    "        break"
   ]
  },
  {
   "cell_type": "code",
   "execution_count": 12,
   "id": "39b17ea9",
   "metadata": {},
   "outputs": [
    {
     "name": "stdout",
     "output_type": "stream",
     "text": [
      "Victor Fleming & Theodore Reed\n"
     ]
    }
   ],
   "source": [
    "for text in data['Director']:\n",
    "    if isinstance(text, str) and \"&\" in text:\n",
    "        print(text)\n",
    "        break"
   ]
  },
  {
   "cell_type": "code",
   "execution_count": 13,
   "id": "6edeac65",
   "metadata": {},
   "outputs": [
    {
     "name": "stdout",
     "output_type": "stream",
     "text": [
      "Rocky Morton/Annabel Jankel\n"
     ]
    }
   ],
   "source": [
    "for text in data['Director']:\n",
    "    if isinstance(text, str) and \"/\" in text:\n",
    "        print(text)\n",
    "        break"
   ]
  },
  {
   "cell_type": "markdown",
   "id": "fcfb2756",
   "metadata": {},
   "source": [
    "The ones with \"(...)\" and \"[ ... ]\" are very messy and there are various of formats. Among them, three records with \"(\" are not closed with \")\", both of them are in format: \"(director\"/ \"(Director\"."
   ]
  },
  {
   "cell_type": "code",
   "execution_count": 14,
   "id": "c215ad78",
   "metadata": {},
   "outputs": [
    {
     "name": "stdout",
     "output_type": "stream",
     "text": [
      "Ernst Lubitsch[19]\n",
      "Farah Khan[3]\n",
      "\r\n",
      "\n",
      "Otis Turner (unconfirmed)\n",
      "W. S. Van Dyke (Best Director nominee)\n",
      "Walter Lantz (producer)\n",
      "Joseph Pevney (as Joe Pevney)\n",
      "Kevin Yagher (as \"Alan Smithee\")\n",
      "\"Alan Smithee\" (Alex Cox)\n",
      "Jorge Blanco (fr)\n",
      "John Lasseter, Brad Lewis (co-director)\n",
      "Mark Andrews, Brenda Chapman, Steve Purcell (co-director)\n",
      "Peter Ramsey, William Joyce (co-director)\n",
      "Christian Ditter (de)\n",
      "James Kelly (Andrea Bianchi)\n",
      "Richard Claus (de)\n",
      "Jeong Chang-hwa (Cheng Chang-ho)\n",
      "Danny Cheng Wan-Cheung ('Scud')\n",
      "Prakash, B.R. Chopra (uncredited)\n",
      "Henrik Ibsen (story); K. P. Kumaran (script)\n",
      "Sukumar (Bandreddi)\n",
      "Cheran (director)\n",
      "Manmohan Singh (director)\n",
      "Venus Pictures (old)\n",
      "Murugadasa (A. Muthuswami Iyer)\n",
      "Acharya (T. G. Raghavanchari)\n",
      "Hisashi Saitō (Chief director), Tetsuya Yanagisawa\n",
      "Kimo Stamboel, Timo Tjahjanto (as the Mo Brothers)\n",
      "Shigeharu Takahashi (ja), Shinji Ushiro (ja)\n",
      "Yoshishige Miyake (ja)\n",
      "John H. Lee (Lee Jae-han)\n",
      "Chang (Yoon Hong-seung)\n",
      "Beak Woon-hak (or Baek Woon-hak)\n",
      "Baik (Baek Jong-yul)\n",
      "Jason Kim (Kim Ju-hwan)\n",
      "\r\n",
      "\n",
      "Sofia Coppola (director\n",
      "Onat Diaz (Director\n",
      "Chris Martinez (Director\n"
     ]
    }
   ],
   "source": [
    "for text in data['Director']:\n",
    "    if isinstance(text, str) and \"[\" in text:\n",
    "        print(text)\n",
    "print(\"\\r\\n\")\n",
    "for text in data['Director']:\n",
    "    if isinstance(text, str) and \"(\" in text and \")\" in text:\n",
    "        print(text)\n",
    "print(\"\\r\\n\")\n",
    "for text in data['Director']:\n",
    "    if isinstance(text, str) and \"(\" in text and \")\" not in text:\n",
    "        print(text)"
   ]
  },
  {
   "cell_type": "markdown",
   "id": "6005c621",
   "metadata": {},
   "source": [
    "Let's clean the ones with \"[]\" first. These seems to be citations, and can be delete directly. Then the ones with unclosed \"(\", then the ones with \"(co-directors)\", \"(unconfirmed)\", \"(Best Director nominee)\", \"(de)\", \"(uncredited)\", \"(old)\" ,\"(Chief director)\" , \"(fr)\", \"(ja)\",\"(script)\", \"(story)\", \"(producer)\""
   ]
  },
  {
   "cell_type": "code",
   "execution_count": 15,
   "id": "d52bd74a",
   "metadata": {},
   "outputs": [],
   "source": [
    "data['Director']= data['Director'].str.replace(r'\\[.*\\]','', regex = True)\n",
    "data['Director']= data['Director'].str.replace('(director','',regex = False)\n",
    "data['Director']= data['Director'].str.replace('(Director','',regex = False)\n",
    "data['Director']= data['Director'].str.replace('(Chief director)','',regex = False)\n",
    "data['Director']= data['Director'].str.replace('(co-director)','',regex = False)\n",
    "data['Director']= data['Director'].str.replace('(co-directors)','',regex = False)\n",
    "data['Director']= data['Director'].str.replace('(unconfirmed)','',regex = False)\n",
    "data['Director']= data['Director'].str.replace('(Best Director nominee)','',regex = False)\n",
    "data['Director']= data['Director'].str.replace('(de)','',regex = False)\n",
    "data['Director']= data['Director'].str.replace('(uncredited)','',regex = False)\n",
    "data['Director']= data['Director'].str.replace('(old)','',regex = False)\n",
    "data['Director']= data['Director'].str.replace('(fr)','',regex = False)\n",
    "data['Director']= data['Director'].str.replace('(ja)','',regex = False)\n",
    "data['Director']= data['Director'].str.replace('(script)','',regex = False)\n",
    "data['Director']= data['Director'].str.replace('(story)','',regex = False)\n",
    "data['Director']= data['Director'].str.replace('(producer)','',regex = False)"
   ]
  },
  {
   "cell_type": "markdown",
   "id": "8c321bb5",
   "metadata": {},
   "source": [
    "The rest seems to be different names of the same director. Here I think we can include them into the director column. "
   ]
  },
  {
   "cell_type": "code",
   "execution_count": 16,
   "id": "1596e311",
   "metadata": {},
   "outputs": [],
   "source": [
    "data['Director']= data['Director'].str.replace(')','',regex = False)\n",
    "data['Director']= data['Director'].str.replace('(as',',',regex = False)\n",
    "data['Director']= data['Director'].str.replace('(or',',',regex = False)\n",
    "data['Director']= data['Director'].str.replace('(',',',regex = False)"
   ]
  },
  {
   "cell_type": "markdown",
   "id": "71691f2c",
   "metadata": {},
   "source": [
    "Now we can regularize the format of the rest."
   ]
  },
  {
   "cell_type": "code",
   "execution_count": 17,
   "id": "bc4cef9b",
   "metadata": {},
   "outputs": [],
   "source": [
    "# regularize the format of Director and seperate names using ',' \n",
    "data['Director'] = data['Director'].str.replace(' and ',' , ')\n",
    "data['Director'] = data['Director'].str.replace('/',' , ')\n",
    "data['Director'] = data['Director'].str.replace('&',',')\n",
    "data['Director'] = data['Director'].str.replace('Director:','')\n",
    "data['Director'] = data['Director'].str.replace('Directors:','')"
   ]
  },
  {
   "cell_type": "markdown",
   "id": "c4f257ef",
   "metadata": {},
   "source": [
    "Note that there is a special case in row 29326, which gives the author of the lyrics. We would like to clean this part as well. "
   ]
  },
  {
   "cell_type": "code",
   "execution_count": 18,
   "id": "355036d0",
   "metadata": {},
   "outputs": [
    {
     "data": {
      "text/plain": [
       "'B. Vittalacharya Dialogues , lyrics:Puratchidasan'"
      ]
     },
     "execution_count": 18,
     "metadata": {},
     "output_type": "execute_result"
    }
   ],
   "source": [
    "data.loc[28748,'Director']"
   ]
  },
  {
   "cell_type": "code",
   "execution_count": 19,
   "id": "96b93015",
   "metadata": {},
   "outputs": [
    {
     "data": {
      "text/plain": [
       "'B. Vittalacharya Dialogues'"
      ]
     },
     "execution_count": 19,
     "metadata": {},
     "output_type": "execute_result"
    }
   ],
   "source": [
    "data.at[28748, 'Director'] = 'B. Vittalacharya Dialogues'\n",
    "data.loc[28748,'Director']"
   ]
  },
  {
   "cell_type": "code",
   "execution_count": 20,
   "id": "c8025e90",
   "metadata": {},
   "outputs": [
    {
     "data": {
      "text/plain": [
       "count       33977\n",
       "unique      12299\n",
       "top       Unknown\n",
       "freq         1055\n",
       "Name: Director, dtype: object"
      ]
     },
     "execution_count": 20,
     "metadata": {},
     "output_type": "execute_result"
    }
   ],
   "source": [
    "data.Director.describe()"
   ]
  },
  {
   "cell_type": "code",
   "execution_count": 21,
   "id": "4fda4837",
   "metadata": {},
   "outputs": [
    {
     "data": {
      "text/plain": [
       "Unknown                        1055\n",
       "Michael Curtiz                   79\n",
       "Hanna-Barbera                    77\n",
       "Lloyd Bacon                      65\n",
       "Jules White                      62\n",
       "                               ... \n",
       "John Warrington                   1\n",
       "Peter Cotes                       1\n",
       "Zoltan Korda, Terence Young       1\n",
       "John Dickson                      1\n",
       "Ferzan Özpetek                    1\n",
       "Name: Director, Length: 12299, dtype: int64"
      ]
     },
     "execution_count": 21,
     "metadata": {},
     "output_type": "execute_result"
    }
   ],
   "source": [
    "data.Director.value_counts()"
   ]
  },
  {
   "cell_type": "markdown",
   "id": "253a3720",
   "metadata": {},
   "source": [
    "At fist it seems that there are no missing values for director, yet there are 1124 of the movies have \"Unknown\" as director. Let's mark \"Unknown\" as missing. "
   ]
  },
  {
   "cell_type": "code",
   "execution_count": 22,
   "id": "dec2bb78",
   "metadata": {},
   "outputs": [],
   "source": [
    "data['Director'].mask(data['Director']=='Unknown', inplace = True)\n",
    "data['Director'].mask(data['Director']=='unknown', inplace = True)"
   ]
  },
  {
   "cell_type": "code",
   "execution_count": 23,
   "id": "7bd73619",
   "metadata": {},
   "outputs": [
    {
     "data": {
      "text/plain": [
       "Michael Curtiz                 79\n",
       "Hanna-Barbera                  77\n",
       "Lloyd Bacon                    65\n",
       "Jules White                    62\n",
       "John Ford                      59\n",
       "                               ..\n",
       "John Warrington                 1\n",
       "Peter Cotes                     1\n",
       "Zoltan Korda, Terence Young     1\n",
       "John Dickson                    1\n",
       "Ferzan Özpetek                  1\n",
       "Name: Director, Length: 12298, dtype: int64"
      ]
     },
     "execution_count": 23,
     "metadata": {},
     "output_type": "execute_result"
    }
   ],
   "source": [
    "data.Director.value_counts()"
   ]
  },
  {
   "cell_type": "markdown",
   "id": "35190578",
   "metadata": {},
   "source": [
    "Now let's work on the \"Cast\" column. Similar formatting issue exist for this column."
   ]
  },
  {
   "cell_type": "markdown",
   "id": "f2895162",
   "metadata": {},
   "source": [
    "Most of the ones with \"[...]\" can be removed directly. except one: \"[Haruma Miura]\""
   ]
  },
  {
   "cell_type": "code",
   "execution_count": 24,
   "id": "4918a12b",
   "metadata": {},
   "outputs": [
    {
     "data": {
      "text/plain": [
       "'[Haruma Miura]'"
      ]
     },
     "execution_count": 24,
     "metadata": {},
     "output_type": "execute_result"
    }
   ],
   "source": [
    "data.loc[32644,'Cast']"
   ]
  },
  {
   "cell_type": "code",
   "execution_count": 25,
   "id": "db7c28e2",
   "metadata": {},
   "outputs": [
    {
     "data": {
      "text/plain": [
       "'Haruma Miura'"
      ]
     },
     "execution_count": 25,
     "metadata": {},
     "output_type": "execute_result"
    }
   ],
   "source": [
    "data.at[32644,'Cast'] = \"Haruma Miura\"\n",
    "data.loc[32644,'Cast']"
   ]
  },
  {
   "cell_type": "code",
   "execution_count": 26,
   "id": "b4ee6199",
   "metadata": {},
   "outputs": [],
   "source": [
    "data['Cast']= data['Cast'].str.replace(r'\\[.*\\]','', regex = True)"
   ]
  },
  {
   "cell_type": "markdown",
   "id": "3ad395f6",
   "metadata": {},
   "source": [
    "May of them included people that are not cast in this column, and used \";\" to seperate the jobs. It seems that the last group of names are cast. With a few expections that we fix in the next few rows. "
   ]
  },
  {
   "cell_type": "code",
   "execution_count": 27,
   "id": "da723156",
   "metadata": {},
   "outputs": [
    {
     "data": {
      "text/plain": [
       "\"Jack Nicholson, Meryl Streep, Tom Waits, Fred Gwynne; Michael O'Keefe, Carroll Baker\""
      ]
     },
     "execution_count": 27,
     "metadata": {},
     "output_type": "execute_result"
    }
   ],
   "source": [
    "data.loc[10691,'Cast']"
   ]
  },
  {
   "cell_type": "code",
   "execution_count": 28,
   "id": "0a04f64d",
   "metadata": {},
   "outputs": [
    {
     "data": {
      "text/plain": [
       "\"Jack Nicholson, Meryl Streep, Tom Waits, Fred Gwynne, Michael O'Keefe, Carroll Baker\""
      ]
     },
     "execution_count": 28,
     "metadata": {},
     "output_type": "execute_result"
    }
   ],
   "source": [
    "data.at[10691,'Cast'] = \"Jack Nicholson, Meryl Streep, Tom Waits, Fred Gwynne, Michael O'Keefe, Carroll Baker\"\n",
    "data.loc[10691,'Cast']"
   ]
  },
  {
   "cell_type": "code",
   "execution_count": 29,
   "id": "5c1effe3",
   "metadata": {},
   "outputs": [
    {
     "data": {
      "text/plain": [
       "'After a vicious attack leaves him brain-damaged and broke; Mark Hogancamp seeks recovery in \"Marwencol\" a 1/6th scale World War II-era town he creates in his backyard.'"
      ]
     },
     "execution_count": 29,
     "metadata": {},
     "output_type": "execute_result"
    }
   ],
   "source": [
    "data.loc[15803 ,'Cast']"
   ]
  },
  {
   "cell_type": "code",
   "execution_count": 30,
   "id": "c140f879",
   "metadata": {},
   "outputs": [
    {
     "data": {
      "text/plain": [
       "'unknown'"
      ]
     },
     "execution_count": 30,
     "metadata": {},
     "output_type": "execute_result"
    }
   ],
   "source": [
    "data.at[15803 ,'Cast'] = 'unknown'\n",
    "data.loc[15803 ,'Cast']"
   ]
  },
  {
   "cell_type": "code",
   "execution_count": 31,
   "id": "8daaef80",
   "metadata": {},
   "outputs": [
    {
     "data": {
      "text/plain": [
       "'Nadia Litz; narrated by Maurice Dean Wint'"
      ]
     },
     "execution_count": 31,
     "metadata": {},
     "output_type": "execute_result"
    }
   ],
   "source": [
    "data.loc[21703, 'Cast']"
   ]
  },
  {
   "cell_type": "code",
   "execution_count": 32,
   "id": "e1921de8",
   "metadata": {},
   "outputs": [
    {
     "data": {
      "text/plain": [
       "'Nadia Litz'"
      ]
     },
     "execution_count": 32,
     "metadata": {},
     "output_type": "execute_result"
    }
   ],
   "source": [
    "data.at[21703, 'Cast'] = 'Nadia Litz'\n",
    "data.loc[21703, 'Cast']"
   ]
  },
  {
   "cell_type": "code",
   "execution_count": 33,
   "id": "b73d0412",
   "metadata": {},
   "outputs": [
    {
     "data": {
      "text/plain": [
       "'voices Tara Strong, Ashleigh Ball; Andrea Libman'"
      ]
     },
     "execution_count": 33,
     "metadata": {},
     "output_type": "execute_result"
    }
   ],
   "source": [
    "data.loc[22014,'Cast']"
   ]
  },
  {
   "cell_type": "code",
   "execution_count": 34,
   "id": "42c4cf55",
   "metadata": {},
   "outputs": [
    {
     "data": {
      "text/plain": [
       "'Andrea Libman'"
      ]
     },
     "execution_count": 34,
     "metadata": {},
     "output_type": "execute_result"
    }
   ],
   "source": [
    "data.at[22014,'Cast'] = 'Andrea Libman'\n",
    "data.loc[22014,'Cast']"
   ]
  },
  {
   "cell_type": "markdown",
   "id": "30b982b8",
   "metadata": {},
   "source": [
    "Now try to remove the text before the last \";\" and the ones with \"(...)\"."
   ]
  },
  {
   "cell_type": "code",
   "execution_count": 35,
   "id": "9522c75d",
   "metadata": {},
   "outputs": [],
   "source": [
    "data['Cast']= data['Cast'].str.replace(r'(?s)^.*;','', regex = True)"
   ]
  },
  {
   "cell_type": "code",
   "execution_count": 36,
   "id": "127006b8",
   "metadata": {},
   "outputs": [],
   "source": [
    "data['Cast']= data['Cast'].str.replace(r'\\(.*\\)','', regex = True)"
   ]
  },
  {
   "cell_type": "code",
   "execution_count": 37,
   "id": "8f49c117",
   "metadata": {},
   "outputs": [
    {
     "data": {
      "text/plain": [
       "\"Kangta, BoA, TVXQ, Super Junior, Girls' Generation, Shinee, f\""
      ]
     },
     "execution_count": 37,
     "metadata": {},
     "output_type": "execute_result"
    }
   ],
   "source": [
    "data.loc[33648,'Cast']"
   ]
  },
  {
   "cell_type": "code",
   "execution_count": 38,
   "id": "4241fed2",
   "metadata": {},
   "outputs": [
    {
     "data": {
      "text/plain": [
       "\"Kangta, BoA, TVXQ, Super Junior, Girls' Generation, Shinee, f(x)\""
      ]
     },
     "execution_count": 38,
     "metadata": {},
     "output_type": "execute_result"
    }
   ],
   "source": [
    "data.at[33648,'Cast'] = \"Kangta, BoA, TVXQ, Super Junior, Girls' Generation, Shinee, f(x)\"\n",
    "data.loc[33648,'Cast']"
   ]
  },
  {
   "cell_type": "code",
   "execution_count": 39,
   "id": "ad4dc60b",
   "metadata": {},
   "outputs": [
    {
     "name": "stdout",
     "output_type": "stream",
     "text": [
      "Director: Simon Horrocks;\n",
      "Director: Iain Forsyth, Jane Pollard;\n"
     ]
    }
   ],
   "source": [
    "for text in data['Cast']:\n",
    "    if isinstance(text, str) and \":\" in text:\n",
    "        if \"Cast\" not in text and \"\\r\\n\" not in text :\n",
    "            print(text + \";\")"
   ]
  },
  {
   "cell_type": "code",
   "execution_count": 40,
   "id": "58226927",
   "metadata": {},
   "outputs": [
    {
     "data": {
      "text/plain": [
       "'Director: Simon Horrocks'"
      ]
     },
     "execution_count": 40,
     "metadata": {},
     "output_type": "execute_result"
    }
   ],
   "source": [
    "data.loc[20975,'Cast']"
   ]
  },
  {
   "cell_type": "code",
   "execution_count": 41,
   "id": "2466298a",
   "metadata": {},
   "outputs": [
    {
     "data": {
      "text/plain": [
       "'unknown'"
      ]
     },
     "execution_count": 41,
     "metadata": {},
     "output_type": "execute_result"
    }
   ],
   "source": [
    "data.at[20975,'Cast'] = \"unknown\"\n",
    "data.loc[20975,'Cast']"
   ]
  },
  {
   "cell_type": "code",
   "execution_count": 42,
   "id": "ba2e4113",
   "metadata": {},
   "outputs": [
    {
     "data": {
      "text/plain": [
       "'Director: Iain Forsyth, Jane Pollard'"
      ]
     },
     "execution_count": 42,
     "metadata": {},
     "output_type": "execute_result"
    }
   ],
   "source": [
    "data.loc[21176,'Cast']"
   ]
  },
  {
   "cell_type": "code",
   "execution_count": 43,
   "id": "d53e1553",
   "metadata": {},
   "outputs": [
    {
     "data": {
      "text/plain": [
       "'unknown'"
      ]
     },
     "execution_count": 43,
     "metadata": {},
     "output_type": "execute_result"
    }
   ],
   "source": [
    "data.at[21176,'Cast'] = 'unknown'\n",
    "data.loc[21176,'Cast']"
   ]
  },
  {
   "cell_type": "code",
   "execution_count": 44,
   "id": "83cc9fb6",
   "metadata": {},
   "outputs": [],
   "source": [
    "data['Cast'] = data['Cast'].str.replace(r'Director:.*\\n',\"\",regex = True)\n",
    "data['Cast'] = data['Cast'].str.replace(r'Directors:.*\\n',\"\",regex = True)\n",
    "data['Cast'] = data['Cast'].str.replace('Cast:',\"\",regex = False)\n",
    "data['Cast'] = data['Cast'].str.replace('\\r\\n',\",\",regex = False)\n",
    "data['Cast'] = data['Cast'].str.replace(',,',\",\",regex = False)\n",
    "data['Cast'] = data['Cast'].str.replace(' and ',',')\n",
    "data['Cast'] = data['Cast'].str.replace('&',',')\n",
    "data['Cast'] = data['Cast'].str.replace('/',',')\n",
    "data['Cast'] = data['Cast'].str.replace('\\r\\n',',')"
   ]
  },
  {
   "cell_type": "code",
   "execution_count": 45,
   "id": "9e48c578",
   "metadata": {},
   "outputs": [
    {
     "data": {
      "text/plain": [
       "count         32634\n",
       "unique        31464\n",
       "top       Tom,Jerry\n",
       "freq             80\n",
       "Name: Cast, dtype: object"
      ]
     },
     "execution_count": 45,
     "metadata": {},
     "output_type": "execute_result"
    }
   ],
   "source": [
    "data.Cast.describe()"
   ]
  },
  {
   "cell_type": "code",
   "execution_count": 46,
   "id": "eeccb26e",
   "metadata": {},
   "outputs": [
    {
     "data": {
      "text/plain": [
       "Tom,Jerry                                                    80\n",
       "Three Stooges                                                55\n",
       "The Three Stooges                                            47\n",
       "Looney Tunes                                                 37\n",
       "Bugs Bunny                                                   36\n",
       "                                                             ..\n",
       "Vincent Spano, Chris Cooper, Joe Morton, Angela Bassett       1\n",
       "Vicki Frederick, Billy Bob Thornton                           1\n",
       "Brad Dourif, Justin Whalin, Perrey Reeves                     1\n",
       "Ami Dolenz, Karen Black                                       1\n",
       "Halit Ergenç, Tuba Büyüküstün, Mehmet Günsür, Nejat İşler     1\n",
       "Name: Cast, Length: 31464, dtype: int64"
      ]
     },
     "execution_count": 46,
     "metadata": {},
     "output_type": "execute_result"
    }
   ],
   "source": [
    "data.Cast.value_counts()"
   ]
  },
  {
   "cell_type": "code",
   "execution_count": 47,
   "id": "15f5a45e",
   "metadata": {},
   "outputs": [],
   "source": [
    "data['Cast'].mask(data['Cast']=='Unknown', inplace = True)\n",
    "data['Cast'].mask(data['Cast']=='unknown', inplace = True)"
   ]
  },
  {
   "cell_type": "code",
   "execution_count": 48,
   "id": "d228ee38",
   "metadata": {},
   "outputs": [
    {
     "data": {
      "text/plain": [
       "Tom,Jerry                                                                                80\n",
       "Three Stooges                                                                            55\n",
       "The Three Stooges                                                                        47\n",
       "Looney Tunes                                                                             37\n",
       "Bugs Bunny                                                                               36\n",
       "                                                                                         ..\n",
       "Billy Crystal, Daniel Stern, Bruno Kirby, Patricia Wettig, Helen Slater, Jack Palance     1\n",
       "Vincent Spano, Chris Cooper, Joe Morton, Angela Bassett                                   1\n",
       "Vicki Frederick, Billy Bob Thornton                                                       1\n",
       "Brad Dourif, Justin Whalin, Perrey Reeves                                                 1\n",
       "Halit Ergenç, Tuba Büyüküstün, Mehmet Günsür, Nejat İşler                                 1\n",
       "Name: Cast, Length: 31462, dtype: int64"
      ]
     },
     "execution_count": 48,
     "metadata": {},
     "output_type": "execute_result"
    }
   ],
   "source": [
    "data.Cast.value_counts()"
   ]
  },
  {
   "cell_type": "markdown",
   "id": "0b4c5bf3",
   "metadata": {},
   "source": [
    "There are 34886 - 31504 = 3382 missing values for Cast, and there are a lot fewer replications for casts."
   ]
  },
  {
   "cell_type": "code",
   "execution_count": 49,
   "id": "ec91e92f",
   "metadata": {},
   "outputs": [],
   "source": [
    "from pathlib import Path  \n",
    "filepath = Path('../Data/wiki_plots_with_genres_c2.csv')  \n",
    "filepath.parent.mkdir(parents=True, exist_ok=True)  \n",
    "data.to_csv(filepath) "
   ]
  },
  {
   "cell_type": "code",
   "execution_count": null,
   "id": "4b3db71a",
   "metadata": {},
   "outputs": [],
   "source": []
  }
 ],
 "metadata": {
  "kernelspec": {
   "display_name": "Python 3 (ipykernel)",
   "language": "python",
   "name": "python3"
  },
  "language_info": {
   "codemirror_mode": {
    "name": "ipython",
    "version": 3
   },
   "file_extension": ".py",
   "mimetype": "text/x-python",
   "name": "python",
   "nbconvert_exporter": "python",
   "pygments_lexer": "ipython3",
   "version": "3.9.12"
  }
 },
 "nbformat": 4,
 "nbformat_minor": 5
}
