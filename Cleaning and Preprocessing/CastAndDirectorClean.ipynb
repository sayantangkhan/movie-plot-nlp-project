{
 "cells": [
  {
   "cell_type": "code",
   "execution_count": 1,
   "id": "314d4ae3",
   "metadata": {},
   "outputs": [],
   "source": [
    "#import packages\n",
    "import pandas as pd\n",
    "import numpy as np"
   ]
  },
  {
   "cell_type": "code",
   "execution_count": 2,
   "id": "b4465fb8",
   "metadata": {},
   "outputs": [
    {
     "data": {
      "text/html": [
       "<div>\n",
       "<style scoped>\n",
       "    .dataframe tbody tr th:only-of-type {\n",
       "        vertical-align: middle;\n",
       "    }\n",
       "\n",
       "    .dataframe tbody tr th {\n",
       "        vertical-align: top;\n",
       "    }\n",
       "\n",
       "    .dataframe thead th {\n",
       "        text-align: right;\n",
       "    }\n",
       "</style>\n",
       "<table border=\"1\" class=\"dataframe\">\n",
       "  <thead>\n",
       "    <tr style=\"text-align: right;\">\n",
       "      <th></th>\n",
       "      <th>Release Year</th>\n",
       "      <th>Title</th>\n",
       "      <th>Origin/Ethnicity</th>\n",
       "      <th>Director</th>\n",
       "      <th>Cast</th>\n",
       "      <th>Genre</th>\n",
       "      <th>Wiki Page</th>\n",
       "      <th>Plot</th>\n",
       "    </tr>\n",
       "  </thead>\n",
       "  <tbody>\n",
       "    <tr>\n",
       "      <th>0</th>\n",
       "      <td>1901</td>\n",
       "      <td>Kansas Saloon Smashers</td>\n",
       "      <td>American</td>\n",
       "      <td>Unknown</td>\n",
       "      <td>NaN</td>\n",
       "      <td>unknown</td>\n",
       "      <td>https://en.wikipedia.org/wiki/Kansas_Saloon_Sm...</td>\n",
       "      <td>A bartender is working at a saloon, serving dr...</td>\n",
       "    </tr>\n",
       "    <tr>\n",
       "      <th>1</th>\n",
       "      <td>1901</td>\n",
       "      <td>Love by the Light of the Moon</td>\n",
       "      <td>American</td>\n",
       "      <td>Unknown</td>\n",
       "      <td>NaN</td>\n",
       "      <td>unknown</td>\n",
       "      <td>https://en.wikipedia.org/wiki/Love_by_the_Ligh...</td>\n",
       "      <td>The moon, painted with a smiling face hangs ov...</td>\n",
       "    </tr>\n",
       "    <tr>\n",
       "      <th>2</th>\n",
       "      <td>1901</td>\n",
       "      <td>The Martyred Presidents</td>\n",
       "      <td>American</td>\n",
       "      <td>Unknown</td>\n",
       "      <td>NaN</td>\n",
       "      <td>unknown</td>\n",
       "      <td>https://en.wikipedia.org/wiki/The_Martyred_Pre...</td>\n",
       "      <td>The film, just over a minute long, is composed...</td>\n",
       "    </tr>\n",
       "    <tr>\n",
       "      <th>3</th>\n",
       "      <td>1901</td>\n",
       "      <td>Terrible Teddy, the Grizzly King</td>\n",
       "      <td>American</td>\n",
       "      <td>Unknown</td>\n",
       "      <td>NaN</td>\n",
       "      <td>unknown</td>\n",
       "      <td>https://en.wikipedia.org/wiki/Terrible_Teddy,_...</td>\n",
       "      <td>Lasting just 61 seconds and consisting of two ...</td>\n",
       "    </tr>\n",
       "    <tr>\n",
       "      <th>4</th>\n",
       "      <td>1902</td>\n",
       "      <td>Jack and the Beanstalk</td>\n",
       "      <td>American</td>\n",
       "      <td>George S. Fleming, Edwin S. Porter</td>\n",
       "      <td>NaN</td>\n",
       "      <td>unknown</td>\n",
       "      <td>https://en.wikipedia.org/wiki/Jack_and_the_Bea...</td>\n",
       "      <td>The earliest known adaptation of the classic f...</td>\n",
       "    </tr>\n",
       "  </tbody>\n",
       "</table>\n",
       "</div>"
      ],
      "text/plain": [
       "   Release Year                             Title Origin/Ethnicity  \\\n",
       "0          1901            Kansas Saloon Smashers         American   \n",
       "1          1901     Love by the Light of the Moon         American   \n",
       "2          1901           The Martyred Presidents         American   \n",
       "3          1901  Terrible Teddy, the Grizzly King         American   \n",
       "4          1902            Jack and the Beanstalk         American   \n",
       "\n",
       "                             Director Cast    Genre  \\\n",
       "0                             Unknown  NaN  unknown   \n",
       "1                             Unknown  NaN  unknown   \n",
       "2                             Unknown  NaN  unknown   \n",
       "3                             Unknown  NaN  unknown   \n",
       "4  George S. Fleming, Edwin S. Porter  NaN  unknown   \n",
       "\n",
       "                                           Wiki Page  \\\n",
       "0  https://en.wikipedia.org/wiki/Kansas_Saloon_Sm...   \n",
       "1  https://en.wikipedia.org/wiki/Love_by_the_Ligh...   \n",
       "2  https://en.wikipedia.org/wiki/The_Martyred_Pre...   \n",
       "3  https://en.wikipedia.org/wiki/Terrible_Teddy,_...   \n",
       "4  https://en.wikipedia.org/wiki/Jack_and_the_Bea...   \n",
       "\n",
       "                                                Plot  \n",
       "0  A bartender is working at a saloon, serving dr...  \n",
       "1  The moon, painted with a smiling face hangs ov...  \n",
       "2  The film, just over a minute long, is composed...  \n",
       "3  Lasting just 61 seconds and consisting of two ...  \n",
       "4  The earliest known adaptation of the classic f...  "
      ]
     },
     "execution_count": 2,
     "metadata": {},
     "output_type": "execute_result"
    }
   ],
   "source": [
    "#read data\n",
    "data = pd.read_csv('../Data/wiki_movie_plots_deduped.csv')\n",
    "data.head()"
   ]
  },
  {
   "cell_type": "code",
   "execution_count": 3,
   "id": "ada5226e",
   "metadata": {},
   "outputs": [
    {
     "data": {
      "text/plain": [
       "Index(['Release Year', 'Title', 'Origin/Ethnicity', 'Director', 'Cast',\n",
       "       'Genre', 'Wiki Page', 'Plot'],\n",
       "      dtype='object')"
      ]
     },
     "execution_count": 3,
     "metadata": {},
     "output_type": "execute_result"
    }
   ],
   "source": [
    "#get columns of data\n",
    "data.columns"
   ]
  },
  {
   "cell_type": "code",
   "execution_count": 4,
   "id": "6c7757e9",
   "metadata": {},
   "outputs": [],
   "source": [
    "data = data.rename(columns= {'Origin/Ethnicity':'Origin'})"
   ]
  },
  {
   "cell_type": "code",
   "execution_count": 5,
   "id": "e5f6cccb",
   "metadata": {},
   "outputs": [
    {
     "data": {
      "text/html": [
       "<div>\n",
       "<style scoped>\n",
       "    .dataframe tbody tr th:only-of-type {\n",
       "        vertical-align: middle;\n",
       "    }\n",
       "\n",
       "    .dataframe tbody tr th {\n",
       "        vertical-align: top;\n",
       "    }\n",
       "\n",
       "    .dataframe thead th {\n",
       "        text-align: right;\n",
       "    }\n",
       "</style>\n",
       "<table border=\"1\" class=\"dataframe\">\n",
       "  <thead>\n",
       "    <tr style=\"text-align: right;\">\n",
       "      <th></th>\n",
       "      <th>Release Year</th>\n",
       "      <th>Title</th>\n",
       "      <th>Origin</th>\n",
       "      <th>Director</th>\n",
       "      <th>Cast</th>\n",
       "      <th>Genre</th>\n",
       "      <th>Wiki Page</th>\n",
       "      <th>Plot</th>\n",
       "    </tr>\n",
       "  </thead>\n",
       "  <tbody>\n",
       "    <tr>\n",
       "      <th>0</th>\n",
       "      <td>1901</td>\n",
       "      <td>Kansas Saloon Smashers</td>\n",
       "      <td>American</td>\n",
       "      <td>Unknown</td>\n",
       "      <td>NaN</td>\n",
       "      <td>unknown</td>\n",
       "      <td>https://en.wikipedia.org/wiki/Kansas_Saloon_Sm...</td>\n",
       "      <td>A bartender is working at a saloon, serving dr...</td>\n",
       "    </tr>\n",
       "    <tr>\n",
       "      <th>1</th>\n",
       "      <td>1901</td>\n",
       "      <td>Love by the Light of the Moon</td>\n",
       "      <td>American</td>\n",
       "      <td>Unknown</td>\n",
       "      <td>NaN</td>\n",
       "      <td>unknown</td>\n",
       "      <td>https://en.wikipedia.org/wiki/Love_by_the_Ligh...</td>\n",
       "      <td>The moon, painted with a smiling face hangs ov...</td>\n",
       "    </tr>\n",
       "    <tr>\n",
       "      <th>2</th>\n",
       "      <td>1901</td>\n",
       "      <td>The Martyred Presidents</td>\n",
       "      <td>American</td>\n",
       "      <td>Unknown</td>\n",
       "      <td>NaN</td>\n",
       "      <td>unknown</td>\n",
       "      <td>https://en.wikipedia.org/wiki/The_Martyred_Pre...</td>\n",
       "      <td>The film, just over a minute long, is composed...</td>\n",
       "    </tr>\n",
       "    <tr>\n",
       "      <th>3</th>\n",
       "      <td>1901</td>\n",
       "      <td>Terrible Teddy, the Grizzly King</td>\n",
       "      <td>American</td>\n",
       "      <td>Unknown</td>\n",
       "      <td>NaN</td>\n",
       "      <td>unknown</td>\n",
       "      <td>https://en.wikipedia.org/wiki/Terrible_Teddy,_...</td>\n",
       "      <td>Lasting just 61 seconds and consisting of two ...</td>\n",
       "    </tr>\n",
       "    <tr>\n",
       "      <th>4</th>\n",
       "      <td>1902</td>\n",
       "      <td>Jack and the Beanstalk</td>\n",
       "      <td>American</td>\n",
       "      <td>George S. Fleming, Edwin S. Porter</td>\n",
       "      <td>NaN</td>\n",
       "      <td>unknown</td>\n",
       "      <td>https://en.wikipedia.org/wiki/Jack_and_the_Bea...</td>\n",
       "      <td>The earliest known adaptation of the classic f...</td>\n",
       "    </tr>\n",
       "  </tbody>\n",
       "</table>\n",
       "</div>"
      ],
      "text/plain": [
       "   Release Year                             Title    Origin  \\\n",
       "0          1901            Kansas Saloon Smashers  American   \n",
       "1          1901     Love by the Light of the Moon  American   \n",
       "2          1901           The Martyred Presidents  American   \n",
       "3          1901  Terrible Teddy, the Grizzly King  American   \n",
       "4          1902            Jack and the Beanstalk  American   \n",
       "\n",
       "                             Director Cast    Genre  \\\n",
       "0                             Unknown  NaN  unknown   \n",
       "1                             Unknown  NaN  unknown   \n",
       "2                             Unknown  NaN  unknown   \n",
       "3                             Unknown  NaN  unknown   \n",
       "4  George S. Fleming, Edwin S. Porter  NaN  unknown   \n",
       "\n",
       "                                           Wiki Page  \\\n",
       "0  https://en.wikipedia.org/wiki/Kansas_Saloon_Sm...   \n",
       "1  https://en.wikipedia.org/wiki/Love_by_the_Ligh...   \n",
       "2  https://en.wikipedia.org/wiki/The_Martyred_Pre...   \n",
       "3  https://en.wikipedia.org/wiki/Terrible_Teddy,_...   \n",
       "4  https://en.wikipedia.org/wiki/Jack_and_the_Bea...   \n",
       "\n",
       "                                                Plot  \n",
       "0  A bartender is working at a saloon, serving dr...  \n",
       "1  The moon, painted with a smiling face hangs ov...  \n",
       "2  The film, just over a minute long, is composed...  \n",
       "3  Lasting just 61 seconds and consisting of two ...  \n",
       "4  The earliest known adaptation of the classic f...  "
      ]
     },
     "execution_count": 5,
     "metadata": {},
     "output_type": "execute_result"
    }
   ],
   "source": [
    "data.head()"
   ]
  },
  {
   "cell_type": "markdown",
   "id": "aed9970b",
   "metadata": {},
   "source": [
    "Let's first look at the \"Origin\" column."
   ]
  },
  {
   "cell_type": "code",
   "execution_count": 6,
   "id": "79a4ed0a",
   "metadata": {},
   "outputs": [
    {
     "data": {
      "text/plain": [
       "array(['American', 'Australian', 'Bangladeshi', 'British', 'Canadian',\n",
       "       'Chinese', 'Egyptian', 'Hong Kong', 'Filipino', 'Assamese',\n",
       "       'Bengali', 'Bollywood', 'Kannada', 'Malayalam', 'Marathi',\n",
       "       'Punjabi', 'Tamil', 'Telugu', 'Japanese', 'Malaysian', 'Maldivian',\n",
       "       'Russian', 'South_Korean', 'Turkish'], dtype=object)"
      ]
     },
     "execution_count": 6,
     "metadata": {},
     "output_type": "execute_result"
    }
   ],
   "source": [
    "data.Origin.unique()"
   ]
  },
  {
   "cell_type": "code",
   "execution_count": 7,
   "id": "68f3318d",
   "metadata": {},
   "outputs": [
    {
     "data": {
      "text/plain": [
       "24"
      ]
     },
     "execution_count": 7,
     "metadata": {},
     "output_type": "execute_result"
    }
   ],
   "source": [
    "len(list(data.Origin.unique()))"
   ]
  },
  {
   "cell_type": "markdown",
   "id": "d0549bd0",
   "metadata": {},
   "source": [
    "Movies in this data set comes from 24 different counties/ regions."
   ]
  },
  {
   "cell_type": "code",
   "execution_count": 8,
   "id": "e021bd4a",
   "metadata": {},
   "outputs": [
    {
     "data": {
      "text/plain": [
       "count        34886\n",
       "unique          24\n",
       "top       American\n",
       "freq         17377\n",
       "Name: Origin, dtype: object"
      ]
     },
     "execution_count": 8,
     "metadata": {},
     "output_type": "execute_result"
    }
   ],
   "source": [
    "data.Origin.describe() "
   ]
  },
  {
   "cell_type": "markdown",
   "id": "e78b8c29",
   "metadata": {},
   "source": [
    "There seems to be no missing values for \"Origin\".  "
   ]
  },
  {
   "cell_type": "code",
   "execution_count": 9,
   "id": "3618e3cb",
   "metadata": {},
   "outputs": [
    {
     "data": {
      "text/plain": [
       "American        17377\n",
       "British          3670\n",
       "Bollywood        2931\n",
       "Tamil            2599\n",
       "Telugu           1311\n",
       "Japanese         1188\n",
       "Malayalam        1095\n",
       "Hong Kong         791\n",
       "Canadian          723\n",
       "Australian        576\n",
       "South_Korean      522\n",
       "Chinese           463\n",
       "Kannada           444\n",
       "Bengali           306\n",
       "Russian           232\n",
       "Marathi           141\n",
       "Filipino          128\n",
       "Bangladeshi        87\n",
       "Punjabi            84\n",
       "Malaysian          70\n",
       "Turkish            70\n",
       "Egyptian           67\n",
       "Assamese            9\n",
       "Maldivian           2\n",
       "Name: Origin, dtype: int64"
      ]
     },
     "execution_count": 9,
     "metadata": {},
     "output_type": "execute_result"
    }
   ],
   "source": [
    "data.Origin.value_counts()"
   ]
  },
  {
   "cell_type": "markdown",
   "id": "5bc95009",
   "metadata": {},
   "source": [
    "Around 50% of the movies in this data set are from America.  "
   ]
  },
  {
   "cell_type": "markdown",
   "id": "7258a902",
   "metadata": {},
   "source": [
    "Let's clear the data for column 'Director' and 'Cast'."
   ]
  },
  {
   "cell_type": "code",
   "execution_count": 10,
   "id": "c6e30c1f",
   "metadata": {},
   "outputs": [],
   "source": [
    "# regularize the format of Director and Cast by seperate names using ',' \n",
    "data['Director'] = data['Director'].str.replace('and',',')\n",
    "data['Director'] = data['Director'].str.replace('/',',')\n",
    "data['Cast'] = data['Cast'].str.replace('and',',')\n",
    "data['Cast'] = data['Cast'].str.replace('/',',')"
   ]
  },
  {
   "cell_type": "code",
   "execution_count": 11,
   "id": "c8025e90",
   "metadata": {},
   "outputs": [
    {
     "data": {
      "text/plain": [
       "count       34886\n",
       "unique      12593\n",
       "top       Unknown\n",
       "freq         1124\n",
       "Name: Director, dtype: object"
      ]
     },
     "execution_count": 11,
     "metadata": {},
     "output_type": "execute_result"
    }
   ],
   "source": [
    "data.Director.describe()"
   ]
  },
  {
   "cell_type": "code",
   "execution_count": 12,
   "id": "4fda4837",
   "metadata": {},
   "outputs": [
    {
     "data": {
      "text/plain": [
       "Unknown                1124\n",
       "Michael Curtiz           79\n",
       "Hanna-Barbera            77\n",
       "Lloyd Bacon              66\n",
       "Jules White              63\n",
       "                       ... \n",
       "Brian Clemens             1\n",
       "Lester James Peries       1\n",
       "Maurice Hamblin           1\n",
       "Trevor Wrenn              1\n",
       "Ferzan Özpetek            1\n",
       "Name: Director, Length: 12593, dtype: int64"
      ]
     },
     "execution_count": 12,
     "metadata": {},
     "output_type": "execute_result"
    }
   ],
   "source": [
    "data.Director.value_counts()"
   ]
  },
  {
   "cell_type": "markdown",
   "id": "253a3720",
   "metadata": {},
   "source": [
    "At fist it seems that there are no missing values for director, yet there are 1124 of the movies have \"unknown\" as director. Let's mark \"Unknown\" as missing. "
   ]
  },
  {
   "cell_type": "code",
   "execution_count": 13,
   "id": "dec2bb78",
   "metadata": {},
   "outputs": [],
   "source": [
    "data['Director'].mask(data['Director']=='Unknown', inplace = True)"
   ]
  },
  {
   "cell_type": "code",
   "execution_count": 14,
   "id": "7bd73619",
   "metadata": {},
   "outputs": [
    {
     "data": {
      "text/plain": [
       "Michael Curtiz         79\n",
       "Hanna-Barbera          77\n",
       "Lloyd Bacon            66\n",
       "Jules White            63\n",
       "John Ford              59\n",
       "                       ..\n",
       "Brian Clemens           1\n",
       "Lester James Peries     1\n",
       "Maurice Hamblin         1\n",
       "Trevor Wrenn            1\n",
       "Ferzan Özpetek          1\n",
       "Name: Director, Length: 12592, dtype: int64"
      ]
     },
     "execution_count": 14,
     "metadata": {},
     "output_type": "execute_result"
    }
   ],
   "source": [
    "data.Director.value_counts()"
   ]
  },
  {
   "cell_type": "code",
   "execution_count": 15,
   "id": "9e48c578",
   "metadata": {},
   "outputs": [
    {
     "data": {
      "text/plain": [
       "count           33464\n",
       "unique          32182\n",
       "top       Tom , Jerry\n",
       "freq               80\n",
       "Name: Cast, dtype: object"
      ]
     },
     "execution_count": 15,
     "metadata": {},
     "output_type": "execute_result"
    }
   ],
   "source": [
    "data.Cast.describe()"
   ]
  },
  {
   "cell_type": "code",
   "execution_count": 16,
   "id": "eeccb26e",
   "metadata": {},
   "outputs": [
    {
     "data": {
      "text/plain": [
       "Tom , Jerry                                                  80\n",
       "Three Stooges                                                56\n",
       "The Three Stooges                                            47\n",
       "Looney Tunes                                                 37\n",
       "Bugs Bunny                                                   36\n",
       "                                                             ..\n",
       "Steve Martin, Goldie Hawn, Dana Delany                        1\n",
       "Nicolas Cage, James Caan, Sarah Jessica Parker                1\n",
       "Rick Moranis, Marcia Strassman                                1\n",
       "Macaulay Culkin, Joe Pesci, Daniel Stern                      1\n",
       "Halit Ergenç, Tuba Büyüküstün, Mehmet Günsür, Nejat İşler     1\n",
       "Name: Cast, Length: 32182, dtype: int64"
      ]
     },
     "execution_count": 16,
     "metadata": {},
     "output_type": "execute_result"
    }
   ],
   "source": [
    "data.Cast.value_counts()"
   ]
  },
  {
   "cell_type": "markdown",
   "id": "0b4c5bf3",
   "metadata": {},
   "source": [
    "There are 34886 - 33464 = 1422 missing values for Cast, and there are a lot fewer replications for casts."
   ]
  },
  {
   "cell_type": "code",
   "execution_count": 17,
   "id": "ec91e92f",
   "metadata": {},
   "outputs": [],
   "source": [
    "from pathlib import Path  \n",
    "filepath = Path('../Data/wiki_movie_plots_deduped_c1.csv')  \n",
    "filepath.parent.mkdir(parents=True, exist_ok=True)  \n",
    "data.to_csv(filepath) "
   ]
  },
  {
   "cell_type": "code",
   "execution_count": null,
   "id": "ff83044d",
   "metadata": {},
   "outputs": [],
   "source": []
  }
 ],
 "metadata": {
  "kernelspec": {
   "display_name": "Python 3 (ipykernel)",
   "language": "python",
   "name": "python3"
  },
  "language_info": {
   "codemirror_mode": {
    "name": "ipython",
    "version": 3
   },
   "file_extension": ".py",
   "mimetype": "text/x-python",
   "name": "python",
   "nbconvert_exporter": "python",
   "pygments_lexer": "ipython3",
   "version": "3.9.7"
  }
 },
 "nbformat": 4,
 "nbformat_minor": 5
}
